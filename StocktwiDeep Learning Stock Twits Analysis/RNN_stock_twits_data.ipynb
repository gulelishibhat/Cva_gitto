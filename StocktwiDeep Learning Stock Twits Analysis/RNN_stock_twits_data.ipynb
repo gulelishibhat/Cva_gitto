{
  "nbformat": 4,
  "nbformat_minor": 0,
  "metadata": {
    "colab": {
      "name": "RNN_stock_twits_data.ipynb",
      "provenance": [],
      "collapsed_sections": []
    },
    "kernelspec": {
      "name": "python3",
      "display_name": "Python 3"
    },
    "language_info": {
      "name": "python"
    }
  },
  "cells": [
    {
      "cell_type": "markdown",
      "source": [
        "I plan to choose the particular type of tweets, stocktwits.com which has tweets related to the stock market. The tweets are particularly of two sentiments like positive the stock price will go up(bull) and the negative the stock price will go down(bearish). I gathered more than 2000 stocktwits for different tickers which were recent to a few years ago.These tweets are 100 files, each file for each ticker. So I  use the glob module to merge them into a single file. After that I change the merged dataset into the pandas dataframe, as it is easy to work. Here I build the supervised RNN model  and LSTM model to classify the sentiment of the text data. I further evaluate the performance of the two model. \n"
      ],
      "metadata": {
        "id": "P8chUVP2zWOl"
      }
    },
    {
      "cell_type": "markdown",
      "source": [
        ""
      ],
      "metadata": {
        "id": "orbqtmTZyk85"
      }
    },
    {
      "cell_type": "markdown",
      "source": [
        "#Importing the necessary modules\n"
      ],
      "metadata": {
        "id": "bYkli-00ymK9"
      }
    },
    {
      "cell_type": "code",
      "source": [
        "import pandas as pd\n",
        "import numpy as np\n",
        "import pandas as pd \n",
        "import matplotlib.pyplot as plt\n",
        "import re\n",
        "import nltk\n",
        "from nltk.tokenize import TweetTokenizer\n",
        "from nltk.stem import WordNetLemmatizer\n",
        "from nltk.stem import PorterStemmer\n",
        "from nltk.corpus import stopwords\n",
        "import gensim\n",
        "import itertools\n",
        "from keras.layers import SimpleRNN, Embedding, Dense, LSTM\n",
        "from keras.models import Sequential\n",
        "from keras.preprocessing.text import Tokenizer\n",
        "from keras.preprocessing.sequence import pad_sequences\n",
        "from keras import regularizers"
      ],
      "metadata": {
        "id": "7M6zIBQy2MfI"
      },
      "execution_count": null,
      "outputs": []
    },
    {
      "cell_type": "code",
      "source": [
        "nltk.download('wordnet')\n",
        "nltk.download('stopwords')"
      ],
      "metadata": {
        "id": "CD9NLtdIBUqW",
        "colab": {
          "base_uri": "https://localhost:8080/"
        },
        "outputId": "4199c2d9-6830-4080-ef11-1ffea4b21bbe"
      },
      "execution_count": null,
      "outputs": [
        {
          "output_type": "stream",
          "name": "stdout",
          "text": [
            "[nltk_data] Downloading package wordnet to /root/nltk_data...\n",
            "[nltk_data]   Package wordnet is already up-to-date!\n",
            "[nltk_data] Downloading package stopwords to /root/nltk_data...\n",
            "[nltk_data]   Package stopwords is already up-to-date!\n"
          ]
        },
        {
          "output_type": "execute_result",
          "data": {
            "text/plain": [
              "True"
            ]
          },
          "metadata": {},
          "execution_count": 4
        }
      ]
    },
    {
      "cell_type": "markdown",
      "source": [
        "#Data cleaning"
      ],
      "metadata": {
        "id": "dac7fiLR1a5H"
      }
    },
    {
      "cell_type": "code",
      "execution_count": null,
      "metadata": {
        "id": "f7V3x0IO3DE-"
      },
      "outputs": [],
      "source": [
        "# reading the csv file\n",
        "df_google = pd.read_csv('/content/drive/MyDrive/Spring_board_EDA/df_go_score_twits.csv')"
      ]
    },
    {
      "cell_type": "code",
      "source": [
        "def clean_tweet(tweet):\n",
        "  tweet = re.sub(r\"[$]\\w+\", \"\", tweet)# remove the tickers at any place with dollar sign\n",
        "  tweet = re.sub(r\"[u]\\d+\", \"\", tweet)# remove anything starting with u and the digits\n",
        "  tweet = re.sub('\\S*@\\S*\\s?', '', tweet)#remove emails\n",
        "  tweet=  re.sub('((www\\.[^\\s]+)|(https?://[^\\s]+))','', tweet)# remove the url\n",
        "  tweet = ' '.join(re.sub('(@[A-Za-z0-9]+)|([^A-Za-z0-9 \\t])|(\\w+:\\/\\/\\S+)', ' ', tweet).lower().split())\n",
        "  tweet = lemmatizer.lemmatize(tweet)\n",
        "  #tweet = porters.stem(tweet)\n",
        "  return tweet"
      ],
      "metadata": {
        "id": "hNJ2aP103N8D"
      },
      "execution_count": null,
      "outputs": []
    },
    {
      "cell_type": "code",
      "source": [
        "lemmatizer = WordNetLemmatizer()\n",
        "#porters = PorterStemmer()\n",
        "df_google[\"Clean_Tweet\"] = df_google['twits'].apply(lambda x: clean_tweet(x))"
      ],
      "metadata": {
        "id": "KyCtBzfI7CQ6"
      },
      "execution_count": null,
      "outputs": []
    },
    {
      "cell_type": "code",
      "source": [
        "df_google[\"Clean_Tweet\"][1]"
      ],
      "metadata": {
        "colab": {
          "base_uri": "https://localhost:8080/",
          "height": 53
        },
        "id": "F--TQqbV7fNL",
        "outputId": "40ad50b6-705b-4c4c-b1e3-a11149bc6154"
      },
      "execution_count": null,
      "outputs": [
        {
          "output_type": "execute_result",
          "data": {
            "application/vnd.google.colaboratory.intrinsic+json": {
              "type": "string"
            },
            "text/plain": [
              "'asxc this is the future of surgery with senhance no other competitor has this kind of ai technology senhance will be the gold standard for surgery in the upcoming years minimum buyout value 2 4b per share'"
            ]
          },
          "metadata": {},
          "execution_count": 8
        }
      ]
    },
    {
      "cell_type": "code",
      "source": [
        "stops = stopwords.words('english')\n",
        "# we can find lots of single letters so append with the stop words\n",
        "list_stops = ['a', 'b', 'c', 'd', 'e', 'f', 'g', 'h', 'i', 'j', 'l','m', 'n', 'o', 'p', 'q', 'r', 's', 't', 'u','v', 'w', 'x', 'y', 'z']\n",
        "for i in list_stops:\n",
        "    stops.append(i)"
      ],
      "metadata": {
        "id": "2VAaqX_H7FPh"
      },
      "execution_count": null,
      "outputs": []
    },
    {
      "cell_type": "code",
      "source": [
        "#remove the stop words\n",
        "df_google['Clean_Tweet_rm'] = df_google['Clean_Tweet'].apply(lambda x: [item for item in x.split() if item not in stops])"
      ],
      "metadata": {
        "id": "wh1mdFHX7MRh"
      },
      "execution_count": null,
      "outputs": []
    },
    {
      "cell_type": "code",
      "source": [
        "#join the words after the stop words are removed\n",
        "df_google['Clean_Tweet_rm'] = df_google['Clean_Tweet_rm'].apply(lambda x: ' '.join(x))"
      ],
      "metadata": {
        "id": "HM6DObtG8f3g"
      },
      "execution_count": null,
      "outputs": []
    },
    {
      "cell_type": "code",
      "source": [
        "df_google['Clean_Tweet_rm'][1]"
      ],
      "metadata": {
        "colab": {
          "base_uri": "https://localhost:8080/",
          "height": 35
        },
        "id": "FnP5nfu_8mex",
        "outputId": "475ddf44-922f-4d5f-b543-56816d20d4eb"
      },
      "execution_count": null,
      "outputs": [
        {
          "output_type": "execute_result",
          "data": {
            "application/vnd.google.colaboratory.intrinsic+json": {
              "type": "string"
            },
            "text/plain": [
              "'asxc future surgery senhance competitor kind ai technology senhance gold standard surgery upcoming years minimum buyout value 2 4b per share'"
            ]
          },
          "metadata": {},
          "execution_count": 12
        }
      ]
    },
    {
      "cell_type": "code",
      "source": [
        "t = []\n",
        "k = []\n",
        "for i in range(0, len(df_google[\"Clean_Tweet_rm\"])):\n",
        "  t.append(len(df_google[\"Clean_Tweet_rm\"][i].split()))\n",
        "  k.append(df_google[\"Clean_Tweet_rm\"][i].split())\n"
      ],
      "metadata": {
        "id": "fmn2QdlaRaDj"
      },
      "execution_count": null,
      "outputs": []
    },
    {
      "cell_type": "code",
      "source": [
        "max_features = len(set(list(itertools.chain.from_iterable(k))))\n",
        "print(max_features)"
      ],
      "metadata": {
        "colab": {
          "base_uri": "https://localhost:8080/"
        },
        "id": "WV4hV_SgEg6p",
        "outputId": "d438b513-3391-4829-9009-12a8e6671468"
      },
      "execution_count": null,
      "outputs": [
        {
          "output_type": "stream",
          "name": "stdout",
          "text": [
            "5421\n"
          ]
        }
      ]
    },
    {
      "cell_type": "code",
      "source": [
        "max(t), len(t), sum(t)"
      ],
      "metadata": {
        "colab": {
          "base_uri": "https://localhost:8080/"
        },
        "id": "TaATg88H8yr4",
        "outputId": "7004397a-9b85-4799-f946-136f277ecaf3"
      },
      "execution_count": null,
      "outputs": [
        {
          "output_type": "execute_result",
          "data": {
            "text/plain": [
              "(133, 2737, 33864)"
            ]
          },
          "metadata": {},
          "execution_count": 15
        }
      ]
    },
    {
      "cell_type": "code",
      "source": [
        "df_google[\"Clean_Tweet_rm\"]"
      ],
      "metadata": {
        "colab": {
          "base_uri": "https://localhost:8080/"
        },
        "id": "rr0asT208NVF",
        "outputId": "19516fa7-76b1-4adb-a744-c508d3d6d3f5"
      },
      "execution_count": null,
      "outputs": [
        {
          "output_type": "execute_result",
          "data": {
            "text/plain": [
              "0       site traffic direct sales revelation 2020 cont...\n",
              "1       asxc future surgery senhance competitor kind a...\n",
              "2       stock market tanked couple times unmoved tradi...\n",
              "3       loss sucks right 39 debated selling taking los...\n",
              "4       lot warrants profitable far anyone know suppos...\n",
              "                              ...                        \n",
              "2732    new sec filing evp general counsel corp sec da...\n",
              "2733       evp anika therapeutics inc picked 2 500 shares\n",
              "2734                                          22 end week\n",
              "2735    15s delayed filed sec form 4 evp general couns...\n",
              "2736    ud83d udcdc sec form 4 david colleran exercise...\n",
              "Name: Clean_Tweet_rm, Length: 2737, dtype: object"
            ]
          },
          "metadata": {},
          "execution_count": 16
        }
      ]
    },
    {
      "cell_type": "code",
      "source": [
        "df_google[\"Clean_Tweet_rm\"][1].split()"
      ],
      "metadata": {
        "colab": {
          "base_uri": "https://localhost:8080/"
        },
        "id": "8dl5aa0dSG5O",
        "outputId": "6467dd49-4578-4f2e-c0b0-53a5e35ca273"
      },
      "execution_count": null,
      "outputs": [
        {
          "output_type": "execute_result",
          "data": {
            "text/plain": [
              "['asxc',\n",
              " 'future',\n",
              " 'surgery',\n",
              " 'senhance',\n",
              " 'competitor',\n",
              " 'kind',\n",
              " 'ai',\n",
              " 'technology',\n",
              " 'senhance',\n",
              " 'gold',\n",
              " 'standard',\n",
              " 'surgery',\n",
              " 'upcoming',\n",
              " 'years',\n",
              " 'minimum',\n",
              " 'buyout',\n",
              " 'value',\n",
              " '2',\n",
              " '4b',\n",
              " 'per',\n",
              " 'share']"
            ]
          },
          "metadata": {},
          "execution_count": 17
        }
      ]
    },
    {
      "cell_type": "markdown",
      "source": [
        ""
      ],
      "metadata": {
        "id": "6V6m6GMiO3KU"
      }
    },
    {
      "cell_type": "code",
      "source": [
        "max_words = 48331\n",
        "max_len = 500\n",
        "#def token_vector(data):\n",
        "tokenizer = Tokenizer(num_words=max_words)\n",
        "tokenizer.fit_on_texts(df_google['Clean_Tweet_rm'])\n",
        "sequences = tokenizer.texts_to_sequences(df_google['Clean_Tweet_rm'])\n",
        "df_google_vector = pad_sequences(sequences, maxlen=max_len)\n",
        "word_index = tokenizer.word_index\n",
        "\n",
        "print(word_index)\n",
        "  #print(tweets)"
      ],
      "metadata": {
        "colab": {
          "base_uri": "https://localhost:8080/"
        },
        "id": "vVUo2Rg_Jzvg",
        "outputId": "113a943f-8887-4af3-d4be-f938a7f36fec"
      },
      "execution_count": null,
      "outputs": [
        {
          "output_type": "stream",
          "name": "stdout",
          "text": [
            "{'amp': 1, 'form': 2, 'shares': 3, 'filed': 4, 'ud83d': 5, '39': 6, 'sec': 7, 'utm': 8, 'price': 9, '4': 10, 'new': 11, '2': 12, '2021': 13, 'stock': 14, '3': 15, 'time': 16, '00': 17, 'delayed': 18, '15s': 19, 'american': 20, 'securities': 21, 'sold': 22, 'k': 23, 'large': 24, '1': 25, 'surgery': 26, 'senhance': 27, 'inc': 28, 'amount': 29, 'share': 30, 'size': 31, 'print': 32, '8': 33, 'common': 34, 'ownership': 35, 'day': 36, 'medium': 37, 'view': 38, 'odds': 39, 'campaign': 40, '0': 41, 'stocks': 42, 'insider': 43, '10': 44, 'corp': 45, 'units': 46, 'filing': 47, 'announces': 48, 'indicators': 49, 'technology': 50, 'ude80': 51, 'udcdc': 52, 'average': 53, 'director': 54, '12': 55, 'ud83c': 56, 'buy': 57, 'today': 58, 'article': 59, 'upcoming': 60, 'value': 61, 'years': 62, 'financial': 63, 'march': 64, '03': 65, 'report': 66, '5': 67, '50': 68, '16': 69, 'pharmaceuticals': 70, 'per': 71, '2020': 72, 'acquisition': 73, 'buyout': 74, 'ai': 75, 'big': 76, 'quot': 77, '15': 78, 'going': 79, 'future': 80, 'market': 81, 'trade': 82, '01': 83, 'kind': 84, 'minimum': 85, 'president': 86, 'gold': 87, 'standard': 88, '4b': 89, '6': 90, 'asxc': 91, 'competitor': 92, 'dividend': 93, '1600': 94, 'volume': 95, 'disposed': 96, 'files': 97, 'last': 98, 'moving': 99, 'get': 100, 'company': 101, 'uptrend': 102, 'management': 103, '000': 104, 'see': 105, 'certain': 106, 'worth': 107, 'earnings': 108, 'reported': 109, 'short': 110, 'social': 111, 'like': 112, '7': 113, 'chief': 114, 'total': 115, 'officer': 116, 'daily': 117, 'issued': 118, 'options': 119, 'trades': 120, 'statement': 121, 'days': 122, '22': 123, 'high': 124, 'fund': 125, 'trading': 126, 'good': 127, '20': 128, 'david': 129, 'rule': 130, 'beneficial': 131, 'news': 132, 'one': 133, 'position': 134, 'february': 135, 'group': 136, 'content': 137, 'tracking': 138, 'acquired': 139, 'udfaf': 140, 'release': 141, 'holdings': 142, 'midstream': 143, 'term': 144, '19': 145, 'referral': 146, 'still': 147, 'go': 148, 'quarter': 149, 'virtual': 150, '89': 151, 'results': 152, 'back': 153, 'think': 154, 'downtrend': 155, 'partners': 156, '14': 157, 'press': 158, 'officers': 159, 'evp': 160, 'anacor': 161, 'investor': 162, 'llc': 163, 'week': 164, 'conviction': 165, 'next': 166, 'reports': 167, '13': 168, 'sale': 169, 'conference': 170, '9': 171, 'amsurg': 172, 'pr': 173, 'true': 174, 'ishares': 175, '08': 176, 'call': 177, '21': 178, 'transaction': 179, 'investors': 180, 'ltd': 181, 'bought': 182, '13g': 183, 'us': 184, 'oil': 185, 'forum': 186, 'subject': 187, 'indicator': 188, 'could': 189, 'definitive': 190, '11': 191, '09': 192, 'corporation': 193, 'finance': 194, 'may': 195, 'gt': 196, 'money': 197, 'ndelivered': 198, 'national': 199, 'would': 200, 'selling': 201, 'year': 202, 'portfolio': 203, 'participate': 204, 'anatara': 205, 'asx': 206, 'shareholders': 207, 'annual': 208, 'ceo': 209, 'sell': 210, '23': 211, 'holding': 212, 'section': 213, 'registration': 214, 'low': 215, 'anr': 216, '25': 217, 'top': 218, 'ud83e': 219, 'proxy': 220, '18': 221, 'months': 222, 'third': 223, 'sc': 224, 'general': 225, 'albany': 226, 'lifesciences': 227, 'update': 228, '30': 229, 'stocktwits': 230, 'eps': 231, 'granted': 232, 'alert': 233, 'ann': 234, 'know': 235, 'make': 236, 'growth': 237, 'er': 238, 'free': 239, 'directors': 240, 'notice': 241, 'sidoti': 242, '16b': 243, 'direct': 244, 'quarterly': 245, 'moved': 246, 'material': 247, '24': 248, 'let': 249, 'udce9': 250, '02': 251, '31': 252, 'ago': 253, 'energy': 254, 'pacific': 255, 'check': 256, 'recent': 257, 'close': 258, 'largest': 259, 'long': 260, 'screener': 261, 'spring': 262, 'a0': 263, 'molecular': 264, 'anaren': 265, 'right': 266, 'minutes': 267, 'announced': 268, 'data': 269, 'post': 270, '200': 271, 'detected': 272, 'ansys': 273, 'also': 274, 'business': 275, '28': 276, 'investment': 277, 'pt': 278, '05': 279, 'executive': 280, 'effective': 281, 'source': 282, 'something': 283, 'asia': 284, 'anyone': 285, 'agreement': 286, 'november': 287, 'bollinger': 288, 'band': 289, 'etf': 290, 'core': 291, 'chart': 292, 'move': 293, 'increasing': 294, 'increased': 295, 'activity': 296, 'class': 297, 'election': 298, '27': 299, 'aberdeen': 300, 'dynamic': 301, 'million': 302, '59': 303, 'potential': 304, 'january': 305, 'positions': 306, 'funds': 307, 'stockmarket': 308, 'changes': 309, 'via': 310, 'senior': 311, 'john': 312, 'shareholder': 313, 'law': 314, 'udf15': 315, 'amag': 316, 'trust': 317, 'merger': 318, 'statements': 319, 'asset': 320, 'cfo': 321, 'strong': 322, 'even': 323, 'nasdaq': 324, 'unusual': 325, 'buying': 326, 'email': 327, '26': 328, 'hold': 329, 'date': 330, 'termination': 331, 'coast': 332, 'lp': 333, 'morgan': 334, 'public': 335, 'phazar': 336, 'warrants': 337, 'list': 338, '48': 339, 'abnnewswire': 340, 'allocation': 341, 'made': 342, 'change': 343, '17': 344, 'insidertrading': 345, 'fintechnews': 346, '04': 347, 'expiring': 348, 'cost': 349, 'healthcare': 350, 'read': 351, 'departure': 352, '07': 353, 'action': 354, 'monthly': 355, 'behalf': 356, 'william': 357, 'amreit': 358, 'autonavi': 359, 'target': 360, 'end': 361, 'small': 362, 'opened': 363, 'three': 364, 'momentum': 365, 'entry': 366, 'initiated': 367, 'sweepcast': 368, 'observed': 369, 'alerted': 370, 'profile': 371, 'link': 372, '51': 373, '67': 374, 'pressrelease': 375, '06': 376, 'drug': 377, 'got': 378, 'distribution': 379, 'since': 380, 'run': 381, 'exotic': 382, 'movement': 383, 'expected': 384, 'prices': 385, 'exhibits': 386, 'approval': 387, 'lower': 388, 'consecutive': 389, 'level': 390, 'zone': 391, 'advisors': 392, 'vp': 393, 'soliciting': 394, 'materials': 395, 'need': 396, 'estimates': 397, '46': 398, 'reporting': 399, 'calls': 400, 'drop': 401, 'angiodynamics': 402, '400': 403, 'america': 404, 'decreasing': 405, '65': 406, 'lol': 407, 'offered': 408, 'plans': 409, 'amendments': 410, 'alexza': 411, 'loss': 412, 'hope': 413, '60': 414, 'people': 415, 'two': 416, 'december': 417, 'enters': 418, '42': 419, 'green': 420, 'closed': 421, 'come': 422, '32': 423, 'udc02': 424, 'opportunity': 425, 'well': 426, 'angion': 427, 'chat': 428, '500': 429, 'biosciences': 430, 'vice': 431, 'ndisposed': 432, 'keep': 433, 'michael': 434, 'response': 435, 'nbuy': 436, '43': 437, 'stanley': 438, 'thomas': 439, 'caresource': 440, 'tower': 441, 'look': 442, '75': 443, 'added': 444, 'prospectuses': 445, 'life': 446, '13f': 447, '33': 448, 'wow': 449, 'great': 450, 'decreased': 451, '34': 452, 'smith': 453, 'watch': 454, '40': 455, 'closing': 456, 'tomorrow': 457, '38': 458, 'bullish': 459, 'previously': 460, 'nothing': 461, 'first': 462, 'firm': 463, 'order': 464, 'micro': 465, 'provided': 466, 'employees': 467, 'employee': 468, 'benefit': 469, 'assets': 470, 'named': 471, 'amedisys': 472, 'pomerantz': 473, 'offering': 474, 'suggesting': 475, 'limited': 476, 'private': 477, 'education': 478, 'vyleesi': 479, 'ambit': 480, 'play': 481, 'received': 482, 'q4': 483, 'hedge': 484, 'rate': 485, 'feel': 486, 'ordinary': 487, 'strike': 488, '35': 489, 'china': 490, 'soon': 491, '36': 492, 'picked': 493, 'institutions': 494, 'calendar': 495, 'goto': 496, 'capital': 497, 'compensatory': 498, 'arrangements': 499, 'higher': 500, 'com': 501, '29': 502, 'svp': 503, 'thing': 504, 'record': 505, 'exercise': 506, 'events': 507, 'joseph': 508, '100': 509, 'air': 510, 'gas': 511, 'amerisafe': 512, 'resources': 513, 'airmedia': 514, 'sales': 515, 'exhibit': 516, '8k': 517, 'present': 518, 'exceeded': 519, 'breaks': 520, '98': 521, 'type': 522, 'ufe0f': 523, 'coverage': 524, '958': 525, 'additional': 526, 'guys': 527, 'negative': 528, 'technical': 529, 'meeting': 530, 'credit': 531, 'possible': 532, 'stop': 533, 'latest': 534, 'fourth': 535, 'biotech': 536, 'fireside': 537, 'either': 538, 'allied': 539, '45': 540, 'companies': 541, 'put': 542, 'applied': 543, 'artisan': 544, '44': 545, 'within': 546, 'deals': 547, 'entire': 548, '8f': 549, 'apco': 550, 'independence': 551, 'conversion': 552, 'anchor': 553, 'jump': 554, 'team': 555, 'looks': 556, 'wealth': 557, 'coming': 558, 'way': 559, 'broke': 560, 'miss': 561, 'watching': 562, 'div': 563, '66': 564, 'red': 565, 'exercised': 566, 'another': 567, 'breakout': 568, 'services': 569, 'showing': 570, 'easy': 571, '94': 572, '52': 573, 'huge': 574, 'patrick': 575, 'remarks': 576, 'partial': 577, 'waiver': 578, 'lock': 579, 'restrictions': 580, 'left': 581, '49': 582, 'alexander': 583, 'udcf0': 584, 'wrong': 585, 'reminds': 586, 'motion': 587, 'robert': 588, 'individuals': 589, 'pay': 590, 'held': 591, 'cents': 592, 'information': 593, 'partner': 594, 'advance': 595, 'approximately': 596, 'claims': 597, 'anadarko': 598, 'bancorp': 599, 'supply': 600, 'using': 601, 'dip': 602, 'mergerbrief': 603, 'submission': 604, 'administration': 605, '37': 606, 'taking': 607, 'presentation': 608, 'communications': 609, 'combinations': 610, 'rights': 611, 'covid': 612, 'many': 613, 'mortgage': 614, 'rsi': 615, 'oversold': 616, 'trend': 617, 'q1': 618, '99': 619, '55': 620, 'signals': 621, 'wells': 622, 'fargo': 623, '41': 624, 'nconverted': 625, 'fuel': 626, 'proposal': 627, 'exchange': 628, 'def': 629, '14a': 630, 'singelyn': 631, '58': 632, 'access': 633, 'n1': 634, 'live': 635, 'rating': 636, 'reiterated': 637, 'cup': 638, 'risk': 639, '57': 640, 'use': 641, 'someone': 642, 'ngranted': 643, 'signal': 644, 'getting': 645, 'bad': 646, 'deadline': 647, 'analysts': 648, 'bears': 649, 'best': 650, 'digest': 651, 'alexion': 652, 'analyst': 653, 'pharma': 654, 'software': 655, 'platform': 656, 'say': 657, 'bearish': 658, 'bull': 659, 'past': 660, 'insurance': 661, 'pos': 662, 'listing': 663, 'international': 664, '2014': 665, 'notes': 666, 'issuers': 667, 'products': 668, 'anadigics': 669, 'counsel': 670, 'ameresco': 671, 'food': 672, 'aon': 673, 'award': 674, 'ameriprise': 675, 'investing': 676, 'deal': 677, 'ticker': 678, 'yet': 679, 'institutional': 680, 'cap': 681, 'program': 682, '2019': 683, 'affect': 684, 'amazing': 685, 'q2': 686, 'return': 687, 'weeks': 688, 'full': 689, 'equal': 690, 'weight': 691, '930': 692, 'lawsuit': 693, 'dd': 694, 'better': 695, '56': 696, 'homes': 697, 'act': 698, 'rules': 699, 'nice': 700, '255': 701, 'take': 702, 'fda': 703, '62': 704, 'positive': 705, 'maybe': 706, 'believe': 707, 'appointment': 708, 'co': 709, 'v1': 710, 'exch': 711, 'fiscal': 712, 'hit': 713, 'research': 714, 'much': 715, 'disclosure': 716, 'current': 717, 'exp': 718, 'woodmark': 719, '470': 720, 'declared': 721, 'ni': 722, 'demand': 723, 'range': 724, 'august': 725, 'hearing': 726, 'purchase': 727, 'announcement': 728, 'sure': 729, 'almost': 730, '90': 731, 'amg': 732, '54': 733, 'probably': 734, 'following': 735, 'acquire': 736, 'development': 737, 'ae': 738, 'robinhood': 739, 'charles': 740, 'aol': 741, 'anika': 742, 'wait': 743, 'love': 744, 'operations': 745, 'receives': 746, 'cash': 747, 'sciences': 748, 'video': 749, 'strategic': 750, 'october': 751, 'daytraders': 752, 'mean': 753, 'sector': 754, 'amba': 755, 'ambarella': 756, 'bidaskscore': 757, 'ideas': 758, 'symbol': 759, 'christopher': 760, 'kevin': 761, 'anything': 762, 'squeeze': 763, 'never': 764, 'rent': 765, '80': 766, 'daytrading': 767, 'sells': 768, '53': 769, '86': 770, '78': 771, 'sections': 772, 'decliners': 773, 'bankshares': 774, 'effectiveness': 775, 'ta': 776, 'overbought': 777, 'dan': 778, 'similar': 779, 'want': 780, 'downgraded': 781, 'regulation': 782, 'fd': 783, 'james': 784, 'initial': 785, 'give': 786, 'happened': 787, 'turn': 788, 'udcc3': 789, 'worthless': 790, 'security': 791, 'investigation': 792, 'circuits': 793, 'open': 794, 'interest': 795, 'oh': 796, 'consumerservices': 797, 'unit': 798, 'shorting': 799, 'ude02': 800, 'outperform': 801, 'llp': 802, 'active': 803, 'repurchases': 804, 'apa': 805, 'rowid': 806, 'notification': 807, 'alpha': 808, '2016': 809, 'anthem': 810, 'customers': 811, 'mitchell': 812, 'derenzo': 813, 'projects': 814, 'renewable': 815, 'rhode': 816, 'island': 817, 'apollo': 818, 'partnership': 819, 'inventory': 820, 'withdraw': 821, 'makena': 822, 'tsmc': 823, 'around': 824, 'lot': 825, 'far': 826, 'stryve': 827, 'industry': 828, 'board': 829, 'udcd1': 830, 'names': 831, 'steve': 832, 'profit': 833, 'rising': 834, 'stochastic': 835, 'tech': 836, 'min': 837, 'exit': 838, 'ultraalgo': 839, 'stockstowatch': 840, 'luck': 841, 'everyone': 842, 'udccb': 843, '106': 844, 'udd14': 845, 'buys': 846, 'actually': 847, '77': 848, 'monday': 849, 'float': 850, 'owned': 851, 'walsh': 852, 'really': 853, 'event': 854, 'global': 855, '405': 856, 'gainers': 857, 'april': 858, 'found': 859, 'item': 860, 'setup': 861, 'according': 862, 'seen': 863, 'pattern': 864, 'cl': 865, 'o2': 866, 'oppenheimer': 867, 'lt': 868, 'repeat': 869, 'apr': 870, '95': 871, 'vance': 872, 'tang': 873, 'looking': 874, 'part': 875, 'technologies': 876, 'daniel': 877, 'kempken': 878, 'away': 879, 'done': 880, 'holders': 881, 'month': 882, 'morning': 883, 'stupid': 884, 'however': 885, 'increase': 886, 'performance': 887, '93': 888, '85': 889, '151': 890, 'treatment': 891, 'injection': 892, 'choice': 893, 'support': 894, 'real': 895, 'wins': 896, 'world': 897, 'activist': 898, 'blair': 899, 'else': 900, 'break': 901, 'udc40': 902, 'investigates': 903, 'amid': 904, 'offices': 905, 'howard': 906, '12b': 907, 'occidental': 908, 'related': 909, 'amended': 910, 'nse': 911, 'code': 912, 'app': 913, 'chip': 914, 'omega': 915, 'semiconductor': 916, 'chang': 917, 'shell': 918, 'relating': 919, 'preliminary': 920, 'service': 921, 'res': 922, 'whale': 923, 'biggest': 924, 'analysis': 925, 'advantage': 926, 'ham': 927, 'megan': 928, 'faust': 929, 'amkor': 930, 'deliver': 931, 'manning': 932, 'solar': 933, 'airnet': 934, 'stream': 935, 'conservative': 936, '5g': 937, 'eagle': 938, 'barron': 939, 'affiliate': 940, 'emirates': 941, 'zealand': 942, 'sails': 943, 'victory': 944, 'mcadams': 945, 'continues': 946, 'times': 947, 'ready': 948, 'means': 949, 'interesting': 950, 'condition': 951, 'foods': 952, 'trial': 953, 'mid': 954, 'aroon': 955, 'reaches': 956, 'mind': 957, 'prediction': 958, 'point': 959, 'continue': 960, 'correlation': 961, 'tell': 962, 'leslie': 963, 'kohn': 964, 'verhalen': 965, 'andrew': 966, 'elizabeth': 967, 'attention': 968, 'andatee': 969, 'hcmc': 970, 'shows': 971, 'win': 972, 'website': 973, 'highs': 974, '068': 975, 'confirmed': 976, 'ani': 977, 'including': 978, 'estimate': 979, 'sentiment': 980, '10kq2040f': 981, 'yesterday': 982, 'idea': 983, 'bounce': 984, 'currently': 985, 'bio': 986, 'join': 987, 'result': 988, '64': 989, 'reit': 990, 'guy': 991, '61': 992, 'pulse': 993, 'contract': 994, 'keybanc': 995, 'timeframe': 996, 'candles': 997, 'width': 998, 'o1': 999, 'op1': 1000, 'op2': 1001, 'name': 1002, '800': 1003, 'court': 1004, 'shit': 1005, 'react': 1006, 'multiple': 1007, 'without': 1008, 'goes': 1009, 'bo': 1010, 'went': 1011, 'major': 1012, 'insights': 1013, 'making': 1014, 'water': 1015, 'cashed': 1016, 'updates': 1017, 'wave': 1018, 'quick': 1019, 'vs': 1020, 'plan': 1021, 'trying': 1022, 'breaking': 1023, 'show': 1024, 'pocket': 1025, 'always': 1026, '176': 1027, 'help': 1028, 'peers': 1029, 'solutions': 1030, 'media': 1031, '13d': 1032, 'weak': 1033, 'ride': 1034, 'amc': 1035, 'losses': 1036, 'due': 1037, 'remember': 1038, 'likely': 1039, '82': 1040, 'glancy': 1041, 'prongay': 1042, 'murray': 1043, 'faruqi': 1044, 'fucking': 1045, 'vote': 1046, 'removal': 1047, 'delisting': 1048, 'tran': 1049, 'forms': 1050, 'ios': 1051, 'cao': 1052, 'billion': 1053, 'udd95': 1054, 'plc': 1055, 'ac': 1056, 'comments': 1057, 'ratings': 1058, 'info': 1059, 'chemicals': 1060, 'cowen': 1061, 'bell': 1062, 'suggested': 1063, 'udc8e': 1064, 'stone': 1065, '375': 1066, '433': 1067, 'mark': 1068, '792': 1069, 'residential': 1070, 'imre': 1071, 'hydroxyprogesterone': 1072, 'caproate': 1073, 'solution': 1074, '223': 1075, 'expands': 1076, 'commitment': 1077, 'evolution': 1078, 'jay': 1079, 'simulations': 1080, 'oip': 1081, 'ecosystem': 1082, 'congratulates': 1083, 'zoltan': 1084, 'cendes': 1085, 'academy': 1086, 'davis': 1087, 'bid': 1088, 'start': 1089, 'seeing': 1090, 'north': 1091, 'sucks': 1092, 'south': 1093, 'spac': 1094, 'waiting': 1095, 'andina': 1096, 'items': 1097, 'entered': 1098, 'issue': 1099, 'conferences': 1100, 'chairman': 1101, 'raised': 1102, 'ended': 1103, 'falling': 1104, 'rise': 1105, 'agree': 1106, 'exits': 1107, 'september': 1108, 'movers': 1109, 'clearer': 1110, 'teresa': 1111, 'crazy': 1112, 'lost': 1113, 'fall': 1114, 'defa14a': 1115, '364': 1116, 'upside': 1117, 'bryan': 1118, '717': 1119, 'launch': 1120, 'sign': 1121, 'zacks': 1122, 'nacquired': 1123, 'sets': 1124, 'expect': 1125, 'highlighted': 1126, 'biomedica': 1127, 'loading': 1128, 'neylan': 1129, '499': 1130, 'hour': 1131, 'n3': 1132, 'channel': 1133, '204': 1134, 'abercrombie': 1135, 'fitch': 1136, 'usd': 1137, 'bb': 1138, '50b500': 1139, 'handle': 1140, 'broken': 1141, '96': 1142, 'saw': 1143, 'ok': 1144, '2022': 1145, 'beats': 1146, 'swing': 1147, 'vaccine': 1148, 'medtech': 1149, 'application': 1150, 'stephen': 1151, 'de': 1152, 'learn': 1153, 'debt': 1154, 'consider': 1155, '97': 1156, 'imo': 1157, '796': 1158, '70': 1159, 'turned': 1160, 'perform': 1161, 'invested': 1162, 'account': 1163, 'na': 1164, 'double': 1165, 'said': 1166, 'offer': 1167, 'bill': 1168, 'find': 1169, 'please': 1170, 'bottom': 1171, 'line': 1172, 'till': 1173, 'might': 1174, 'matter': 1175, 'bankruptcy': 1176, 'number': 1177, 'markets': 1178, 'udffb': 1179, 'goldman': 1180, 'charts': 1181, '2m': 1182, 'dollars': 1183, '16711680': 1184, 'o3': 1185, 'plays': 1186, 'legal': 1187, 'smart': 1188, 'btw': 1189, 'svb': 1190, 'leerink': 1191, 'launches': 1192, 'screen': 1193, 'based': 1194, 'returns': 1195, 'infrastructure': 1196, 'wtf': 1197, 'enough': 1198, 'shorts': 1199, 'little': 1200, 'udc4d': 1201, 'talking': 1202, '47': 1203, 'repurchase': 1204, 'authorized': 1205, 'apache': 1206, 'td': 1207, 'took': 1208, 'united': 1209, 'eu': 1210, 'amrn': 1211, 'adding': 1212, 'investigating': 1213, 'writing': 1214, 'city': 1215, '6m': 1216, 'registr': 1217, '12500': 1218, '163': 1219, 'non': 1220, 'mike': 1221, 'anglo': 1222, 'alphazbl': 1223, 'dc': 1224, 'bridge': 1225, '88': 1226, 'secretary': 1227, '707': 1228, 'se': 1229, 'stimulus': 1230, '2015': 1231, 'signed': 1232, 'page': 1233, 'hi': 1234, 'industrial': 1235, 'net': 1236, '107': 1237, '050': 1238, 'reasons': 1239, 'blocks': 1240, 'edelson': 1241, '822': 1242, 'bender': 1243, 'coo': 1244, 'follow': 1245, 'along': 1246, 'payable': 1247, 'fueled': 1248, 'ronald': 1249, 'tender': 1250, 'udd8d': 1251, '850': 1252, 'webcast': 1253, 'outcomes': 1254, 'managing': 1255, 'jr': 1256, 'confidential': 1257, 'amrb': 1258, 'kathryn': 1259, 'housh': 1260, 'shirley': 1261, 'fuck': 1262, 'udcaa': 1263, 'happen': 1264, '1604': 1265, 'carrierhq': 1266, 'fleet': 1267, 'adjustable': 1268, 'millimeter': 1269, 'paper': 1270, 'engineering': 1271, 'consumerdurables': 1272, 'ametek': 1273, 'abaco': 1274, 'systems': 1275, 'sympathy': 1276, 'microsoft': 1277, 'ams': 1278, 'joe': 1279, 'lloyd': 1280, 'ntransacted': 1281, 'derivative': 1282, 'colleran': 1283, 'become': 1284, 'income': 1285, 'iii': 1286, 'terms': 1287, 'scott': 1288, 'parcel': 1289, 'lydeamore': 1290, 'june': 1291, 'half': 1292, 'accounts': 1293, 'aggressive': 1294, '92': 1295, 'keeping': 1296, '76': 1297, 'advisory': 1298, 'climb': 1299, 'median': 1300, 'lowered': 1301, 'udf40': 1302, 'rated': 1303, '441': 1304, 'dropped': 1305, 'hard': 1306, 'eichler': 1307, '104': 1308, '68': 1309, 'marketing': 1310, 'hon': 1311, 'hsiao': 1312, 'wuen': 1313, 'meng': 1314, 'schwarting': 1315, 'penny': 1316, 'marine': 1317, 'patent': 1318, 'sellers': 1319, 'product': 1320, 'everyday': 1321, 'nread': 1322, 'table': 1323, 'project': 1324, 'nthe': 1325, 'nthis': 1326, 'brought': 1327, 'forward': 1328, 'monster': 1329, 'last10k': 1330, 'phase': 1331, 'jennifer': 1332, 'rhodes': 1333, 'arcadia': 1334, 'n2': 1335, 'n4': 1336, 'n5': 1337, 'item5': 1338, '0f': 1339, 'riley': 1340, 'fran': 1341, 'horowitz': 1342, '479': 1343, '846': 1344, '633': 1345, '720': 1346, 'puts': 1347, 'pg10': 1348, 'baby': 1349, '10minute': 1350, '134': 1351, 'effect': 1352, '202': 1353, '73': 1354, 'growing': 1355, 'cheap': 1356, 'ffo': 1357, 'raises': 1358, 'stockpods': 1359, 'revenue': 1360, 'tickers': 1361, 'gain': 1362, 'trademark': 1363, '105': 1364, 'movil': 1365, 'foreign': 1366, 'weekly': 1367, 'push': 1368, 'gl': 1369, 'fa': 1370, 'basicindustries': 1371, 'add': 1372, 'rocket': 1373, 'invest': 1374, 'called': 1375, 'astrazeneca': 1376, 'gets': 1377, 'head': 1378, 'street': 1379, '5b': 1380, 'disease': 1381, 'states': 1382, 'amendment': 1383, 'helmut': 1384, 'pirthauer': 1385, 'shs': 1386, 'ben': 1387, 'int': 1388, 'registered': 1389, 'overvalued': 1390, 'strength': 1391, 'douglas': 1392, 'treat': 1393, '85k': 1394, 'udfafsee': 1395, 'cd': 1396, '424': 1397, 'safe': 1398, 'unsecured': 1399, 'automatic': 1400, 'dark': 1401, 'already': 1402, 'game': 1403, 'stay': 1404, 'nervous': 1405, 'crossed': 1406, 'started': 1407, 'tuesday': 1408, 'paul': 1409, 'hot': 1410, 'reading': 1411, 'resulting': 1412, '835': 1413, 'sits': 1414, 'pivot': 1415, 'macd': 1416, 'histogram': 1417, 'reversal': 1418, 'bowe': 1419, 'treasurer': 1420, 'corporate': 1421, 'shaw': 1422, '582': 1423, '1603': 1424, 'side': 1425, 'effects': 1426, 'alxn': 1427, 'gave': 1428, 'craig': 1429, 'late': 1430, 'final': 1431, 'pure': 1432, 'gap': 1433, 'home': 1434, 'spin': 1435, 'estate': 1436, 'recognized': 1437, 'mm': 1438, 'man': 1439, 'dips': 1440, 'seriously': 1441, 'taxes': 1442, 'lowers': 1443, 'liquidated': 1444, 'announcing': 1445, 'alerts': 1446, 'encourages': 1447, 'hand': 1448, 'road': 1449, 'morons': 1450, 'index': 1451, 'amarin': 1452, 'striking': 1453, 'spike': 1454, 'fire': 1455, 'least': 1456, 'hell': 1457, 'guess': 1458, 'owner': 1459, 'im': 1460, 'apc': 1461, 'london': 1462, 'downey': 1463, 'feed': 1464, '481': 1465, 'single': 1466, 'subscription': 1467, 'voting': 1468, 'ex': 1469, 'rectifier': 1470, '570': 1471, 'sh': 1472, 'subsidiaries': 1473, 'mmm': 1474, 'delisted': 1475, 'appears': 1476, 'approve': 1477, 'failure': 1478, 'satisfy': 1479, 'continued': 1480, '278': 1481, 'expiration': 1482, 'ambra': 1483, 'showed': 1484, 'brings': 1485, 'naked': 1486, 'gains': 1487, 'knows': 1488, 'load': 1489, 'yield': 1490, '3rd': 1491, 'party': 1492, 'hands': 1493, 'guillaume': 1494, 'marie': 1495, 'jean': 1496, 'rutten': 1497, 'harrison': 1498, 'cpro': 1499, 'variability': 1500, 'apus': 1501, 'prospectus': 1502, 'b07': 1503, 'disposition': 1504, 'mcgregor': 1505, '114': 1506, '350': 1507, 'ude4f': 1508, '834': 1509, 'kirk': 1510, 'maples': 1511, 'preferred': 1512, 'palatin': 1513, 'brem': 1514, 'blake': 1515, 'australia': 1516, 'adhd': 1517, 'ameritrade': 1518, '424b5': 1519, 'pres': 1520, 'trucking': 1521, 'celent': 1522, 'model': 1523, 'analytics': 1524, 'oscher': 1525, 'despite': 1526, 'recap': 1527, 'udc49check': 1528, 'notifications': 1529, 'unitedtraders': 1530, 'daytrader': 1531, 'financialfreedom': 1532, 'traderecap': 1533, 'site': 1534, 'couple': 1535, 'less': 1536, 'bouncing': 1537, 'whole': 1538, 'merging': 1539, 'nthey': 1540, 'lots': 1541, 'heavy': 1542, 'steal': 1543, 'saudi': 1544, 'checks': 1545, 'fun': 1546, 'pre': 1547, '425': 1548, 'combination': 1549, 'pursuant': 1550, 'control': 1551, 'seems': 1552, 'completion': 1553, 'tax': 1554, 'human': 1555, 'health': 1556, 'steven': 1557, 'interview': 1558, 'etfs': 1559, 'strategy': 1560, 'tf': 1561, '103': 1562, '79': 1563, 'driving': 1564, 'ngood': 1565, 'initiates': 1566, '812': 1567, '301': 1568, '227': 1569, '712': 1570, 'near': 1571, 'owns': 1572, 'promising': 1573, 'ahead': 1574, 'set': 1575, 'keeps': 1576, '965': 1577, 'details': 1578, 'questions': 1579, 'mention': 1580, 'selloff': 1581, 'cortrophin': 1582, '87': 1583, 'base': 1584, 'resistance': 1585, 'reason': 1586, 'finally': 1587, 'sources': 1588, 'pro': 1589, 'traded': 1590, '442': 1591, '455': 1592, 'wednesday': 1593, '837': 1594, '188': 1595, 'kristin': 1596, '440': 1597, '927': 1598, 'ever': 1599, '31st': 1600, 'gainer': 1601, 'susan': 1602, 'king': 1603, 'shephard': 1604, 'joel': 1605, 'pleasant': 1606, 'miller': 1607, '611': 1608, 'seem': 1609, 'upgraded': 1610, 'consolidation': 1611, 'useful': 1612, 'transcript': 1613, 'est': 1614, '81': 1615, 'nrelated': 1616, 'cancer': 1617, 'study': 1618, 'therapeutics': 1619, 'solid': 1620, 'pediatric': 1621, 'bags': 1622, '50b300': 1623, 'sl': 1624, 'regulated': 1625, 'communication': 1626, 'issuer': 1627, 'jan': 1628, 'amx': 1629, '914': 1630, 'label': 1631, 'backwards': 1632, 'controller': 1633, 'needs': 1634, 'losing': 1635, 'expansion': 1636, 'wolfe': 1637, 'regarding': 1638, 'understanding': 1639, 'bc': 1640, 'work': 1641, 'lithium': 1642, 'litigation': 1643, 'roche': 1644, 'try': 1645, 'absolutely': 1646, 'rejected': 1647, 'af': 1648, 'comparing': 1649, 'capitalgoods': 1650, 'aod': 1651, 'autopost': 1652, 'ath': 1653, 'karge': 1654, 'samuel': 1655, 'dividends': 1656, 'patience': 1657, 'letter': 1658, 'bk': 1659, 'spiral': 1660, 'released': 1661, 'experience': 1662, 'thank': 1663, 'file': 1664, '250': 1665, 'members': 1666, 'rally': 1667, 'nelson': 1668, 'sliding': 1669, 'reminder': 1670, 'twitter': 1671, 'loving': 1672, '2000': 1673, 'sachs': 1674, 'caps': 1675, 'nevada': 1676, 'owning': 1677, 'process': 1678, '84': 1679, 'cu': 1680, 'ppt': 1681, '252c2': 1682, 'op3': 1683, '65280': 1684, 'testing': 1685, 'assume': 1686, 'wanna': 1687, 'item8': 1688, '586': 1689, 'andersons': 1690, '2024': 1691, 'krueger': 1692, '74': 1693, 'everything': 1694, 'pop': 1695, 'bucks': 1696, 'shannon': 1697, '750': 1698, 'angi': 1699, 'rebrand': 1700, 'promises': 1701, 'strengthen': 1702, 'proposition': 1703, '527': 1704, 'easily': 1705, 'dollar': 1706, 'shelf': 1707, 'angela': 1708, '002': 1709, 'minute': 1710, 'hemolysis': 1711, 'cases': 1712, '152': 1713, 'udce1': 1714, '150': 1715, 'factor': 1716, 'ap': 1717, 'extra': 1718, 'simple': 1719, 'state': 1720, 'medical': 1721, 'hospital': 1722, 'transplant': 1723, 'awarded': 1724, 'extreme': 1725, '700': 1726, 'space': 1727, 'ct': 1728, 'production': 1729, 'innovation': 1730, 'feels': 1731, 'matters': 1732, 'forever': 1733, 'gme': 1734, 'manipulation': 1735, 'bios': 1736, 'targets': 1737, 'though': 1738, 'hear': 1739, 'q3': 1740, 'amed': 1741, 'completely': 1742, '490': 1743, 'raise': 1744, 'stopping': 1745, 'corpor': 1746, '72': 1747, 'ultra': 1748, 'wti': 1749, '2nd': 1750, 'fill': 1751, 'scam': 1752, 'pps': 1753, 'shot': 1754, 'perhaps': 1755, 'ipo': 1756, 'indices': 1757, 'recommendation': 1758, 'sorry': 1759, 'figured': 1760, 'germany': 1761, 'reps': 1762, 'suck': 1763, 'extended': 1764, 'requested': 1765, 'nalso': 1766, 'mlp': 1767, 'looming': 1768, 'working': 1769, 'saving': 1770, 'petroleum': 1771, 'sued': 1772, 'thinking': 1773, 'deregistration': 1774, 'incorporated': 1775, 'laws': 1776, '1m': 1777, 'pct': 1778, 'semi': 1779, 'piacquad': 1780, 'reese': 1781, '108': 1782, 'louie': 1783, 'linda': 1784, '245': 1785, 'biologics': 1786, 'fully': 1787, 'confident': 1788, 'lori': 1789, 'lon': 1790, 'apf': 1791, 'chunping': 1792, '273': 1793, 'bing': 1794, 'xue': 1795, 'liang': 1796, 'yifan': 1797, 'ho': 1798, 'yueh': 1799, 'headed': 1800, 'terrible': 1801, 'weather': 1802, 'course': 1803, '2013': 1804, 'later': 1805, 'bag': 1806, 'happy': 1807, 'shells': 1808, 'changed': 1809, 'completes': 1810, 'extension': 1811, '172': 1812, 'justrading': 1813, 'followers': 1814, 'jp': 1815, 'chase': 1816, 'staples': 1817, 'estee': 1818, 'lauder': 1819, 'hydrogen': 1820, '5000': 1821, 'payment': 1822, 'bring': 1823, 'ryan': 1824, 'context': 1825, 'gordon': 1826, '911': 1827, 'autonation': 1828, '981': 1829, '819': 1830, 'str': 1831, '83': 1832, 'flags': 1833, 'available': 1834, 'starting': 1835, 'ampleforth': 1836, 'chainlink': 1837, 'heavily': 1838, 'leave': 1839, 'quickly': 1840, 'led': 1841, 'rain': 1842, 'dumping': 1843, 'option': 1844, 'richard': 1845, 'antero': 1846, 'needed': 1847, '513': 1848, '506': 1849, 'beckett': 1850, 'operating': 1851, '1933': 1852, 'river': 1853, '043': 1854, 'ritchie': 1855, '71': 1856, 'giving': 1857, 'arctos': 1858, 'northstar': 1859, 'runners': 1860, 'parker': 1861, 'geoffrey': 1862, 'bs': 1863, 'interactive': 1864, 'committed': 1865, 'sound': 1866, 'compliance': 1867, 'regained': 1868, 'normalized': 1869, 'armco': 1870, 'metals': 1871, 'happening': 1872, 'hsr': 1873, 'posted': 1874, 'qrtrs': 1875, 'rates': 1876, 'apart': 1877, 'europe': 1878, 'giant': 1879, 'valued': 1880, 'tos': 1881, 'mobile': 1882, 'relations': 1883, 'fwp': 1884, '6210': 1885, 'ardrey': 1886, 'kell': 1887, 'inflation': 1888, 'd4': 1889, 'blackrock': 1890, '060': 1891, '512': 1892, 'insurer': 1893, 'affiliated': 1894, '434': 1895, 'horgen': 1896, 'billings': 1897, 'tony': 1898, 'ciampitti': 1899, 'eginton': 1900, 'wesley': 1901, 'hardin': 1902, 'timothy': 1903, 'jones': 1904, 'burke': 1905, 'electronic': 1906, 'instruments': 1907, 'montgomery': 1908, 'marecic': 1909, 'zapico': 1910, 'nwatching': 1911, 'verizon': 1912, 'millennial': 1913, 'leg': 1914, 'friday': 1915, 'dominique': 1916, 'mielle': 1917, 'maron': 1918, 'siegel': 1919, '772': 1920, 'levitz': 1921, 'loerop': 1922, 'cheryl': 1923, 'grow': 1924, 'hopefully': 1925, 'eventually': 1926, 'tiny': 1927, 'able': 1928, 'gotta': 1929, 'profitable': 1930, 'supposed': 1931, 'merge': 1932, 'snax': 1933, 'biltong': 1934, 'middle': 1935, 'arabia': 1936, 'citizens': 1937, 'diversify': 1938, 'esg': 1939, 'online': 1940, 'anda': 1941, 'mold': 1942, 'amazon': 1943, 'understand': 1944, 'ibs': 1945, 'incentive': 1946, 'successful': 1947, 'address': 1948, '4m': 1949, 'preclinical': 1950, 'summary': 1951, 'family': 1952, 'associates': 1953, 'feb': 1954, 'alive': 1955, 'midcap': 1956, 'shp': 1957, 'srsi': 1958, 'adxr': 1959, 'nextgen': 1960, '5d': 1961, 'rolling': 1962, 'nfor': 1963, 'detail': 1964, 'visit': 1965, 'greentoreddaily': 1966, 'udcc8': 1967, 'scan': 1968, '00pm': 1969, 'cst': 1970, 'cbouncers': 1971, 'pullback': 1972, 'ude18': 1973, 'initiations': 1974, 'resumptions': 1975, 'nfree': 1976, 'newsletter': 1977, '153570': 1978, '316': 1979, '201': 1980, '417': 1981, 'feng': 1982, 'ming': 1983, 'wang': 1984, '838': 1985, '112270': 1986, '787': 1987, '419': 1988, 'hu': 1989, 'chenming': 1990, 'richardson': 1991, 'jeffrey': 1992, 'paisley': 1993, 'anybody': 1994, 'udd11': 1995, 'grabbed': 1996, 'infringement': 1997, 'mp': 1998, 'tabaco': 1999, 'vaping': 2000, 'probability': 2001, 'winning': 2002, 'evidence': 2003, '3b': 2004, 'case': 2005, 'explode': 2006, 'dead': 2007, 'ran': 2008, 'scale': 2009, '968': 2010, '71k': 2011, '636': 2012, '1633': 2013, '842': 2014, '312': 2015, '626': 2016, 'nwhy': 2017, 'bots': 2018, 'nmessage': 2019, 'gel': 2020, 'happens': 2021, 'mostly': 2022, 'consultant': 2023, '560': 2024, '555': 2025, 'fy2021': 2026, 'subsequent': 2027, 'upon': 2028, 'forma': 2029, 'truist': 2030, 'facilitate': 2031, 'careful': 2032, 'anip': 2033, 'predictive': 2034, 'facing': 2035, 'longer': 2036, 'nthanks': 2037, '246': 2038, '408': 2039, 'declares': 2040, 'closely': 2041, 'np': 2042, 'potentially': 2043, 'watched': 2044, 'nteam': 2045, 'cnsp': 2046, 'bcli': 2047, 'agen': 2048, 'screenshot': 2049, 'recorded': 2050, 'dated': 2051, 'nclick': 2052, 'room': 2053, 'exact': 2054, 'entries': 2055, '949': 2056, 'brands': 2057, 'gaining': 2058, 'considered': 2059, 'amnb': 2060, 'decline': 2061, 'challenger': 2062, 'highlights': 2063, 'recommendations': 2064, 'prepared': 2065, '577': 2066, 'thinks': 2067, 'consolidating': 2068, 'ascending': 2069, 'sr': 2070, 'wanted': 2071, 'draw': 2072, 'previous': 2073, 'perfectly': 2074, 'piper': 2075, 'sandler': 2076, 'submitted': 2077, 'concerning': 2078, 'nwebcast': 2079, 'nsignup': 2080, 'beta': 2081, 'vornado': 2082, 'alx': 2083, 'alexanders': 2084, 'yoy': 2085, 'gene': 2086, 'therapy': 2087, 'failed': 2088, 'ipos': 2089, 'releases': 2090, 'secures': 2091, 'barda': 2092, 'funding': 2093, 'blood': 2094, 'setups': 2095, 'item7': 2096, 'performing': 2097, '13a': 2098, '15d': 2099, '29k': 2100, '15c': 2101, '430': 2102, '19c': 2103, '5c': 2104, 'jun': 2105, 'trio': 2106, '1234': 2107, '946': 2108, '247': 2109, 'row': 2110, 'sides': 2111, 'hey': 2112, 'heads': 2113, 'style': 2114, '91': 2115, '897': 2116, 'score': 2117, '955': 2118, '568': 2119, 'peer': 2120, 'loop': 2121, 'videtto': 2122, 'emily': 2123, 'cavanagh': 2124, 'stated': 2125, 'amwd': 2126, 'hoping': 2127, 'claim': 2128, 'atm': 2129, 'reminiscent': 2130, 'period': 2131, 'teva': 2132, 'settles': 2133, 'license': 2134, 'rumor': 2135, 'cut': 2136, 'bone': 2137, 'knew': 2138, 'setbacks': 2139, 'blaming': 2140, 'etc': 2141, 'force': 2142, 'thought': 2143, 'weekend': 2144, 'joint': 2145, 'different': 2146, 'makes': 2147, 'amot': 2148, 'electricalproducts': 2149, 'compensation': 2150, 'ashish': 2151, 'bendre': 2152, 'excellence': 2153, '431': 2154, '779': 2155, '1200': 2156, 'cen': 2157, '616': 2158, '284': 2159, '885': 2160, '167': 2161, 'bleed': 2162, '760': 2163, 'rewarding': 2164, 'aegean': 2165, 'shippers': 2166, 'shy': 2167, 'gift': 2168, 'offerings': 2169, 'gifts': 2170, 'possibly': 2171, 'glad': 2172, 'stayed': 2173, 'youre': 2174, 'setting': 2175, 'learned': 2176, 'situation': 2177, 'neither': 2178, 'escrow': 2179, 'correctly': 2180, 'payout': 2181, 'receive': 2182, 'ihub': 2183, 'tho': 2184, 'nwhat': 2185, 'steady': 2186, 'clean': 2187, 'van': 2188, 'bitcoin': 2189, 'especially': 2190, 'declining': 2191, 'every': 2192, 'reddit': 2193, 'bitter': 2194, 'ones': 2195, 'fool': 2196, 'mess': 2197, 'gm': 2198, 'texas': 2199, 'friendly': 2200, 'udd37': 2201, 'helping': 2202, '450': 2203, 'st': 2204, 'sit': 2205, 'brief': 2206, 'supreme': 2207, 'wiped': 2208, 'petition': 2209, 'rehearing': 2210, 'valuation': 2211, 'hycroft': 2212, 'cheaper': 2213, 'hyct': 2214, 'figures': 2215, '320': 2216, '789': 2217, 'ascend': 2218, 'players': 2219, 'smlev20v': 2220, 'historical': 2221, '032': 2222, 'rather': 2223, 'noticed': 2224, 'apam': 2225, 'copy': 2226, '272': 2227, 'agrecycle': 2228, 'trifactant': 2229, 'brian': 2230, '156': 2231, '63': 2232, '542': 2233, 'atg': 2234, 'comm': 2235, 'merch': 2236, '232': 2237, 'rail': 2238, 'hoelter': 2239, '508': 2240, 'pm': 2241, 'drev': 2242, 'apes': 2243, 'lucrative': 2244, '68k': 2245, 'gem': 2246, 'paying': 2247, 'ah': 2248, 'algo': 2249, 'simplified': 2250, 'register': 2251, 'stockstobuy': 2252, 'cryptocurrency': 2253, 'cryptonews': 2254, 'breakthrough': 2255, 'headache': 2256, 'pegcetacoplan': 2257, 'eculizumab': 2258, 'occurred': 2259, '580': 2260, '551': 2261, '196': 2262, 'develop': 2263, 'compliment': 2264, 'system': 2265, 'cough': 2266, 'remembers': 2267, 'hilarious': 2268, 'moments': 2269, 'ami': 2270, 'care': 2271, 'early': 2272, 'kids': 2273, 'phone': 2274, 'repair': 2275, 'dr': 2276, 'changing': 2277, 'division': 2278, 'black': 2279, 'square': 2280, 'challenge': 2281, 'grant': 2282, 'accepting': 2283, 'country': 2284, 'dee': 2285, 'crash': 2286, 'ampco': 2287, 'pittsburgh': 2288, 'oak': 2289, 'die': 2290, 'laughing': 2291, 'eyes': 2292, 'idiots': 2293, 'yep': 2294, 'bunch': 2295, 'expires': 2296, 'otm': 2297, 'throughout': 2298, 'fear': 2299, 'choppy': 2300, 'therefore': 2301, '269': 2302, 'equity': 2303, 'amongst': 2304, 'insitutions': 2305, 'constituting': 2306, 'ascends': 2307, '452': 2308, '409': 2309, 'stops': 2310, 'nconviction': 2311, 'nget': 2312, '52k': 2313, 'hilo': 2314, 't1y': 2315, 'neutral': 2316, 'rosen': 2317, 'globally': 2318, 'crude': 2319, 'gasoline': 2320, 'distillate': 2321, 'gallons': 2322, '275': 2323, 'perfect': 2324, 'rebound': 2325, 'udca5': 2326, 'boom': 2327, 'redtogreendaily': 2328, 'opening': 2329, 'pushing': 2330, 'covered': 2331, 'fish': 2332, 'vascepa': 2333, 'pathetic': 2334, 'second': 2335, 'cell': 2336, 'worry': 2337, 'vaccines': 2338, 'prevent': 2339, 'test': 2340, 'chose': 2341, 'levels': 2342, 'du': 2343, 'catalysts': 2344, 'ema': 2345, 'botched': 2346, 'night': 2347, 'uddd0': 2348, 'justified': 2349, 'otherwise': 2350, 'grief': 2351, 'thanks': 2352, 'drunk': 2353, 'bod': 2354, 'zero': 2355, 'playing': 2356, 'cover': 2357, 'n20': 2358, 'denied': 2359, 'deep': 2360, 'bank': 2361, 'bubble': 2362, 'levi': 2363, 'korsinsky': 2364, 'notifies': 2365, 'lead': 2366, 'suffered': 2367, 'invesco': 2368, '8m': 2369, 'brookside': 2370, 'jewell': 2371, 'basin': 2372, '1500': 2373, 'nwe': 2374, 'idcp': 2375, '855': 2376, 'history': 2377, 'oxy': 2378, 'chevron': 2379, 'meets': 2380, 'divy': 2381, 'cent': 2382, 'slap': 2383, 'save': 2384, 'berkshire': 2385, 'financing': 2386, 'premarket': 2387, 'takeover': 2388, 'ntc': 2389, 'estimated': 2390, '7m': 2391, 'bradway': 2392, 'ind': 2393, 'five': 2394, 'prime': 2395, 'revival': 2396, 'lesson': 2397, 'nmy': 2398, 'nlast': 2399, 'mccarthy': 2400, 'heat': 2401, 'interim': 2402, 'advanced': 2403, 'controlling': 2404, 'inflammation': 2405, 'amgen': 2406, '280': 2407, '725': 2408, 'butchery': 2409, 'mismanagementmike': 2410, 'castagnant': 2411, 'rapid': 2412, 'acting': 2413, 'overdue': 2414, 'technosphere': 2415, 'hostiletakeover': 2416, 'digit': 2417, 'purgatory': 2418, 'readysetinhale': 2419, 'patientsdeserveaccess': 2420, 'mediocremike': 2421, 'moronmike': 2422, 'newleadershipnow': 2423, 'pfeffersucks': 2424, 'bourla4bod': 2425, 'hooper4ceo': 2426, 'geoffmartha4bod': 2427, 'rothblatt4bod': 2428, 'joergensen4bod': 2429, 'rejoyce4bod': 2430, 'sayerthesavior4bod': 2431, 'bradway4bod': 2432, 'sendhelpmyceoblows': 2433, 'greedycego': 2434, 'ceosabotage': 2435, 'ceosuffocation': 2436, 'botcheduae': 2437, 'technospheresquandered': 2438, 'retirementunfux0red': 2439, 'truelongs': 2440, 'prereversesplit': 2441, 'analyzed': 2442, 'consensus': 2443, '69': 2444, 'pe': 2445, '214': 2446, '480': 2447, 'santos': 2448, 'esteban': 2449, '991': 2450, 'johnston': 2451, 'ordr': 2452, 'peel': 2453, 'hunt': 2454, 'px': 2455, 'pulled': 2456, 'significantly': 2457, '446': 2458, '338': 2459, 'ww': 2460, 'bus': 2461, '545': 2462, 'chump': 2463, '221': 2464, '325': 2465, 'cross': 2466, 'sail': 2467, 'storm': 2468, 'winners': 2469, 'language': 2470, 'maker': 2471, 'assigns': 2472, 'manipulated': 2473, 'piece': 2474, 'antm': 2475, 'confusing': 2476, 'anthera': 2477, 'ton': 2478, 'dream': 2479, 'story': 2480, 'heard': 2481, 'numbers': 2482, 'pluspetrol': 2483, 'mo': 2484, 'spreads': 2485, 'obtains': 2486, 'concession': 2487, 'argentina': 2488, 'haters': 2489, 'amic': 2490, 'bigger': 2491, 'indepe': 2492, 'incom': 2493, '332': 2494, '641': 2495, '663': 2496, '827': 2497, '270': 2498, 'carbon': 2499, 'countries': 2500, 'emissions': 2501, 'natural': 2502, 'whether': 2503, 'gemagique': 2504, '1666': 2505, 'shultis': 2506, 'kenton': 2507, 'hagen': 2508, '2300': 2509, '2918': 2510, 'permian': 2511, 'vaughan': 2512, 'george': 2513, 'gonna': 2514, 'bh': 2515, 'map': 2516, '041': 2517, 'negatives': 2518, '45k': 2519, 'udc3b': 2520, '010': 2521, '892': 2522, '439': 2523, 'hitting': 2524, 'converted': 2525, 'strongest': 2526, '654': 2527, 'n75': 2528, '766': 2529, 'adoption': 2530, 'rest': 2531, 'udffc': 2532, 'noil': 2533, 'involved': 2534, 'trump': 2535, 'talks': 2536, 'restart': 2537, 'downside': 2538, 'vol': 2539, 'district': 2540, 'retail': 2541, 'mine': 2542, 'ude2d': 2543, 'unrealized': 2544, 'topped': 2545, 'review': 2546, 'takes': 2547, 'accumulate': 2548, 'unless': 2549, 'walk': 2550, 'remains': 2551, 'nas': 2552, '894': 2553, 'special': 2554, 'stockholders': 2555, 'balance': 2556, 'damn': 2557, 'slowing': 2558, 'liking': 2559, '690': 2560, '729': 2561, 'trailer': 2562, '061': 2563, 'starter': 2564, 'given': 2565, '324': 2566, 'underweight': 2567, 'maintains': 2568, 'pool': 2569, 'schwab': 2570, 'rh': 2571, 'discount': 2572, '254': 2573, 'ude08': 2574, 'boost': 2575, 'ntime': 2576, 'roller': 2577, 'coaster': 2578, 'runs': 2579, '020': 2580, 'leading': 2581, '2pr': 2582, 'sm10v': 2583, 'pivots': 2584, '860': 2585, '518': 2586, '268': 2587, 'shin': 2588, 'sung': 2589, 'cpros': 2590, '709': 2591, 'sunderland': 2592, 'gay': 2593, 'vernon': 2594, 'provost': 2595, 'cooper': 2596, 'laguardia': 2597, 'dyberg': 2598, 'patrik': 2599, 'selden': 2600, '974': 2601, 'restricted': 2602, 'becomes': 2603, 'pappajohn': 2604, 'oman': 2605, 'sick': 2606, 'losers': 2607, 'nall': 2608, 'july': 2609, 'congrats': 2610, 'udcb0': 2611, 'ringold': 2612, 'isaac': 2613, 'stein': 2614, 'garbage': 2615, 'trends': 2616, '381': 2617, 'amsf': 2618, '10000': 2619, '125': 2620, '724': 2621, '145': 2622, 'expecting': 2623, 'ude0e': 2624, 'proves': 2625, 'sullivan': 2626, '333': 2627, 'sanjay': 2628, 'chanda': 2629, 'anat': 2630, 'displayed': 2631, 'ins': 2632, 'gaap': 2633, 'amtg': 2634, 'connection': 2635, 'hedgies': 2636, 'ude4c': 2637, 'orderly': 2638, 'healthy': 2639, 'unaudited': 2640, 'condensed': 2641, 'consolidated': 2642, 'figure': 2643, 'placed': 2644, 'verb': 2645, 'whats': 2646, 'rich': 2647, 'shown': 2648, 'ask': 2649, 'extraordinary': 2650, 'nstream': 2651, 'eod': 2652, 'amcx': 2653, 'networks': 2654, 'streaming': 2655, 'yall': 2656, 'searched': 2657, 'terminated': 2658, 'carl': 2659, 'gotten': 2660, 'shitty': 2661, 'downward': 2662, 'gedeon': 2663, 'shopped': 2664, '16m': 2665, 'handed': 2666, 'imho': 2667, 'monthts': 2668, 'freaking': 2669, 'dudes': 2670, 'renaissance': 2671, '15m': 2672, 'transfer': 2673, 'exclusively': 2674, 'existing': 2675, 'okay': 2676, 'akili': 2677, 'schiller': 2678, 'bremelanotide': 2679, 'studied': 2680, 'stretch': 2681, 'indication': 2682, 'purposeofstudy': 2683, 'recruitmentstatus': 2684, 'recruiting': 2685, 'ethicsapproval': 2686, 'yes': 2687, 'gender': 2688, 'healthyvolunteers': 2689, 'recruitmentsites': 2690, 'healthconditions': 2691, 'agegroup': 2692, 'recruitmentcountries': 2693, 'studytype': 2694, 'conditioncategory': 2695, 'conditioncode': 2696, 'paging': 2697, 'hire': 2698, 'boat': 2699, 'opportun': 2700, 'sooo': 2701, 'quiet': 2702, 'br': 2703, 'posasr': 2704, 'arbitrage': 2705, 'mondays': 2706, 'depot': 2707, 'hd': 2708, 'fold': 2709, 'tesla': 2710, 'minimize': 2711, 'volatile': 2712, 'crashing': 2713, 'idiot': 2714, 'telling': 2715, 'benzinga': 2716, 'glitchy': 2717, 'crap': 2718, 'priced': 2719, 'hours': 2720, 'spectrum': 2721, 'udde8': 2722, 'uddf3': 2723, '136': 2724, 'paradigm': 2725, 'college': 2726, 'loan': 2727, 'unemployed': 2728, 'grad': 2729, 'slump': 2730, 'presage': 2731, 'virus': 2732, 'gali': 2733, 'improved': 2734, 'joke': 2735, '640': 2736, '225': 2737, '212': 2738, '732': 2739, '150161': 2740, '888': 2741, '735': 2742, '224': 2743, '476': 2744, '229': 2745, '1749': 2746, '908': 2747, '589': 2748, 'investmentmanagers': 2749, 'invests': 2750, 'managers': 2751, '594': 2752, 'n57': 2753, 'n54': 2754, '397': 2755, 'n45': 2756, '389': 2757, 'p500': 2758, 'anss': 2759, 'kelsey': 2760, 'debriyn': 2761, 'joins': 2762, 'government': 2763, 'affairs': 2764, '122': 2765, '449': 2766, '248': 2767, '378': 2768, '194': 2769, '880': 2770, '305': 2771, '406': 2772, 'administrative': 2773, '216': 2774, 'amtek': 2775, 'veritas': 2776, 'aom': 2777, 'moderate': 2778, 'edu': 2779, 'accumulating': 2780, 'lets': 2781, 'signs': 2782, 'network': 2783, 'ude14': 2784, 'imaging': 2785, 'consumer': 2786, '307': 2787, '295': 2788, 'series': 2789, 'cumulative': 2790, 'anworth': 2791, 'udd23': 2792, 'plants': 2793, '2023': 2794, 'amd': 2795, '7nm': 2796, 'biden': 2797, 'intel': 2798, 'finnerty': 2799, 'blanchard': 2800, 'traffic': 2801, 'revelation': 2802, 'strongly': 2803, 'tanked': 2804, 'unmoved': 2805, 'larger': 2806, 'fulfilled': 2807, 'debated': 2808, 'safer': 2809, 'commons': 2810, 'land': 2811, '13m': 2812, 'bene': 2813, '100m': 2814, 'attract': 2815, 'untapped': 2816, 'obscure': 2817, 'healthier': 2818, 'african': 2819, 'beef': 2820, 'jerky': 2821, 'weights': 2822, 'channing': 2823, 'tatum': 2824, 'massive': 2825, 'anghami': 2826, 'arabian': 2827, 'eastern': 2828, 'spotify': 2829, 'alot': 2830, 'sky': 2831, 'rocketing': 2832, 'disposable': 2833, 'cheapest': 2834, 'gaming': 2835, 'gambling': 2836, 'complaints': 2837, 'ii': 2838, 'mccombs': 2839, 'unmarketable': 2840, 'ethics': 2841, 'poultry': 2842, 'animal': 2843, 'completed': 2844, 'spp': 2845, 'ausbiotech': 2846, 'partnering': 2847, 'appendix': 2848, '4c': 2849, 'yearly': 2850, 'cashflow': 2851, 'finalises': 2852, 'draft': 2853, 'protocol': 2854, 'clinical': 2855, 'achieves': 2856, 'milestone': 2857, 'psr': 2858, 'neglected': 2859, 'counselors': 2860, 'goldstein': 2861, 'munger': 2862, 'strategist': 2863, 'jesus': 2864, 'clearing': 2865, 'nyou': 2866, 'millionaires': 2867, 'boggles': 2868, 'loooooong': 2869, 'peaks': 2870, 'leaves': 2871, 'marshall': 2872, 'adv': 2873, 'slipping': 2874, 'steward': 2875, 'udc4a': 2876, 'aarron': 2877, 'rodgers': 2878, 'normally': 2879, 'recommend': 2880, 'outpitch': 2881, 'vopak': 2882, 'prospective': 2883, 'brent': 2884, 'whatever': 2885, 'ms': 2886, 'realized': 2887, 'kgs': 2888, 'fengbin': 2889, 'hoarding': 2890, 'mastermind': 2891, 'letting': 2892, '3k': 2893, '121881': 2894, '445': 2895, 'namerican': 2896, 'amh': 2897, 'rose': 2898, 'ending': 2899, 'marking': 2900, 'fee': 2901, 'computed': 2902, '181976': 2903, '078': 2904, '119882': 2905, '845': 2906, '814': 2907, '588964': 2908, '893': 2909, '118136': 2910, '964': 2911, 'jave': 2912, 'refers': 2913, 'opinions': 2914, 'formed': 2915, 'unexpected': 2916, 'relatively': 2917, 'optimistic': 2918, 'complete': 2919, 'approved': 2920, 'fyi': 2921, '12m': 2922, '096': 2923, 'cantor': 2924, 'fitzgerald': 2925, 'resubmitted': 2926, 'delay': 2927, 'wised': 2928, 'scheduled': 2929, 'consultations': 2930, 'immediately': 2931, 'accretive': 2932, 'adjusted': 2933, 'ebitda': 2934, 'strengthened': 2935, 'structure': 2936, 'facilities': 2937, 'underwritten': 2938, 'pipe': 2939, 'ampersand': 2940, 'enable': 2941, 'concluded': 2942, 'ceolalwani': 2943, 'yr': 2944, 'algorithm': 2945, 'foretells': 2946, 'companie': 2947, 'depreciate': 2948, 'significant': 2949, 'downsides': 2950, '100k': 2951, '4pm': 2952, 'shorted': 2953, '579876': 2954, 'udc1d': 2955, 'agrees': 2956, 'angn': 2957, 'anytime': 2958, '100638': 2959, '925': 2960, 'anf': 2961, 'nreiterated': 2962, '474': 2963, '680': 2964, '473': 2965, 'conv': 2966, '205781': 2967, '539': 2968, 'bit': 2969, 'hedged': 2970, 'pmg': 2971, '30k': 2972, 'incoming': 2973, 'swag': 2974, 'insane': 2975, 'natl': 2976, 'danville': 2977, 'va': 2978, '543': 2979, '775': 2980, '007': 2981, '009': 2982, '326': 2983, '554': 2984, 'ronda': 2985, 'penn': 2986, '509': 2987, 'trap': 2988, 'hurt': 2989, 'running': 2990, '400s': 2991, 'thestreet': 2992, 'basically': 2993, 'connections': 2994, 'tls': 2995, 'periods': 2996, 'upmoves': 2997, '9s': 2998, '190': 2999, '220': 3000, 'justifications': 3001, '05m': 3002, 'beat': 3003, '50m': 3004, 'angiodynamic': 3005, '224273': 3006, '781': 3007, 'sarepta': 3008, 'idera': 3009, 'plunges': 3010, 'skin': 3011, 'translate': 3012, 'cystic': 3013, 'fibrosis': 3014, 'disappoints': 3015, 'adverum': 3016, 'nominates': 3017, 'debut': 3018, 'fulgent': 3019, 'nabs': 3020, 'cdc': 3021, 'enzo': 3022, 'rallies': 3023, 'moderna': 3024, 'begins': 3025, 'novavax': 3026, 'contrafect': 3027, 'logo': 3028, 'medicinova': 3029, 'lilly': 3030, 'antibody': 3031, 'cocktail': 3032, 'bluebird': 3033, 'refutes': 3034, 'sqds': 3035, 'ti': 3036, 'oppenheim': 3037, 'ango': 3038, 'clemmer': 3039, 'trowbridge': 3040, 'wed': 3041, 'mar': 3042, '24th': 3043, 'ntoday': 3044, 'worst': 3045, 'midday': 3046, 'ncommunication': 3047, 'nbiggest': 3048, 'mkt': 3049, 'nsee': 3050, '20services': 3051, 'bot': 3052, 'cv': 3053, '498518': 3054, '444': 3055, '193668': 3056, '523': 3057, '494': 3058, '244461': 3059, '1417': 3060, '175': 3061, '548': 3062, '227178': 3063, '498': 3064, 'eow': 3065, '139355': 3066, '285': 3067, '161045': 3068, '1739': 3069, 'mexico': 3070, 'regulator': 3071, 'preponderant': 3072, 'suggestion': 3073, 'settings': 3074, 'fix': 3075, 'fundamentalist': 3076, 'neebs': 3077, 'oppourtists': 3078, 'clearly': 3079, 'becuae': 3080, 'opportunities': 3081, 'appear': 3082, 'traders': 3083, 'disciplined': 3084, 'vag': 3085, '154000': 3086, '1113': 3087, '988': 3088, '140': 3089, 'peru': 3090, '129837': 3091, '674': 3092, 'piotroski': 3093, 'indicates': 3094, 'profitability': 3095, '108149': 3096, '373': 3097, '492': 3098, '122500': 3099, 'forestproducts': 3100, '1470': 3101, 'holdi': 3102, '460': 3103, 'checking': 3104, 'explanations': 3105, 'nevery': 3106, 'nposting': 3107, 'supporting': 3108, 'letters': 3109, 'appreciate': 3110, 'sharing': 3111, 'potentials': 3112, 'nexample': 3113, 'clis': 3114, 'basic': 3115, 'motivated': 3116, 'nwait': 3117, 'doctors': 3118, '2003': 3119, 'minds': 3120, 'friend': 3121, 'asking': 3122, 'ev': 3123, 'batteries': 3124, 'battery': 3125, 'forecast': 3126, 'negotiation': 3127, 'bidding': 3128, 'pinned': 3129, '2012': 3130, 'masterstroke': 3131, 'feature': 3132, 'youtu': 3133, '1664': 3134, 'density': 3135, 'poison': 3136, 'pill': 3137, 'settled': 3138, '2010': 3139, 'caused': 3140, 'riots': 3141, 'mgmt': 3142, 'intentions': 3143, 'counter': 3144, 'argument': 3145, 'surprised': 3146, 'bydureon': 3147, 'novo': 3148, 'victoza': 3149, 'diff': 3150, 'qsym': 3151, 'wont': 3152, 'manipulators': 3153, 'extremely': 3154, 'inflated': 3155, 'anyway': 3156, 'opp': 3157, 'perspective': 3158, 'bidders': 3159, 'biotechs': 3160, 'lied': 3161, 'amln': 3162, 'straight': 3163, 'rt': 3164, 'soar': 3165, 'reduction': 3166, 'a1c': 3167, 'seven': 3168, 'covers': 3169, 'employment': 3170, 'colliers': 3171, 'nrondeau': 3172, 'geoffery': 3173, 'operational': 3174, 'retirement': 3175, 'primarily': 3176, 'investible': 3177, 'landscape': 3178, '152184': 3179, '986': 3180, '314': 3181, '137561': 3182, '282': 3183, '561': 3184, '601': 3185, 'max': 3186, 'pain': 3187, 'maturity': 3188, 'maxpain': 3189, '643694': 3190, '436': 3191, '471': 3192, 'harder': 3193, 'averse': 3194, 'decades': 3195, '116673': 3196, '870': 3197, 'deem': 3198, 'anw': 3199, 'written': 3200, 'contacted': 3201, 'handling': 3202, 'creditors': 3203, 'lowest': 3204, 'pecking': 3205, 'bitten': 3206, 'twice': 3207, 'dycom': 3208, 'confused': 3209, 'ppl': 3210, 'yelling': 3211, 'ive': 3212, 'eating': 3213, 'comes': 3214, 'death': 3215, 'heading': 3216, 'directly': 3217, 'wouldnt': 3218, 'cat': 3219, 'missed': 3220, 'flipped': 3221, 'greek': 3222, '300mil': 3223, 'unaccounted': 3224, 'became': 3225, 'bullshit': 3226, 'lue': 3227, 'ensued': 3228, 'leads': 3229, 'bankrupcy': 3230, 'disappear': 3231, 'mercuria': 3232, 'releasing': 3233, 'fair': 3234, 'nhow': 3235, 'counting': 3236, 'otc': 3237, '21k': 3238, 'tia': 3239, 'correct': 3240, 'dockets': 3241, 'ltu': 3242, 'anwwq': 3243, 'aside': 3244, 'timeline': 3245, 'disbursement': 3246, 'cusp': 3247, 'paid': 3248, 'ant': 3249, 'loser': 3250, 'illegal': 3251, 'withhold': 3252, 'stoxx': 3253, 'enjoyed': 3254, 'spaces': 3255, 'pqeff': 3256, 'momths': 3257, 'denburg': 3258, 'campbell': 3259, 'gr': 3260, 'mixed': 3261, 'hits': 3262, 'gte': 3263, 'printer': 3264, 'americamovilbdecv': 3265, 'mexican': 3266, 'bonds': 3267, 'optimists': 3268, 'attracts': 3269, 'trolls': 3270, 'courtesy': 3271, 'loi': 3272, 'reasonable': 3273, 'n50': 3274, 'wrth': 3275, '600': 3276, 'nmake': 3277, 'although': 3278, 'mistake': 3279, 'ude05': 3280, 'chance': 3281, 'competitors': 3282, 'macom': 3283, 'divestment': 3284, 'ampere': 3285, 'gray': 3286, '13227': 3287, 'sproull': 3288, '16564': 3289, 'cure': 3290, 'bloggers': 3291, 'votes': 3292, 'vanguard': 3293, 'corpora': 3294, 'corpo': 3295, '062': 3296, '634': 3297, 'sunday': 3298, 'web': 3299, 'amcc': 3300, 'oops': 3301, 'typo': 3302, 'shrs': 3303, 'dm': 3304, 'talk': 3305, 'similarities': 3306, 'nallied': 3307, 'corps': 3308, 'dcaing': 3309, 'told': 3310, 'buddies': 3311, 'nvcn': 3312, 'listened': 3313, 'coinage': 3314, 'warrents': 3315, 'circuit': 3316, 'affirmed': 3317, 'upholding': 3318, 'equitable': 3319, 'mootness': 3320, 'attached': 3321, 'en': 3322, 'banc': 3323, 'chapter': 3324, 'alliednevadafraud': 3325, 'originally': 3326, 'anv': 3327, 'rearrangement': 3328, 'warrant': 3329, 'amicus': 3330, 'aao': 3331, 'extensively': 3332, 'tested': 3333, 'northern': 3334, 'gives': 3335, 'dumped': 3336, 'successfully': 3337, 'barrick': 3338, 'exactly': 3339, '574': 3340, 'haha': 3341, '505183': 3342, '1536': 3343, '270099': 3344, '1534': 3345, '358': 3346, '462': 3347, '213887': 3348, '1104': 3349, 'stays': 3350, 'godshalk': 3351, 'welsh': 3352, 'brooker': 3353, 'cpas': 3354, '107030': 3355, '468': 3356, '162': 3357, 'lev': 3358, 'pp': 3359, '50b200': 3360, 'sm50v': 3361, 'der5': 3362, 'i1': 3363, 'ia1': 3364, 'harmonic': 3365, 'lateral': 3366, '369648': 3367, '598': 3368, '736': 3369, '181247': 3370, '365': 3371, 'yielding': 3372, 'nbig': 3373, '10x': 3374, 'trch': 3375, 'ntrch': 3376, 'guaranteeing': 3377, 'eligibility': 3378, 'honestly': 3379, 'wheres': 3380, 'udfbcif': 3381, 'udfa4': 3382, 'bargain': 3383, 'hunting': 3384, 'aum': 3385, 'unde': 3386, '666': 3387, 'n144': 3388, '737': 3389, '296474': 3390, '526': 3391, '592': 3392, 'ande': 3393, 'trademarked': 3394, 'processing': 3395, 'wall': 3396, 'compelling': 3397, 'escape': 3398, 'valentine': 3399, 'walz': 3400, '022': 3401, '938': 3402, '119': 3403, '084': 3404, '698': 3405, '466': 3406, 'nmcneely': 3407, '524': 3408, '016': 3409, 'mcneely': 3410, '098': 3411, '1736': 3412, 'automated': 3413, 'greedy': 3414, 'udcc9': 3415, 'hungry': 3416, 'angie': 3417, '867': 3418, '583': 3419, '617': 3420, '162863': 3421, '248329': 3422, '209': 3423, 'aware': 3424, '25k': 3425, 'liftoff': 3426, 'acquisitions': 3427, 'sitting': 3428, 'launching': 3429, 'hicks': 3430, 'bowman': 3431, '175000': 3432, '1602': 3433, '519': 3434, '947664': 3435, '609': 3436, 'pound': 3437, 'transient': 3438, 'rash': 3439, 'patients': 3440, 'interrupting': 3441, 'dosing': 3442, 'rcts': 3443, 'studies': 3444, 'confirmation': 3445, 'biological': 3446, 'safety': 3447, 'nfrom': 3448, 'publication': 3449, 'versus': 3450, 'adverse': 3451, 'groups': 3452, 'reactions': 3453, 'diarrhea': 3454, 'fatigue': 3455, 'meningitis': 3456, '131000': 3457, '1601': 3458, '935': 3459, '244175': 3460, '158': 3461, 'porges': 3462, 'sounds': 3463, 'regulatory': 3464, 'alarm': 3465, 'drugmakers': 3466, 'ndowngraded': 3467, 'downgrades': 3468, '683': 3469, '162782': 3470, '155': 3471, '271': 3472, '905': 3473, '177400': 3474, '776': 3475, '756': 3476, 'accessed': 3477, 'tried': 3478, 'inhibitor': 3479, 'pivoted': 3480, 'potently': 3481, 'specifically': 3482, 'inhibit': 3483, 'efficiently': 3484, 'mediated': 3485, 'diseases': 3486, 'intra': 3487, 'vascular': 3488, 'pnh': 3489, 'c5i': 3490, 'c3is': 3491, 'weisslaw': 3492, 'bftl': 3493, 'ktyb': 3494, 'gluu': 3495, 'ongoing': 3496, 'investig': 3497, '634657': 3498, '795': 3499, '127': 3500, '180694': 3501, '387': 3502, 'iobit': 3503, 'ifun': 3504, 'recorder': 3505, 'recordings': 3506, 'fanplayr': 3507, 'uk': 3508, 'meet': 3509, 'commerce': 3510, 'personalization': 3511, 'productions': 3512, 'presents': 3513, 'host': 3514, 'melvin': 3515, 'brother': 3516, 'touching': 3517, 'revealed': 3518, 'expeditionary': 3519, 'contracted': 3520, 'louisiana': 3521, 'provide': 3522, 'surgical': 3523, 'staff': 3524, 'intensive': 3525, 'beds': 3526, 'collaboration': 3527, 'innobiochips': 3528, 'personalized': 3529, 'diagnostics': 3530, 'monitoring': 3531, 'detection': 3532, 'rejection': 3533, 'wisconsin': 3534, 'students': 3535, 'suiteamerica': 3536, 'hunger': 3537, 'housing': 3538, 'gsa': 3539, 'mas': 3540, 'synergetics': 3541, 'ultfone': 3542, 'robyn': 3543, 'siperstein': 3544, 'local': 3545, 'resident': 3546, 'makeover': 3547, 'argosy': 3548, 'selects': 3549, 'pereview': 3550, 'michigan': 3551, 'union': 3552, 'implements': 3553, 'compensafe': 3554, 'lba': 3555, 'ware': 3556, 'lending': 3557, 'datanumen': 3558, 'excel': 3559, 'excellent': 3560, 'recovery': 3561, 'multilingual': 3562, 'interface': 3563, 'xlnt': 3564, 'facelift': 3565, 'tamale': 3566, 'medisked': 3567, 'cql': 3568, 'internationally': 3569, 'portal': 3570, 'yogi': 3571, 'yogis': 3572, 'amplify': 3573, 'voices': 3574, 'indigenous': 3575, 'color': 3576, 'matthew': 3577, 'wimmer': 3578, 'offers': 3579, 'patient': 3580, 'laser': 3581, 'gum': 3582, 'sends': 3583, 'books': 3584, 'mail': 3585, 'required': 3586, 'digital': 3587, 'divide': 3588, 'carolina': 3589, 'foot': 3590, 'office': 3591, 'sublease': 3592, 'landmark': 3593, 'stamford': 3594, 'represented': 3595, 'choyce': 3596, 'peterson': 3597, 'exclusive': 3598, 'iab': 3599, 'newfronts': 3600, 'aarp': 3601, 'community': 3602, 'applications': 3603, 'unitedlayer': 3604, 'positioned': 3605, 'leader': 3606, 'cloud': 3607, 'brokerage': 3608, 'orchestration': 3609, 'nelsonhall': 3610, 'singer': 3611, 'taylor': 3612, 'dies': 3613, 'car': 3614, 'superstar': 3615, 'earthoptics': 3616, 'agco': 3617, 'agri': 3618, 'summit': 3619, 'mario': 3620, 'gabelli': 3621, 'sm': 3622, 'speak': 3623, 'bezinga': 3624, 'trials': 3625, 'moment': 3626, 'neb': 3627, 'p1': 3628, 'nhowever': 3629, 'fly': 3630, 'permission': 3631, 'unblind': 3632, 'spa': 3633, 'nboth': 3634, 'ampio': 3635, 'calculations': 3636, 'slowly': 3637, 'draining': 3638, 'fucked': 3639, 'elections': 3640, 'pulling': 3641, 'breakeven': 3642, 'science': 3643, 'pockets': 3644, 'pfizer': 3645, 'osteoarthritis': 3646, 'tanezumab': 3647, 'panels': 3648, 'nsold': 3649, 'count': 3650, 'nfuckin': 3651, 'reload': 3652, 'udd32': 3653, 'enticing': 3654, 'kept': 3655, 'memes': 3656, 'nceo': 3657, 'youtube': 3658, 'retaliation': 3659, 'nakd': 3660, 'poor': 3661, 'easier': 3662, 'manipulate': 3663, 'waters': 3664, 'boyos': 3665, 'god': 3666, 'holly': 3667, '129892': 3668, '940': 3669, '948': 3670, 'repu': 3671, 'repurchased': 3672, 'fil': 3673, '052': 3674, 'increases': 3675, '133': 3676, 'n36': 3677, '266': 3678, '40m': 3679, 'n83': 3680, '291133': 3681, '251': 3682, 'wallstreetodds': 3683, 'sameday': 3684, 'fallen': 3685, 'zhang': 3686, '50ma': 3687, 'nthen': 3688, 'fifties': 3689, 'plunge': 3690, 'nshort': 3691, 'riney': 3692, 'supp': 3693, 'resis': 3694, 'r27': 3695, 'fwdpe': 3696, 'xx': 3697, 'reality': 3698, '927m': 3699, 'cushing': 3700, '282m': 3701, '728m': 3702, '246m': 3703, 'npetroleum': 3704, 'refineries': 3705, 'produce': 3706, 'motor': 3707, 'sulfur': 3708, 'diesel': 3709, 'several': 3710, 'heating': 3711, 'gallon': 3712, 'barrel': 3713, '489346': 3714, '942': 3715, '798': 3716, 'algorithms': 3717, 'accordingly': 3718, 'fundamentals': 3719, 'anyhow': 3720, 'sprung': 3721, 'northeast': 3722, 'officially': 3723, 'shoulder': 3724, 'season': 3725, 'stack': 3726, 'summer': 3727, 'dma': 3728, 'brutal': 3729, 'nbut': 3730, 'compnag': 3731, 'actual': 3732, 'commercials': 3733, 'phantom': 3734, 'drugs': 3735, 'calamity': 3736, 'feeling': 3737, 'sore': 3738, 'funniest': 3739, '18th': 3740, 'expensive': 3741, 'slight': 3742, 'jokers': 3743, 'dropping': 3744, 'securing': 3745, 'loses': 3746, 'purchases': 3747, 'ridiculous': 3748, 'premiums': 3749, 'pinks': 3750, 'proven': 3751, 'recognizes': 3752, 'haircut': 3753, 'specific': 3754, 'fpos': 3755, 'clueless': 3756, 'brain': 3757, 'formal': 3758, 'squat': 3759, 'lemmings': 3760, 'hail': 3761, 'mary': 3762, 'hopium': 3763, 'pass': 3764, 'boggling': 3765, 'numerous': 3766, 'severe': 3767, 'intelligence': 3768, 'benefits': 3769, 'combat': 3770, 'yeah': 3771, 'disclosed': 3772, 'fluctuate': 3773, 'predictable': 3774, 'attempting': 3775, 'blame': 3776, 'must': 3777, 'explain': 3778, 'distance': 3779, 'pick': 3780, 'choose': 3781, 'timelines': 3782, 'judge': 3783, 'appeal': 3784, 'catalyst': 3785, 'explicitly': 3786, 'denying': 3787, 'existence': 3788, 'occured': 3789, 'cthe': 3790, 'darkest': 3791, 'dawn': 3792, 'stevie': 3793, 'wonder': 3794, 'picture': 3795, 'flamed': 3796, 'conversation': 3797, 'promise': 3798, 'package': 3799, 'decide': 3800, 'oversized': 3801, 'modest': 3802, 'underwater': 3803, 'excited': 3804, 'step': 3805, '2018': 3806, 'jt': 3807, 'disagree': 3808, 'moron': 3809, 'stages': 3810, 'crushed': 3811, 'denial': 3812, 'anger': 3813, 'mms': 3814, 'bargaining': 3815, 'touch': 3816, 'depression': 3817, 'acceptance': 3818, 'job': 3819, 'dog': 3820, 'loves': 3821, 'resolve': 3822, 'supplement': 3823, 'lord': 3824, 'mercy': 3825, 'climbing': 3826, 'minor': 3827, 'speed': 3828, 'bumps': 3829, 'risking': 3830, 'button': 3831, 'disgrace': 3832, 'flip': 3833, 'liquidity': 3834, 'knock': 3835, 'plenty': 3836, 'frustrated': 3837, 'scotus': 3838, 'possibilities': 3839, 'glance': 3840, 'docket': 3841, '863': 3842, 'nadded': 3843, 'twist': 3844, 'gvrs': 3845, 'vacate': 3846, 'remand': 3847, 'kosmos': 3848, '2985050': 3849, 'investments': 3850, '1588364': 3851, 'published': 3852, '5559': 3853, 'central': 3854, '749249': 3855, 'plaintiff': 3856, 'deadl': 3857, 'exceeding': 3858, 'contact': 3859, 'partn': 3860, 'item1': 3861, 'construction': 3862, 'underway': 3863, 'bled': 3864, 'upgrades': 3865, 'stonehorse': 3866, 'wellbore': 3867, 'locks': 3868, 'cuz': 3869, 'hyped': 3870, 'exploding': 3871, 'fast': 3872, 'math': 3873, 'investt': 3874, 'fuxking': 3875, 'brothers': 3876, 'arm': 3877, 'cause': 3878, 'destroy': 3879, 'banks': 3880, 'feds': 3881, 'shitting': 3882, 'pants': 3883, 'mooooooooooooooooooooooooooon': 3884, 'moon': 3885, 'warren': 3886, 'buffett': 3887, 'nshit': 3888, 'revolution': 3889, '768': 3890, 'bouncer': 3891, 'nseeing': 3892, '398': 3893, 'intere': 3894, 'nyse': 3895, 'decimal': 3896, 'quotes': 3897, 'struggles': 3898, 'cope': 3899, 'impacts': 3900, 'noble': 3901, 'preparation': 3902, 'face': 3903, 'bondholders': 3904, '4981330': 3905, 'announce': 3906, 'africa': 3907, '4746244': 3908, '4293806': 3909, '4292097': 3910, 'prep': 3911, 'bronstein': 3912, 'gewirtz': 3913, 'grossman': 3914, '3901210': 3915, 'grabbing': 3916, 'countrywide': 3917, 'ia': 3918, '0m': 3919, 'bulls': 3920, 'fighting': 3921, 'certified': 3922, 'csrs': 3923, 'liquidation': 3924, 'dissolution': 3925, 'stockholder': 3926, 'nstatement': 3927, '699': 3928, '076': 3929, 'n23': 3930, '217': 3931, '297646': 3932, '063': 3933, 'anemic': 3934, '323k': 3935, 'nlight': 3936, 'ignore': 3937, 'enrolled': 3938, 'hs': 3939, '110': 3940, 'bristol': 3941, 'myers': 3942, 'squibb': 3943, 'bms': 3944, 'opdivo': 3945, 'nivolumab': 3946, 'lung': 3947, 'nsclc': 3948, 'yahoofinance': 3949, '407': 3950, 'n22': 3951, '441890': 3952, '684': 3953, 'ck': 3954, 'plus6k': 3955, 'mildly': 3956, 'amgn': 3957, 'goldencross': 3958, '249': 3959, 'r10': 3960, '849': 3961, '147': 3962, 'unacceptable': 3963, '748': 3964, 'mc': 3965, 'remain': 3966, 'plus17k': 3967, '360': 3968, '401': 3969, '115': 3970, '803': 3971, '109': 3972, 'hr': 3973, 'brazilian': 3974, 'nickel': 3975, 'gbx': 3976, 'port': 3977, 'nport': 3978, 'lazard': 3979, 'stanl': 3980, 'mn': 3981, 'asi': 3982, 'apy': 3983, 'presenting': 3984, 'console': 3985, 'refresh': 3986, 'cycle': 3987, 'multi': 3988, 'shortage': 3989, 'slowed': 3990, 'udd75': 3991, 'pretty': 3992, '498925': 3993, '402': 3994, '504': 3995, '937': 3996, '693': 3997, '097': 3998, '675': 3999, '865': 4000, '826': 4001, '294': 4002, '015': 4003, '692': 4004, 'pri': 4005, 'pric': 4006, '813': 4007, '544': 4008, 'walked': 4009, 'sweet': 4010, 'woods': 4011, '1351': 4012, 'nother': 4013, 'ngnpx': 4014, 'allowed': 4015, 'military': 4016, 'uranus': 4017, 'sleep': 4018, 'yeeeeahhh': 4019, 'dont': 4020, 'royalties': 4021, 'feal': 4022, 'nect': 4023, 'ntax': 4024, 'reform': 4025, 'doubled': 4026, 'sect': 4027, 'abyss': 4028, 'caught': 4029, 'romp': 4030, 'nda': 4031, 'resubmission': 4032, 'epipen': 4033, 'nalnylam': 4034, 'slides': 4035, 'foul': 4036, 'landlubbers': 4037, 'lifeboats': 4038, 'sailors': 4039, 'entirely': 4040, 'block': 4041, 'ubs': 4042, 'tough': 4043, 'everywhere': 4044, 'shyt': 4045, 'ashore': 4046, 'til': 4047, 'sun': 4048, 'shines': 4049, 'southern': 4050, 'navigator': 4051, 'crew': 4052, 'sailed': 4053, 'horizon': 4054, 'ibb': 4055, 'competition': 4056, 'cholesterol': 4057, 'rs': 4058, 'meant': 4059, 'bout': 4060, 'ends': 4061, 'sny': 4062, 'tripled': 4063, '2min': 4064, 'winter': 4065, 'carry': 4066, 'looooong': 4067, 'grtz': 4068, 'netherlands': 4069, 'instead': 4070, 'purposes': 4071, 'seemingly': 4072, 'flippers': 4073, 'similarity': 4074, 'person': 4075, 'lieu': 4076, '300': 4077, 'riding': 4078, 'ahahahah': 4079, 'aftermath': 4080, 'rough': 4081, 'relevant': 4082, 'scratcher': 4083, 'essentially': 4084, 'welcome': 4085, 'faint': 4086, 'heartbeat': 4087, 'dramatically': 4088, 'odd': 4089, 'clips': 4090, 'respect': 4091, 'soul': 4092, 'others': 4093, 'twits': 4094, 'club': 4095, 'articles': 4096, 'anth': 4097, 'bummer': 4098, 'cmon': 4099, 'redditors': 4100, 'criminal': 4101, 'winded': 4102, 'listed': 4103, 'worse': 4104, 'values': 4105, 'liquidate': 4106, 'investigated': 4107, 'jail': 4108, 'woo': 4109, 'hoo': 4110, 'collapse': 4111, 'unto': 4112, 'graded': 4113, 'compliant': 4114, 'sometimes': 4115, 'folded': 4116, 'nsec': 4117, 'regards': 4118, 'noh': 4119, 'perpetually': 4120, 'breasts': 4121, 'ca': 4122, 'arb': 4123, 'widened': 4124, 'click': 4125, 'movie': 4126, 'ticket': 4127, 'grab': 4128, 'airtw': 4129, 'dancing': 4130, 'hater': 4131, 'hating': 4132, 'busy': 4133, 'spacs': 4134, 'favorite': 4135, 'udd2b': 4136, 'expertchartreader': 4137, 'returned': 4138, 'cutting': 4139, 'payroll': 4140, '695': 4141, 'independe': 4142, '423': 4143, '152294': 4144, '945': 4145, 'airproductschemicals': 4146, '136566': 4147, '077': 4148, '494000': 4149, '1427': 4150, 'nyoutube': 4151, 'spsolfg': 4152, 'nsuggested': 4153, 'dates': 4154, 'suisse': 4155, 'ag': 4156, 'hardly': 4157, 'outlook': 4158, '742679': 4159, '533': 4160, 'confirms': 4161, 'agreeemnet': 4162, 'venture': 4163, 'gasification': 4164, 'power': 4165, 'jazan': 4166, 'economic': 4167, 'udfe9': 4168, '157609': 4169, '929': 4170, 'ndollars': 4171, 'nnot': 4172, 'verify': 4173, 'upward': 4174, 'possibility': 4175, 'fintwit': 4176, 'stockmarketnews': 4177, 'apd': 4178, 'starts': 4179, '33m': 4180, 'n204': 4181, '410': 4182, 'n102': 4183, '205': 4184, '102205': 4185, 'canada': 4186, 'eye': 4187, 'heats': 4188, 'nsigned': 4189, 'ministers': 4190, 'outlines': 4191, 'operate': 4192, 'policy': 4193, 'strive': 4194, 'reach': 4195, 'goal': 4196, '2050': 4197, 'ncanada': 4198, 'focusing': 4199, 'cblue': 4200, 'typically': 4201, 'derived': 4202, 'coupled': 4203, 'capture': 4204, 'reduce': 4205, 'nlng': 4206, 'serve': 4207, 'handy': 4208, 'cbridge': 4209, 'territory': 4210, 'aiming': 4211, 'integrate': 4212, 'lng': 4213, 'imports': 4214, '169': 4215, 'boggled': 4216, 'jumping': 4217, 'luckily': 4218, 'veronica': 4219, 'jordan': 4220, 'coronavirus': 4221, '3600': 4222, '7201': 4223, '2825': 4224, 'mad': 4225, 'nif': 4226, 'outsourcing': 4227, '2027': 4228, 'ht': 4229, 'averages': 4230, 'anderson': 4231, 'una': 4232, 'gabriel': 4233, 'leung': 4234, 'bona': 4235, 'fide': 4236, '23050': 4237, 'deserved': 4238, '4522': 4239, 'nolan': 4240, 'svokos': 4241, '14584': 4242, 'constance': 4243, '20000': 4244, 'oconnor': 4245, '2252': 4246, 'henderson': 4247, '2500': 4248, 'lotz': 4249, 'floats': 4250, 'hod': 4251, 'lighthouse': 4252, 'm3': 4253, 'waller': 4254, 'yakira': 4255, 'stephenson': 4256, 'sheridan': 4257, 'narrow': 4258, 'bar': 4259, 'plus': 4260, 'koch': 4261, 'gary': 4262, 'degner': 4263, 'terri': 4264, 'jerald': 4265, 'kay': 4266, '182940': 4267, '286': 4268, '3200c': 4269, '799': 4270, '85p': 4271, '20c': 4272, 'id': 4273, 'bx4oy2ptrq': 4274, '844430': 4275, '811': 4276, '176074': 4277, 'cyclical': 4278, '64m': 4279, 'n329': 4280, '638': 4281, 'n164': 4282, 'automotiveaftermarket': 4283, '164819': 4284, 'nearing': 4285, 'nnh': 4286, '808': 4287, '96m': 4288, 'n227': 4289, '298': 4290, 'corner': 4291, 'bf': 4292, 'webull': 4293, 'authentication': 4294, 'increasingly': 4295, 'pumps': 4296, 'campleforth': 4297, 'succeeding': 4298, 'unbelievably': 4299, 'ethereum': 4300, 'cryptoslate': 4301, 'rebase': 4302, 'mechanism': 4303, 'convexity': 4304, 'theres': 4305, 'theory': 4306, 'shout': 4307, 'premium': 4308, 'defi': 4309, 'primitive': 4310, 'doubt': 4311, 'mass': 4312, 'nbought': 4313, 'fud': 4314, 'vc': 4315, 'backed': 4316, 'preposterous': 4317, 'dunno': 4318, 'scary': 4319, 'err': 4320, 'impression': 4321, 'crypto': 4322, 'elasticity': 4323, 'elastic': 4324, 'token': 4325, 'population': 4326, 'adjustments': 4327, 'nightly': 4328, '10pm': 4329, 'quality': 4330, 'provably': 4331, 'secure': 4332, 'powered': 4333, 'oracles': 4334, 'decays': 4335, 'refiners': 4336, 'ngl': 4337, 'capitalized': 4338, 'et': 4339, 'xom': 4340, 'cvx': 4341, 'sustainable': 4342, 'rig': 4343, 'counts': 4344, 'cuts': 4345, 'intervening': 4346, 'putin': 4347, 'regardless': 4348, 'russia': 4349, 'maintain': 4350, 'budgets': 4351, 'ndemand': 4352, 'peak': 4353, 'economies': 4354, 'eg': 4355, 'easiest': 4356, 'reward': 4357, 'skewed': 4358, 'unlikely': 4359, 'turmoil': 4360, 'ha': 4361, '30pmest': 4362, 'ampal': 4363, 'israel': 4364, 'commission': 4365, 'revoking': 4366, 'basing': 4367, 'pays': 4368, 'ouch': 4369, 'sharply': 4370, 'stubborn': 4371, 'buyiinns': 4372, 'booom': 4373, 'tel': 4374, 'aviv': 4375, 'appoints': 4376, 'receiver': 4377, 'gadot': 4378, 'wife': 4379, 'came': 4380, 'beating': 4381, 'foreseeable': 4382, 'dot': 4383, 'wallstreet': 4384, 'pumped': 4385, 'leaving': 4386, 'welp': 4387, 'apologies': 4388, 'trendline': 4389, 'spent': 4390, 'dive': 4391, 'totally': 4392, 'understandable': 4393, 'important': 4394, 'concerned': 4395, 'greater': 4396, 'sighted': 4397, 'skittish': 4398, 'gyrations': 4399, 'profits': 4400, 'prudent': 4401, 'impending': 4402, 'doerr': 4403, 'haul': 4404, 'nthese': 4405, 'unflinching': 4406, 'nbest': 4407, 'usually': 4408, '28th': 4409, 'announcements': 4410, 'slaughtered': 4411, 'light': 4412, 'rage': 4413, 'machine': 4414, 'corresponding': 4415, 'clear': 4416, 'melo': 4417, 'garden': 4418, 'path': 4419, 'secondary': 4420, '3000': 4421, 'attempted': 4422, 'computer': 4423, 'outside': 4424, 'enjoy': 4425, 'nof': 4426, 'pouring': 4427, 'ugly': 4428, 'algos': 4429, 'nbullish': 4430, 'flow': 4431, 'amyris': 4432, '1x': 4433, 'implied': 4434, 'points': 4435, 'strikes': 4436, '900': 4437, 'contracts': 4438, 'ratio': 4439, '4th': 4440, 'charm': 4441, 'ya': 4442, 'suicide': 4443, 'amrs': 4444, 'hang': 4445, 'folks': 4446, 'cartwright': 4447, '094': 4448, 'edens': 4449, 'havens': 4450, 'russel': 4451, 'mlv': 4452, 'transf': 4453, 'finan': 4454, 'houseeeeeeeeeeeeeeeee': 4455, 'rosenzweig': 4456, '11638': 4457, 'saders': 4458, '125000': 4459, 'kelson': 4460, '33334': 4461, '403': 4462, '189': 4463, 'chairmans': 4464, '234': 4465, '342': 4466, '802': 4467, 'nadigics': 4468, 'withdrawal': 4469, 'request': 4470, 'demands': 4471, '195913': 4472, 'hf': 4473, 'tune': 4474, 'jim': 4475, 'cramer': 4476, 'auto': 4477, 'self': 4478, 'destruct': 4479, 'born': 4480, 'old': 4481, '241100': 4482, 'ntaking': 4483, 'divi': 4484, 'weathering': 4485, 'bashing': 4486, 'commodities': 4487, 'lately': 4488, '149715': 4489, '977': 4490, 'publicutilities': 4491, 'factz': 4492, 'orders': 4493, '12th': 4494, 'server': 4495, 'rooms': 4496, 'linked': 4497, 'super': 4498, 'helpful': 4499, 'hello': 4500, 'loma': 4501, 'suppose': 4502, 'usa': 4503, 'cown': 4504, '57k': 4505, 'confirm': 4506, '1693445': 4507, '037': 4508, '791': 4509, 'witching': 4510, 'synthetic': 4511, 'ntransfer': 4512, '209598': 4513, 'arca': 4514, 'nback': 4515, 'n25': 4516, 'gif': 4517, 'nholy': 4518, 'moly': 4519, 'amsc': 4520, 'reg': 4521, '256508': 4522, 'rollercoaster': 4523, 'madness': 4524, 'udd2c': 4525, 'upper': 4526, 'boundary': 4527, 'volumes': 4528, 'bet': 4529, 'congress': 4530, 'nlet': 4531, 'crank': 4532, 'dans': 4533, 'mornings': 4534, 'nnice': 4535, 'flag': 4536, 'nreal': 4537, 'ngo': 4538, '28k': 4539, 'conve': 4540, '266138': 4541, '366': 4542, 'hidden': 4543, '995429': 4544, '390410': 4545, '971': 4546, '621': 4547, '238793': 4548, 'technolo': 4549, 'claimed': 4550, 'amswa': 4551, '225682': 4552, '883': 4553, '758': 4554, 'kn': 4555, 'variab': 4556, 'conferen': 4557, '7000': 4558, 'americanpubliceducation': 4559, '601207': 4560, 'spr': 4561, '330': 4562, '303': 4563, '610': 4564, 'grante': 4565, 'honn': 4566, 'orfailure': 4567, 'independent': 4568, 'auditors': 4569, 'a0three': 4570, 'ruleor': 4571, 'gnow': 4572, 'exempt': 4573, '06b': 4574, 'hmm': 4575, 'springing': 4576, 'axla': 4577, 'napre': 4578, 'flat': 4579, 'nbiotech': 4580, 'faces': 4581, 'katrina': 4582, 'lewis': 4583, 'bloomberg': 4584, 'terminal': 4585, 'stake': 4586, 'woooo': 4587, 'ude2e': 4588, '6250': 4589, 'uhhh': 4590, 'bommmmmmmmm': 4591, 'cs': 4592, 'emailed': 4593, 'responded': 4594, '208': 4595, '384': 4596, 'incre': 4597, 'nstill': 4598, 'da': 4599, 'dec': 4600, '089': 4601, 'securiti': 4602, 'roe': 4603, 'outperforms': 4604, '112': 4605, 'claire': 4606, 'gulmi': 4607, '20237': 4608, 'harrell': 4609, 'royce': 4610, '5018': 4611, 'phillip': 4612, 'clendenin': 4613, '13617': 4614, '7500': 4615, 'dimensional': 4616, '1000': 4617, 'coward': 4618, '9232': 4619, 'amounts': 4620, '5293': 4621, 'kelly': 4622, 'roberts': 4623, '18500': 4624, '248867': 4625, '135347': 4626, '975': 4627, 'dumbest': 4628, 'seeking': 4629, 'used': 4630, 'imagine': 4631, 'outlet': 4632, '45m': 4633, 'n355': 4634, '290': 4635, 'n177': 4636, '645': 4637, '177645': 4638, 'calm': 4639, 'loook': 4640, 'sakellaris': 4641, 'consummated': 4642, '625': 4643, 'underwriters': 4644, '424b4': 4645, 'pricing': 4646, 'squeezed': 4647, 'covering': 4648, 'ude3b': 4649, 'anders': 4650, 'hove': 4651, '257647': 4652, 'lucy': 4653, 'shapiro': 4654, 'falconer66a': 4655, 'premise': 4656, '9860': 4657, 'graeme': 4658, '751': 4659, '65100': 4660, '4000': 4661, 'rieflin': 4662, '4953': 4663, '4952': 4664, 'venrock': 4665, 'iv': 4666, '15000': 4667, '14375': 4668, 'lee': 4669, 'zane': 4670, '4100': 4671, 'fpa': 4672, 'expectation': 4673, '120': 4674, 'ameri': 4675, 'brody': 4676, 'merrill': 4677, 'registrant': 4678, '2021104': 4679, 'signature': 4680, 'acc': 4681, 'covello': 4682, '10896': 4683, 'sees': 4684, 'invisible': 4685, 'intangible': 4686, 'socially': 4687, 'trending': 4688, 'paleyfest': 4689, 'stockscreener': 4690, 'oaks': 4691, 'viewed': 4692, '259': 4693, 'queenof': 4694, 'shvote': 4695, 'nex': 4696, 'mergers': 4697, 'mangrove': 4698, 'rmbs': 4699, 'followi': 4700, 'opens': 4701, 'cclp': 4702, 'usdp': 4703, 'commercial': 4704, 'nclaimed': 4705, 'maintaining': 4706, 'abusive': 4707, 'practice': 4708, 'necessary': 4709, 'agency': 4710, 'highly': 4711, 'supportive': 4712, 'transmit': 4713, 'prospects': 4714, 'helps': 4715, 'irrational': 4716, 'exuberance': 4717, 'bubbles': 4718, 'fails': 4719, 'borrow': 4720, 'failing': 4721, 'determine': 4722, 'borrowed': 4723, 'contributing': 4724, 'undermining': 4725, 'distort': 4726, 'aimed': 4727, 'institution': 4728, 'manipulative': 4729, 'drastic': 4730, 'consequences': 4731, 'speech': 4732, 'cox': 4733, 'dogecoin': 4734, 'grpahchart': 4735, 'triangles': 4736, 'patterns': 4737, 'rui': 4738, 'unistar': 4739, 'sheets': 4740, 'regain': 4741, 'requirement': 4742, 'framework': 4743, 'bitgeek': 4744, 'informatio': 4745, 'a12b': 4746, 'deck': 4747, 'giddy': 4748, 'receipt': 4749, 'deficiency': 4750, 'inability': 4751, 'timely': 4752, 'nt': 4753, 'uddfa': 4754, 'uddf8': 4755, 'nsmall': 4756, 'ship': 4757, 'tops': 4758, 'gnus': 4759, 'mitt': 4760, 'napop': 4761, 'excuse': 4762, '340': 4763, 'unicredit': 4764, 'italian': 4765, 'opposed': 4766, 'monte': 4767, 'dei': 4768, 'paschi': 4769, 'silent': 4770, 'makers': 4771, 'metal': 4772, 'cars': 4773, 'diligence': 4774, 'persistent': 4775, 'transformation': 4776, 'weighted': 4777, 'shift': 4778, 'nfollow': 4779, 'epic': 4780, '335': 4781, 'rip': 4782, 'nhas': 4783, 'boys': 4784, 'listen': 4785, 'xela': 4786, 'alibaba': 4787, 'poss': 4788, 'expired': 4789, 'displaced': 4790, 'things': 4791, 'player': 4792, 'whenever': 4793, 'triple': 4794, 'nwatch': 4795, 'boring': 4796, 'avoid': 4797, 'buyer': 4798, 'televisionservices': 4799, 'christian': 4800, 'wymbs': 4801, '245718': 4802, 'fight': 4803, 'eyeballs': 4804, 'udd26': 4805, 'cinema': 4806, 'killing': 4807, 'isnt': 4808, 'rips': 4809, 'identical': 4810, 'prior': 4811, 'era': 4812, 'fat': 4813, 'thumbing': 4814, 'executives': 4815, 'gallagher': 4816, 'spot': 4817, 'toes': 4818, 'biscuit': 4819, '515008': 4820, '1053': 4821, '899': 4822, '909': 4823, '114445': 4824, '1508': 4825, '372': 4826, '943': 4827, 'allocate': 4828, 'proceeds': 4829, '211968': 4830, '1109': 4831, '186': 4832, '358909': 4833, '1407': 4834, '904': 4835, '151000': 4836, '947': 4837, 'drops': 4838, 'staying': 4839, 'mental': 4840, 'midget': 4841, 'nworst': 4842, 'squawk': 4843, 'box': 4844, 'nlate': 4845, 'confidentially': 4846, 'nwho': 4847, 'crashes': 4848, 'ngarbage': 4849, 'customer': 4850, 'npost': 4851, 'pics': 4852, 'dave': 4853, 'nadig': 4854, 'monitor': 4855, 'split': 4856, 'nsaw': 4857, 'nasswipes': 4858, 'tdameritrade': 4859, 'column': 4860, 'nepic': 4861, 'shmucks': 4862, 'jj': 4863, 'kinahan': 4864, 'says': 4865, 'nio': 4866, 'tweet': 4867, 'dickhead': 4868, 'nwhe': 4869, 'nhey': 4870, 'clowns': 4871, 'nowhere': 4872, 'keeled': 4873, 'nanyone': 4874, 'login': 4875, 'fatass': 4876, 'candle': 4877, 'trash': 4878, 'retarded': 4879, 'fck': 4880, 'aveo': 4881, 'ass': 4882, 'thinkorswim': 4883, 'discovered': 4884, 'surprise': 4885, 'looked': 4886, 'stuck': 4887, 'qqq': 4888, 'apps': 4889, 'websites': 4890, 'tda': 4891, 'personal': 4892, 'lose': 4893, 'roll': 4894, 'problems': 4895, 'imx': 4896, 'rises': 4897, 'chernobyl': 4898, 'warning': 4899, 'refinance': 4900, 'revolver': 4901, '2026': 4902, 'aggregate': 4903, 'principal': 4904, 'accurate': 4905, 'ne': 4906, '960': 4907, 'n63': 4908, '215075': 4909, '025': 4910, 'nmoney': 4911, 'auction': 4912, 'pivotpoint': 4913, 'chjyna': 4914, 'awes': 4915, '396': 4916, '487': 4917, 'cfius': 4918, 'recently': 4919, 'commenced': 4920, 'actions': 4921, 'citigroup': 4922, 'solicitation': 4923, 'brower': 4924, 'piven': 4925, 'proposed': 4926, 'updated': 4927, 'smallcappower': 4928, 'flyer': 4929, 'vincent': 4930, 'wong': 4931, 'brodsky': 4932, '754': 4933, 'barrett': 4934, 'raymond': 4935, 'white': 4936, '001': 4937, '046': 4938, 'nn': 4939, 'charlotte': 4940, 'contributors': 4941, 'frontline': 4942, 'probe': 4943, 'lines': 4944, 'eurozone': 4945, 'cold': 4946, 'challenges': 4947, 'struggling': 4948, 'restaurants': 4949, 'chill': 4950, 'dining': 4951, 'nmust': 4952, 'pt2': 4953, 'galidesivir': 4954, 'broad': 4955, 'antiviral': 4956, 'funded': 4957, 'niaid': 4958, 'sars': 4959, 'marburg': 4960, 'zika': 4961, 'icing': 4962, 'cake': 4963, 'fop': 4964, '325m': 4965, 'orladeyo': 4966, 'risked': 4967, 'needing': 4968, 'anymore': 4969, 'denner': 4970, 'founder': 4971, 'sarissa': 4972, 'bcrx': 4973, 'nthere': 4974, 'represent': 4975, 'oraldeyo': 4976, 'nthats': 4977, 'undervalued': 4978, 'nand': 4979, 'agreed': 4980, 'calling': 4981, 'biowar': 4982, 'works': 4983, 'lifes': 4984, 'penguins': 4985, 'wellington': 4986, 'colorado': 4987, 'honorable': 4988, 'tallman': 4989, 'greens': 4990, 'btter': 4991, 'docnabbitt': 4992, 'candiate': 4993, 'vultures': 4994, 'tear': 4995, 'aftr': 4996, 'chp11': 4997, 'bond': 4998, 'recoveries': 4999, 'reference': 5000, 'decision': 5001, 'usatoday30': 5002, 'usatoday': 5003, 'mon': 5004, 'fact': 5005, 'junk': 5006, 'butterfly': 5007, 'amzg': 5008, '60min': 5009, 'fishing': 5010, 'climb2': 5011, 'peeps': 5012, 'spotting': 5013, 'bargin': 5014, 'aa': 5015, 'examples': 5016, 'paragraph': 5017, 'organization': 5018, 'question': 5019, 'curious': 5020, 'chap': 5021, 'bounced': 5022, 'substantial': 5023, 'gamblers': 5024, '241': 5025, 'fmr': 5026, '80m': 5027, 'guidance': 5028, 'measures': 5029, 'emmoco': 5030, 'jointly': 5031, 'developed': 5032, 'module': 5033, '343': 5034, 'needham': 5035, '283529': 5036, '1630': 5037, '853': 5038, '566': 5039, '296': 5040, '804': 5041, 'n32': 5042, 'n125': 5043, '125273': 5044, '088': 5045, 'n27': 5046, '575': 5047, '52m': 5048, 'n453': 5049, '260': 5050, '1641': 5051, 'n150': 5052, '161': 5053, 'n303': 5054, '099': 5055, '303099': 5056, 'naon': 5057, '194775': 5058, '1640': 5059, '150090': 5060, '1620': 5061, '530': 5062, '442412': 5063, '840': 5064, 'pending': 5065, 'newbetter': 5066, '768910': 5067, '222': 5068, '390': 5069, '039': 5070, '160014': 5071, '843': 5072, 'apparently': 5073, '143183': 5074, '310': 5075, 'insure': 5076, 'tru': 5077, '415': 5078, '624': 5079, 'n87': 5080, '95m': 5081, 'n211': 5082, '105957': 5083, 'blue': 5084, 'deserve': 5085, 'spotlight': 5086, 'lists': 5087, 'atrpct': 5088, 'pg20': 5089, '173663': 5090, '086': 5091, 'namp': 5092, '134866': 5093, 'financia': 5094, 'moves': 5095, '1734687': 5096, '228': 5097, 'decentralized': 5098, 'enabling': 5099, 'obtain': 5100, 'reliable': 5101, 'developer': 5102, 'docs': 5103, 'strategically': 5104, 'evolves': 5105, 'align': 5106, 'affiliates': 5107, 'financials': 5108, '492486': 5109, '149': 5110, '411': 5111, 'n76': 5112, 'southeastern': 5113, '78m': 5114, 'n172': 5115, '74m': 5116, 'n163': 5117, '302': 5118, '76m': 5119, 'n136': 5120, '902': 5121, '083': 5122, '553': 5123, '180': 5124, '038': 5125, '778': 5126, '126208': 5127, '334': 5128, '262': 5129, 'udeeb': 5130, 'sim': 5131, '245056': 5132, '459': 5133, 'fist': 5134, 'downturn': 5135, 'nverisk': 5136, 'unique': 5137, 'critical': 5138, 'databases': 5139, 'design': 5140, '114865': 5141, '178': 5142, '477': 5143, '428': 5144, 'electromechanical': 5145, '143': 5146, '926': 5147, '556': 5148, '771': 5149, 'comptroller': 5150, '550': 5151, '188045': 5152, 'furnished': 5153, 'inks': 5154, '35b': 5155, 'bln': 5156, '595341': 5157, '1258': 5158, '308714': 5159, '1254': 5160, '432': 5161, '146': 5162, 'reaching': 5163, '121195': 5164, '1012': 5165, '297': 5166, '105671': 5167, '951': 5168, '070': 5169, 'chartmill': 5170, 'analyzer': 5171, 'oxford': 5172, 'mackey': 5173, 'komara': 5174, 'dankovich': 5175, '476016': 5176, '1346': 5177, '463': 5178, '281671': 5179, '1342': 5180, '219': 5181, '199802': 5182, '1034': 5183, '643': 5184, '138765': 5185, '1322': 5186, '033': 5187, '502': 5188, '140525': 5189, '1320': 5190, '159571': 5191, '1535': 5192, '928': 5193, '572': 5194, 'balanced': 5195, '239': 5196, 'attack': 5197, 'convergence': 5198, 'divergence': 5199, 'crosses': 5200, 'juicy': 5201, 'partnerships': 5202, 'cisco': 5203, 'brainer': 5204, 'stopped': 5205, 'scaling': 5206, '200sma': 5207, 'avg': 5208, 'techs': 5209, 'swings': 5210, 'send': 5211, 'nicely': 5212, 'follows': 5213, 'resistances': 5214, '20m': 5215, 'n264k': 5216, 'booked': 5217, 'began': 5218, 'pump': 5219, 'primed': 5220, 'educational': 5221, 'edtk': 5222, 'ed': 5223, 'soooo': 5224, 'perking': 5225, 'theme': 5226, 'ripping': 5227, 'merged': 5228, 'discontinued': 5229, 'acquires': 5230, 'revenues': 5231, '9x': 5232, 'rev': 5233, 'nortel': 5234, 'liken': 5235, '90s': 5236, 'josh': 5237, 'brown': 5238, 'cnbc': 5239, 'disney': 5240, 'warner': 5241, 'ytd': 5242, 'curiosity': 5243, 'esp': 5244, 'weeklies': 5245, 'whisper': 5246, '37c': 5247, '1c': 5248, 'behind': 5249, 'tues': 5250, 'disrupted': 5251, 'perfection': 5252, 'fans': 5253, 'mathematical': 5254, 'curiosities': 5255, 'roughly': 5256, 'combined': 5257, 'spam': 5258, 'sent': 5259, 'noise': 5260, 'tis': 5261, 'quite': 5262, 'incorporation': 5263, 'worked': 5264, 'ad': 5265, 'archives': 5266, 'seth': 5267, 'klarman': 5268, 'baupost': 5269, '1999': 5270, 'display': 5271, 'advertising': 5272, 'key': 5273, 'lolaol': 5274, 'msft': 5275, 'exciting': 5276, 'card': 5277, 'huffington': 5278, 'dish': 5279, 'continuation': 5280, 'afternoon': 5281, 'hav': 5282, 'tendency': 5283, 'consolidate': 5284, 'direcy': 5285, 'often': 5286, 'main': 5287, 'switch': 5288, 'shorters': 5289, 'udd1f': 5290, 'shared': 5291, 'obvious': 5292, 'sight': 5293, 'sensing': 5294, 'elektra': 5295, 'nominations': 5296, 'attended': 5297, 'convention': 5298, 'promote': 5299, 'ar': 5300, 'frsx': 5301, 'printing': 5302, 'lolol': 5303, 'center': 5304, 'rochester': 5305, 'ny': 5306, 'sensor': 5307, 'enabled': 5308, 'expertise': 5309, 'picks': 5310, 'behaves': 5311, 'son': 5312, 'ntruce': 5313, 'udd1d': 5314, 'mods': 5315, 'obviously': 5316, 'scamming': 5317, 'normal': 5318, 'glta': 5319, 'flynn': 5320, 'nhod': 5321, 'trick': 5322, 'ur': 5323, 'hodlll': 5324, 'buyers': 5325, '14k': 5326, 'eat': 5327, '70s': 5328, 'sooon': 5329, 'redeemable': 5330, 'nmcadams': 5331, 'decrease': 5332, 'matured': 5333, 'redeemed': 5334, 'retired': 5335, 'udd23everything': 5336, 'except': 5337, 'udd2coil': 5338, 'charge': 5339, 'uncertainty': 5340, 'mf': 5341, 'bitch': 5342, 'devices': 5343, 'nnobody': 5344, 'neckline': 5345, 'chain': 5346, 'suez': 5347, 'canal': 5348, 'blocked': 5349, 'trouble': 5350, 'mr': 5351, 'forgot': 5352, 'shintels': 5353, 'arizona': 5354, 'capacity': 5355, 'tsm': 5356, 'classic': 5357, 'formation': 5358, 'hanging': 5359, 'diamonds': 5360, 'scrap': 5361, 'tissue': 5362, 'gone': 5363, 'body': 5364, 'ude24': 5365, 'dump': 5366, 'udca9': 5367, 'includes': 5368, 'ude21': 5369, 'constant': 5370, 'goin': 5371, 'sleepy': 5372, 'speaks': 5373, 'commies': 5374, 'dems': 5375, 'farts': 5376, 'slacks': 5377, 'tolerance': 5378, 'throw': 5379, 'towel': 5380, 'retest': 5381, 'lows': 5382, 'dragging': 5383, 'correction': 5384, 'sma': 5385, 'rinse': 5386, 'booty': 5387, 'bump': 5388, 'blackmail': 5389, 'aapl': 5390, 'weeeeel': 5391, 'shame': 5392, 'depend': 5393, 'fab': 5394, 'screwed': 5395, 'execute': 5396, 'recovering': 5397, 'fumbles': 5398, 'building': 5399, 'foundry': 5400, 'hypothetically': 5401, 'producing': 5402, '2025': 5403, 'delays': 5404, 'bail': 5405, '877': 5406, 'wants': 5407, 'democratic': 5408, 'forced': 5409, 'doubling': 5410, 'trillion': 5411, 'hate': 5412, 'valuations': 5413, 'relationships': 5414, 'heyoooo': 5415, 'vertical': 5416, '108374': 5417, '950': 5418, 'nfinnerty': 5419, '657': 5420, 'anik': 5421}\n"
          ]
        }
      ]
    },
    {
      "cell_type": "code",
      "source": [
        "df_google_vector.shape"
      ],
      "metadata": {
        "colab": {
          "base_uri": "https://localhost:8080/"
        },
        "id": "s0NsaMqONi_L",
        "outputId": "d1e3afdb-5d92-4694-fe57-747af43dfd81"
      },
      "execution_count": null,
      "outputs": [
        {
          "output_type": "execute_result",
          "data": {
            "text/plain": [
              "(2737, 500)"
            ]
          },
          "metadata": {},
          "execution_count": 19
        }
      ]
    },
    {
      "cell_type": "code",
      "source": [
        "df_google.head()"
      ],
      "metadata": {
        "colab": {
          "base_uri": "https://localhost:8080/",
          "height": 354
        },
        "id": "uZL0t6UvAVAj",
        "outputId": "c1019784-27e5-4589-f9d2-c5657a243368"
      },
      "execution_count": null,
      "outputs": [
        {
          "output_type": "execute_result",
          "data": {
            "text/html": [
              "\n",
              "  <div id=\"df-b148f8a0-ed89-4b4d-b9a3-299d0047f0c9\">\n",
              "    <div class=\"colab-df-container\">\n",
              "      <div>\n",
              "<style scoped>\n",
              "    .dataframe tbody tr th:only-of-type {\n",
              "        vertical-align: middle;\n",
              "    }\n",
              "\n",
              "    .dataframe tbody tr th {\n",
              "        vertical-align: top;\n",
              "    }\n",
              "\n",
              "    .dataframe thead th {\n",
              "        text-align: right;\n",
              "    }\n",
              "</style>\n",
              "<table border=\"1\" class=\"dataframe\">\n",
              "  <thead>\n",
              "    <tr style=\"text-align: right;\">\n",
              "      <th></th>\n",
              "      <th>Unnamed: 0</th>\n",
              "      <th>date</th>\n",
              "      <th>user</th>\n",
              "      <th>twits</th>\n",
              "      <th>score</th>\n",
              "      <th>sent_category</th>\n",
              "      <th>Clean_Tweet</th>\n",
              "      <th>Clean_Tweet_rm</th>\n",
              "    </tr>\n",
              "  </thead>\n",
              "  <tbody>\n",
              "    <tr>\n",
              "      <th>0</th>\n",
              "      <td>0</td>\n",
              "      <td>3/24/2021 4:49:50 AM</td>\n",
              "      <td>utahstock12</td>\n",
              "      <td>['$ANDA Their site traffic for direct sales wh...</td>\n",
              "      <td>0.85</td>\n",
              "      <td>1</td>\n",
              "      <td>their site traffic for direct sales which was ...</td>\n",
              "      <td>site traffic direct sales revelation 2020 cont...</td>\n",
              "    </tr>\n",
              "    <tr>\n",
              "      <th>1</th>\n",
              "      <td>1</td>\n",
              "      <td>3/23/2021 10:09:25 PM</td>\n",
              "      <td>dinoshanahan</td>\n",
              "      <td>['$ANDA ASXC This is the future of surgery wit...</td>\n",
              "      <td>0.75</td>\n",
              "      <td>1</td>\n",
              "      <td>asxc this is the future of surgery with senhan...</td>\n",
              "      <td>asxc future surgery senhance competitor kind a...</td>\n",
              "    </tr>\n",
              "    <tr>\n",
              "      <th>2</th>\n",
              "      <td>2</td>\n",
              "      <td>3/18/2021 8:08:27 PM</td>\n",
              "      <td>Tiggers23</td>\n",
              "      <td>['$ANDA stock market has now tanked a couple t...</td>\n",
              "      <td>0.45</td>\n",
              "      <td>-1</td>\n",
              "      <td>stock market has now tanked a couple times and...</td>\n",
              "      <td>stock market tanked couple times unmoved tradi...</td>\n",
              "    </tr>\n",
              "    <tr>\n",
              "      <th>3</th>\n",
              "      <td>3</td>\n",
              "      <td>3/18/2021 5:31:56 PM</td>\n",
              "      <td>gimestocky</td>\n",
              "      <td>['$BENEU so the loss on this sucks right now a...</td>\n",
              "      <td>0.45</td>\n",
              "      <td>-1</td>\n",
              "      <td>so the loss on this sucks right now and i 39 v...</td>\n",
              "      <td>loss sucks right 39 debated selling taking los...</td>\n",
              "    </tr>\n",
              "    <tr>\n",
              "      <th>4</th>\n",
              "      <td>4</td>\n",
              "      <td>3/17/2021 5:36:28 PM</td>\n",
              "      <td>GreenOnMe</td>\n",
              "      <td>['$ANDA Have a lot of warrants very profitable...</td>\n",
              "      <td>0.55</td>\n",
              "      <td>1</td>\n",
              "      <td>have a lot of warrants very profitable so far ...</td>\n",
              "      <td>lot warrants profitable far anyone know suppos...</td>\n",
              "    </tr>\n",
              "  </tbody>\n",
              "</table>\n",
              "</div>\n",
              "      <button class=\"colab-df-convert\" onclick=\"convertToInteractive('df-b148f8a0-ed89-4b4d-b9a3-299d0047f0c9')\"\n",
              "              title=\"Convert this dataframe to an interactive table.\"\n",
              "              style=\"display:none;\">\n",
              "        \n",
              "  <svg xmlns=\"http://www.w3.org/2000/svg\" height=\"24px\"viewBox=\"0 0 24 24\"\n",
              "       width=\"24px\">\n",
              "    <path d=\"M0 0h24v24H0V0z\" fill=\"none\"/>\n",
              "    <path d=\"M18.56 5.44l.94 2.06.94-2.06 2.06-.94-2.06-.94-.94-2.06-.94 2.06-2.06.94zm-11 1L8.5 8.5l.94-2.06 2.06-.94-2.06-.94L8.5 2.5l-.94 2.06-2.06.94zm10 10l.94 2.06.94-2.06 2.06-.94-2.06-.94-.94-2.06-.94 2.06-2.06.94z\"/><path d=\"M17.41 7.96l-1.37-1.37c-.4-.4-.92-.59-1.43-.59-.52 0-1.04.2-1.43.59L10.3 9.45l-7.72 7.72c-.78.78-.78 2.05 0 2.83L4 21.41c.39.39.9.59 1.41.59.51 0 1.02-.2 1.41-.59l7.78-7.78 2.81-2.81c.8-.78.8-2.07 0-2.86zM5.41 20L4 18.59l7.72-7.72 1.47 1.35L5.41 20z\"/>\n",
              "  </svg>\n",
              "      </button>\n",
              "      \n",
              "  <style>\n",
              "    .colab-df-container {\n",
              "      display:flex;\n",
              "      flex-wrap:wrap;\n",
              "      gap: 12px;\n",
              "    }\n",
              "\n",
              "    .colab-df-convert {\n",
              "      background-color: #E8F0FE;\n",
              "      border: none;\n",
              "      border-radius: 50%;\n",
              "      cursor: pointer;\n",
              "      display: none;\n",
              "      fill: #1967D2;\n",
              "      height: 32px;\n",
              "      padding: 0 0 0 0;\n",
              "      width: 32px;\n",
              "    }\n",
              "\n",
              "    .colab-df-convert:hover {\n",
              "      background-color: #E2EBFA;\n",
              "      box-shadow: 0px 1px 2px rgba(60, 64, 67, 0.3), 0px 1px 3px 1px rgba(60, 64, 67, 0.15);\n",
              "      fill: #174EA6;\n",
              "    }\n",
              "\n",
              "    [theme=dark] .colab-df-convert {\n",
              "      background-color: #3B4455;\n",
              "      fill: #D2E3FC;\n",
              "    }\n",
              "\n",
              "    [theme=dark] .colab-df-convert:hover {\n",
              "      background-color: #434B5C;\n",
              "      box-shadow: 0px 1px 3px 1px rgba(0, 0, 0, 0.15);\n",
              "      filter: drop-shadow(0px 1px 2px rgba(0, 0, 0, 0.3));\n",
              "      fill: #FFFFFF;\n",
              "    }\n",
              "  </style>\n",
              "\n",
              "      <script>\n",
              "        const buttonEl =\n",
              "          document.querySelector('#df-b148f8a0-ed89-4b4d-b9a3-299d0047f0c9 button.colab-df-convert');\n",
              "        buttonEl.style.display =\n",
              "          google.colab.kernel.accessAllowed ? 'block' : 'none';\n",
              "\n",
              "        async function convertToInteractive(key) {\n",
              "          const element = document.querySelector('#df-b148f8a0-ed89-4b4d-b9a3-299d0047f0c9');\n",
              "          const dataTable =\n",
              "            await google.colab.kernel.invokeFunction('convertToInteractive',\n",
              "                                                     [key], {});\n",
              "          if (!dataTable) return;\n",
              "\n",
              "          const docLinkHtml = 'Like what you see? Visit the ' +\n",
              "            '<a target=\"_blank\" href=https://colab.research.google.com/notebooks/data_table.ipynb>data table notebook</a>'\n",
              "            + ' to learn more about interactive tables.';\n",
              "          element.innerHTML = '';\n",
              "          dataTable['output_type'] = 'display_data';\n",
              "          await google.colab.output.renderOutput(dataTable, element);\n",
              "          const docLink = document.createElement('div');\n",
              "          docLink.innerHTML = docLinkHtml;\n",
              "          element.appendChild(docLink);\n",
              "        }\n",
              "      </script>\n",
              "    </div>\n",
              "  </div>\n",
              "  "
            ],
            "text/plain": [
              "   Unnamed: 0  ...                                     Clean_Tweet_rm\n",
              "0           0  ...  site traffic direct sales revelation 2020 cont...\n",
              "1           1  ...  asxc future surgery senhance competitor kind a...\n",
              "2           2  ...  stock market tanked couple times unmoved tradi...\n",
              "3           3  ...  loss sucks right 39 debated selling taking los...\n",
              "4           4  ...  lot warrants profitable far anyone know suppos...\n",
              "\n",
              "[5 rows x 8 columns]"
            ]
          },
          "metadata": {},
          "execution_count": 21
        }
      ]
    },
    {
      "cell_type": "code",
      "source": [
        "#change the -ve sentiment to zero\n",
        "df_google[df_google['sent_category'] == -1] = 0"
      ],
      "metadata": {
        "id": "1hCv0baKPUyf"
      },
      "execution_count": null,
      "outputs": []
    },
    {
      "cell_type": "code",
      "source": [
        "df_google['sent_category']"
      ],
      "metadata": {
        "colab": {
          "base_uri": "https://localhost:8080/"
        },
        "id": "KO9sWL_XPfnM",
        "outputId": "0aad4705-11e3-4b3d-95f9-c159e8aeee09"
      },
      "execution_count": null,
      "outputs": [
        {
          "output_type": "execute_result",
          "data": {
            "text/plain": [
              "0       1\n",
              "1       1\n",
              "2       0\n",
              "3       0\n",
              "4       1\n",
              "       ..\n",
              "2732    0\n",
              "2733    0\n",
              "2734    0\n",
              "2735    1\n",
              "2736    0\n",
              "Name: sent_category, Length: 2737, dtype: int64"
            ]
          },
          "metadata": {},
          "execution_count": 23
        }
      ]
    },
    {
      "cell_type": "markdown",
      "source": [
        "#Preprocessing"
      ],
      "metadata": {
        "id": "94vsoWFH0rtj"
      }
    },
    {
      "cell_type": "code",
      "source": [
        "np.random.seed(42)\n",
        "# shuffle data\n",
        "indices = np.arange(df_google.shape[0])\n",
        "np.random.shuffle(indices)\n",
        "data = df_google_vector[indices]\n",
        "labels = list(df_google['sent_category'][indices])"
      ],
      "metadata": {
        "id": "gFjcWLebAAHI"
      },
      "execution_count": null,
      "outputs": []
    },
    {
      "cell_type": "code",
      "source": [
        "data"
      ],
      "metadata": {
        "colab": {
          "base_uri": "https://localhost:8080/"
        },
        "id": "pHxeabhwJiyz",
        "outputId": "6c372ed0-b11c-4f6e-830e-dec5a262110e"
      },
      "execution_count": null,
      "outputs": [
        {
          "output_type": "execute_result",
          "data": {
            "text/plain": [
              "array([[   0,    0,    0, ...,   34,   14,  173],\n",
              "       [   0,    0,    0, ...,   41,  303,   95],\n",
              "       [   0,    0,    0, ...,  232,  145,   12],\n",
              "       ...,\n",
              "       [   0,    0,    0, ...,  255,  125,   28],\n",
              "       [   0,    0,    0, ..., 1235,  511,   14],\n",
              "       [   0,    0,    0, ...,   38,   39,  155]], dtype=int32)"
            ]
          },
          "metadata": {},
          "execution_count": 25
        }
      ]
    },
    {
      "cell_type": "code",
      "source": [
        "training_samples = int(2737 * .8)\n",
        "validation_samples = int(2737- training_samples)"
      ],
      "metadata": {
        "id": "QM-EKGLMCFaW"
      },
      "execution_count": null,
      "outputs": []
    },
    {
      "cell_type": "code",
      "source": [
        "texts_train = np.array(data[:training_samples])\n",
        "y_train = np.array(labels[:training_samples])\n",
        "texts_test = np.array(data[training_samples:])\n",
        "y_test = np.array(labels[training_samples:])"
      ],
      "metadata": {
        "id": "9ihJdTITB26x"
      },
      "execution_count": null,
      "outputs": []
    },
    {
      "cell_type": "code",
      "source": [
        "len(texts_train[1])"
      ],
      "metadata": {
        "colab": {
          "base_uri": "https://localhost:8080/"
        },
        "id": "kZXq_u1kJJiW",
        "outputId": "371d3a5f-e03b-4eb4-89b0-be6d021863bb"
      },
      "execution_count": null,
      "outputs": [
        {
          "output_type": "execute_result",
          "data": {
            "text/plain": [
              "500"
            ]
          },
          "metadata": {},
          "execution_count": 31
        }
      ]
    },
    {
      "cell_type": "markdown",
      "source": [
        "# RNN model"
      ],
      "metadata": {
        "id": "6wGSIo2e0m4n"
      }
    },
    {
      "cell_type": "code",
      "source": [
        "model = Sequential()\n",
        "model.add(Embedding(max_features+1, 32))\n",
        "model.add(SimpleRNN(32))\n",
        "model.add(Dense(1, activation='sigmoid'))\n",
        "\n",
        "model.compile(optimizer='rmsprop', loss='binary_crossentropy', metrics=['acc'])\n",
        "history_rnn = model.fit(texts_train, y_train, epochs=14, batch_size=80, validation_split=0.2)"
      ],
      "metadata": {
        "colab": {
          "base_uri": "https://localhost:8080/"
        },
        "id": "PqCYnItFCHYt",
        "outputId": "6c32a80c-45a4-40fa-ff8a-76b5046dbdcb"
      },
      "execution_count": null,
      "outputs": [
        {
          "output_type": "stream",
          "name": "stdout",
          "text": [
            "Epoch 1/14\n",
            "22/22 [==============================] - 3s 109ms/step - loss: 0.6002 - acc: 0.6876 - val_loss: 0.5532 - val_acc: 0.7260\n",
            "Epoch 2/14\n",
            "22/22 [==============================] - 2s 98ms/step - loss: 0.5786 - acc: 0.6790 - val_loss: 0.5724 - val_acc: 0.7100\n",
            "Epoch 3/14\n",
            "22/22 [==============================] - 2s 98ms/step - loss: 0.4950 - acc: 0.7681 - val_loss: 0.5277 - val_acc: 0.7215\n",
            "Epoch 4/14\n",
            "22/22 [==============================] - 2s 97ms/step - loss: 0.4340 - acc: 0.7841 - val_loss: 0.5387 - val_acc: 0.7329\n",
            "Epoch 5/14\n",
            "22/22 [==============================] - 2s 95ms/step - loss: 0.3688 - acc: 0.8464 - val_loss: 0.4823 - val_acc: 0.7329\n",
            "Epoch 6/14\n",
            "22/22 [==============================] - 2s 96ms/step - loss: 0.3050 - acc: 0.9012 - val_loss: 0.4614 - val_acc: 0.7557\n",
            "Epoch 7/14\n",
            "22/22 [==============================] - 2s 96ms/step - loss: 0.2404 - acc: 0.9349 - val_loss: 0.4524 - val_acc: 0.7717\n",
            "Epoch 8/14\n",
            "22/22 [==============================] - 2s 96ms/step - loss: 0.2001 - acc: 0.9446 - val_loss: 0.4693 - val_acc: 0.7671\n",
            "Epoch 9/14\n",
            "22/22 [==============================] - 2s 97ms/step - loss: 0.1697 - acc: 0.9537 - val_loss: 0.4506 - val_acc: 0.7603\n",
            "Epoch 10/14\n",
            "22/22 [==============================] - 3s 151ms/step - loss: 0.1303 - acc: 0.9600 - val_loss: 0.4645 - val_acc: 0.7717\n",
            "Epoch 11/14\n",
            "22/22 [==============================] - 2s 97ms/step - loss: 0.1063 - acc: 0.9663 - val_loss: 0.5730 - val_acc: 0.7626\n",
            "Epoch 12/14\n",
            "22/22 [==============================] - 2s 97ms/step - loss: 0.1132 - acc: 0.9623 - val_loss: 0.5240 - val_acc: 0.7603\n",
            "Epoch 13/14\n",
            "22/22 [==============================] - 2s 96ms/step - loss: 0.0900 - acc: 0.9714 - val_loss: 0.4934 - val_acc: 0.8037\n",
            "Epoch 14/14\n",
            "22/22 [==============================] - 2s 95ms/step - loss: 0.1084 - acc: 0.9629 - val_loss: 0.6841 - val_acc: 0.6986\n"
          ]
        }
      ]
    },
    {
      "cell_type": "code",
      "source": [
        "acc = history_rnn.history['acc']\n",
        "val_acc = history_rnn.history['val_acc']\n",
        "loss = history_rnn.history['loss']\n",
        "val_loss = history_rnn.history['val_loss']\n",
        "epochs = range(len(acc))\n",
        "plt.plot(epochs, acc, '-', color='orange', label='training acc')\n",
        "plt.plot(epochs, val_acc, '-', color='blue', label='validation acc')\n",
        "plt.title('Training and validation accuracy')\n",
        "plt.legend()\n",
        "plt.show()\n",
        "\n",
        "plt.plot(epochs, loss, '-', color='orange', label='training loss')\n",
        "plt.plot(epochs, val_loss,  '-', color='blue', label='validation loss')\n",
        "plt.title('Training and validation loss')\n",
        "plt.legend()\n",
        "plt.show()"
      ],
      "metadata": {
        "colab": {
          "base_uri": "https://localhost:8080/",
          "height": 545
        },
        "id": "Y1I0-O-sRqFr",
        "outputId": "f3463f99-a958-496c-efbf-d1583e9f92e2"
      },
      "execution_count": null,
      "outputs": [
        {
          "output_type": "display_data",
          "data": {
            "image/png": "[encoded data removed]",
            "text/plain": [
              "<Figure size 432x288 with 1 Axes>"
            ]
          },
          "metadata": {
            "needs_background": "light"
          }
        },
        {
          "output_type": "display_data",
          "data": {
            "image/png": "[encoded data removed]",
            "text/plain": [
              "<Figure size 432x288 with 1 Axes>"
            ]
          },
          "metadata": {
            "needs_background": "light"
          }
        }
      ]
    },
    {
      "cell_type": "code",
      "source": [
        "pred = (model.predict(texts_test) > 0.5).astype(\"int32\")\n",
        "acc = model.evaluate(texts_test, y_test)\n",
        "proba_embed = model.predict(texts_test)\n",
        "from sklearn.metrics import confusion_matrix\n",
        "print(\"Test loss is {0:.2f} accuracy is {1:.2f}  \".format(acc[0],acc[1]))\n",
        "print(confusion_matrix(pred, y_test))"
      ],
      "metadata": {
        "colab": {
          "base_uri": "https://localhost:8080/"
        },
        "id": "p5tizFKaSE-2",
        "outputId": "0edf0682-4821-4b81-bb0a-5681614b1761"
      },
      "execution_count": null,
      "outputs": [
        {
          "output_type": "stream",
          "name": "stdout",
          "text": [
            "18/18 [==============================] - 0s 17ms/step - loss: 0.8685 - acc: 0.6131\n",
            "Test loss is 0.87 accuracy is 0.61  \n",
            "[[189  23]\n",
            " [189 147]]\n"
          ]
        }
      ]
    },
    {
      "cell_type": "code",
      "source": [
        ""
      ],
      "metadata": {
        "id": "3OGJEKjBkn_W"
      },
      "execution_count": null,
      "outputs": []
    },
    {
      "cell_type": "markdown",
      "source": [
        "#LSTM model"
      ],
      "metadata": {
        "id": "vzUudQxvz9-r"
      }
    },
    {
      "cell_type": "code",
      "source": [
        "model = Sequential()\n",
        "model.add(Embedding(max_features+1, 32))\n",
        "model.add(LSTM(32))\n",
        "model.add(Dense(1, activation='sigmoid'))\n",
        "model.compile(optimizer='rmsprop', loss='binary_crossentropy', metrics=['acc'])\n",
        "history_ltsm = model.fit(texts_train, y_train, epochs=14, batch_size=80, validation_split=0.2)"
      ],
      "metadata": {
        "colab": {
          "base_uri": "https://localhost:8080/"
        },
        "id": "obMG9bTikwoi",
        "outputId": "793a4f1c-52a9-4d24-ca5a-5c32ca63e20c"
      },
      "execution_count": null,
      "outputs": [
        {
          "output_type": "stream",
          "name": "stdout",
          "text": [
            "Epoch 1/14\n",
            "22/22 [==============================] - 7s 229ms/step - loss: 0.6348 - acc: 0.6825 - val_loss: 0.5950 - val_acc: 0.7009\n",
            "Epoch 2/14\n",
            "22/22 [==============================] - 5s 206ms/step - loss: 0.5771 - acc: 0.7070 - val_loss: 0.5524 - val_acc: 0.7100\n",
            "Epoch 3/14\n",
            "22/22 [==============================] - 5s 209ms/step - loss: 0.5218 - acc: 0.7167 - val_loss: 0.5121 - val_acc: 0.7123\n",
            "Epoch 4/14\n",
            "22/22 [==============================] - 5s 209ms/step - loss: 0.4596 - acc: 0.7521 - val_loss: 0.4882 - val_acc: 0.7192\n",
            "Epoch 5/14\n",
            "22/22 [==============================] - 5s 208ms/step - loss: 0.4025 - acc: 0.7915 - val_loss: 0.4693 - val_acc: 0.7466\n",
            "Epoch 6/14\n",
            "22/22 [==============================] - 5s 206ms/step - loss: 0.3479 - acc: 0.8624 - val_loss: 0.4659 - val_acc: 0.7557\n",
            "Epoch 7/14\n",
            "22/22 [==============================] - 5s 206ms/step - loss: 0.2991 - acc: 0.8972 - val_loss: 0.4989 - val_acc: 0.7489\n",
            "Epoch 8/14\n",
            "22/22 [==============================] - 5s 210ms/step - loss: 0.2697 - acc: 0.9081 - val_loss: 0.4779 - val_acc: 0.7466\n",
            "Epoch 9/14\n",
            "22/22 [==============================] - 5s 205ms/step - loss: 0.2321 - acc: 0.9286 - val_loss: 0.4980 - val_acc: 0.7717\n",
            "Epoch 10/14\n",
            "22/22 [==============================] - 5s 211ms/step - loss: 0.2066 - acc: 0.9343 - val_loss: 0.5208 - val_acc: 0.7854\n",
            "Epoch 11/14\n",
            "22/22 [==============================] - 5s 207ms/step - loss: 0.1743 - acc: 0.9469 - val_loss: 0.5167 - val_acc: 0.7808\n",
            "Epoch 12/14\n",
            "22/22 [==============================] - 5s 207ms/step - loss: 0.1598 - acc: 0.9515 - val_loss: 0.5339 - val_acc: 0.7854\n",
            "Epoch 13/14\n",
            "22/22 [==============================] - 5s 206ms/step - loss: 0.1403 - acc: 0.9555 - val_loss: 0.5628 - val_acc: 0.7877\n",
            "Epoch 14/14\n",
            "22/22 [==============================] - 5s 209ms/step - loss: 0.1256 - acc: 0.9634 - val_loss: 0.5787 - val_acc: 0.7785\n"
          ]
        }
      ]
    },
    {
      "cell_type": "code",
      "source": [
        "acc = history_ltsm.history['acc']\n",
        "val_acc = history_ltsm.history['val_acc']\n",
        "loss = history_ltsm.history['loss']\n",
        "val_loss = history_ltsm.history['val_loss']\n",
        "epochs = range(len(acc))\n",
        "plt.plot(epochs, acc, '-', color='orange', label='training acc')\n",
        "plt.plot(epochs, val_acc, '-', color='blue', label='validation acc')\n",
        "plt.title('Training and validation accuracy')\n",
        "plt.legend()\n",
        "plt.show()\n",
        "\n",
        "plt.plot(epochs, loss, '-', color='orange', label='training acc')\n",
        "plt.plot(epochs, val_loss,  '-', color='blue', label='validation acc')\n",
        "plt.title('Training and validation loss')\n",
        "plt.legend()\n",
        "plt.show()"
      ],
      "metadata": {
        "colab": {
          "base_uri": "https://localhost:8080/",
          "height": 545
        },
        "id": "y9CtYJZ8kqWO",
        "outputId": "7477a625-29e2-42ec-bf67-3d3b0604e371"
      },
      "execution_count": null,
      "outputs": [
        {
          "output_type": "display_data",
          "data": {
            "image/png": "[encoded data removed]",
            "text/plain": [
              "<Figure size 432x288 with 1 Axes>"
            ]
          },
          "metadata": {
            "needs_background": "light"
          }
        },
        {
          "output_type": "display_data",
          "data": {
            "image/png": "[encoded data removed]",
            "text/plain": [
              "<Figure size 432x288 with 1 Axes>"
            ]
          },
          "metadata": {
            "needs_background": "light"
          }
        }
      ]
    },
    {
      "cell_type": "code",
      "source": [
        "pred = (model.predict(texts_test) > 0.5).astype(\"int32\")\n",
        "acc = model.evaluate(texts_test, y_test)\n",
        "proba_ltsm = model.predict(texts_test)\n",
        "from sklearn.metrics import confusion_matrix\n",
        "print(\"Test loss is {0:.2f} accuracy is {1:.2f}  \".format(acc[0],acc[1]))\n",
        "print(confusion_matrix(pred, y_test))"
      ],
      "metadata": {
        "colab": {
          "base_uri": "https://localhost:8080/"
        },
        "id": "IaOAlwZAm8Vw",
        "outputId": "115b3432-988f-4a16-f589-9d89783857ee"
      },
      "execution_count": null,
      "outputs": [
        {
          "output_type": "stream",
          "name": "stdout",
          "text": [
            "18/18 [==============================] - 1s 46ms/step - loss: 0.6450 - acc: 0.7518\n",
            "Test loss is 0.64 accuracy is 0.75  \n",
            "[[302  60]\n",
            " [ 76 110]]\n"
          ]
        }
      ]
    },
    {
      "cell_type": "markdown",
      "source": [
        "#Combining  two models"
      ],
      "metadata": {
        "id": "6NMHqnRL0gh4"
      }
    },
    {
      "cell_type": "code",
      "source": [
        "ensemble_proba = 0.3 * proba_embed + 0.7 * proba_ltsm"
      ],
      "metadata": {
        "id": "IzZQNBEHwWEG"
      },
      "execution_count": null,
      "outputs": []
    },
    {
      "cell_type": "markdown",
      "source": [
        ""
      ],
      "metadata": {
        "id": "_MBzN6bE0htL"
      }
    },
    {
      "cell_type": "code",
      "source": [
        "ensemble_pred = np.array([1 if i >= 0.5 else 0 for i in ensemble_proba])"
      ],
      "metadata": {
        "id": "RWofrNkVyYZm"
      },
      "execution_count": null,
      "outputs": []
    },
    {
      "cell_type": "code",
      "source": [
        "print(confusion_matrix(ensemble_pred, y_test))\n"
      ],
      "metadata": {
        "colab": {
          "base_uri": "https://localhost:8080/"
        },
        "id": "ZrRdhFcM09pE",
        "outputId": "c193c532-62f0-4bae-f21b-d0b50b2e863b"
      },
      "execution_count": null,
      "outputs": [
        {
          "output_type": "stream",
          "name": "stdout",
          "text": [
            "[[284  52]\n",
            " [ 94 118]]\n"
          ]
        }
      ]
    },
    {
      "cell_type": "code",
      "source": [
        "Accuracy = (284+118)/(94+52+284+118)\n",
        "print(Accuracy)"
      ],
      "metadata": {
        "colab": {
          "base_uri": "https://localhost:8080/"
        },
        "id": "fJNfQ2nj1OHC",
        "outputId": "1f15522e-4483-4513-dc50-56408b1cd64f"
      },
      "execution_count": null,
      "outputs": [
        {
          "output_type": "stream",
          "name": "stdout",
          "text": [
            "0.7335766423357665\n"
          ]
        }
      ]
    }
  ]
}
