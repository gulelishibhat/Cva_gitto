{
 "cells": [
  {
   "cell_type": "code",
   "execution_count": 3,
   "metadata": {},
   "outputs": [],
   "source": [
    "import pandas as pd\n",
    "import matplotlib.pyplot as plt\n",
    "%matplotlib inline\n",
    "import numpy as np\n",
    "from sklearn.linear_model import LinearRegression\n",
    "from sklearn.model_selection import train_test_split\n",
    "from datetime import datetime as dt, timedelta\n",
    "import seaborn as sns\n",
    "from functools import reduce\n",
    "from sklearn.metrics import r2_score"
   ]
  },
  {
   "cell_type": "code",
   "execution_count": 4,
   "metadata": {},
   "outputs": [],
   "source": [
    "#df = pd.read_csv('listings_sea.csv')"
   ]
  },
  {
   "cell_type": "code",
   "execution_count": 5,
   "metadata": {},
   "outputs": [],
   "source": [
    "df_c = pd.read_csv('calendar_sea.csv')# Read calendar data showing of seattle obtained from airbnb "
   ]
  },
  {
   "cell_type": "code",
   "execution_count": 6,
   "metadata": {},
   "outputs": [
    {
     "data": {
      "text/plain": [
       "Index(['listing_id', 'date', 'available', 'price'], dtype='object')"
      ]
     },
     "execution_count": 6,
     "metadata": {},
     "output_type": "execute_result"
    }
   ],
   "source": [
    "df_c.columns# see the columns "
   ]
  },
  {
   "cell_type": "code",
   "execution_count": 7,
   "metadata": {},
   "outputs": [
    {
     "data": {
      "text/html": [
       "<div>\n",
       "<style scoped>\n",
       "    .dataframe tbody tr th:only-of-type {\n",
       "        vertical-align: middle;\n",
       "    }\n",
       "\n",
       "    .dataframe tbody tr th {\n",
       "        vertical-align: top;\n",
       "    }\n",
       "\n",
       "    .dataframe thead th {\n",
       "        text-align: right;\n",
       "    }\n",
       "</style>\n",
       "<table border=\"1\" class=\"dataframe\">\n",
       "  <thead>\n",
       "    <tr style=\"text-align: right;\">\n",
       "      <th></th>\n",
       "      <th>listing_id</th>\n",
       "      <th>date</th>\n",
       "      <th>available</th>\n",
       "      <th>price</th>\n",
       "    </tr>\n",
       "  </thead>\n",
       "  <tbody>\n",
       "    <tr>\n",
       "      <th>0</th>\n",
       "      <td>241032</td>\n",
       "      <td>2016-01-04</td>\n",
       "      <td>t</td>\n",
       "      <td>$85.00</td>\n",
       "    </tr>\n",
       "    <tr>\n",
       "      <th>1</th>\n",
       "      <td>241032</td>\n",
       "      <td>2016-01-05</td>\n",
       "      <td>t</td>\n",
       "      <td>$85.00</td>\n",
       "    </tr>\n",
       "    <tr>\n",
       "      <th>2</th>\n",
       "      <td>241032</td>\n",
       "      <td>2016-01-06</td>\n",
       "      <td>f</td>\n",
       "      <td>NaN</td>\n",
       "    </tr>\n",
       "    <tr>\n",
       "      <th>3</th>\n",
       "      <td>241032</td>\n",
       "      <td>2016-01-07</td>\n",
       "      <td>f</td>\n",
       "      <td>NaN</td>\n",
       "    </tr>\n",
       "    <tr>\n",
       "      <th>4</th>\n",
       "      <td>241032</td>\n",
       "      <td>2016-01-08</td>\n",
       "      <td>f</td>\n",
       "      <td>NaN</td>\n",
       "    </tr>\n",
       "  </tbody>\n",
       "</table>\n",
       "</div>"
      ],
      "text/plain": [
       "   listing_id        date available   price\n",
       "0      241032  2016-01-04         t  $85.00\n",
       "1      241032  2016-01-05         t  $85.00\n",
       "2      241032  2016-01-06         f     NaN\n",
       "3      241032  2016-01-07         f     NaN\n",
       "4      241032  2016-01-08         f     NaN"
      ]
     },
     "execution_count": 7,
     "metadata": {},
     "output_type": "execute_result"
    }
   ],
   "source": [
    "df_c.head()"
   ]
  },
  {
   "cell_type": "code",
   "execution_count": 8,
   "metadata": {},
   "outputs": [],
   "source": [
    "df_c = df_c[df_c['available']=='t']#take only the listing_id which are available"
   ]
  },
  {
   "cell_type": "code",
   "execution_count": 9,
   "metadata": {},
   "outputs": [
    {
     "data": {
      "text/plain": [
       "934542"
      ]
     },
     "execution_count": 9,
     "metadata": {},
     "output_type": "execute_result"
    }
   ],
   "source": [
    "df_c.shape[0]# the number of rows after we remove not available rows"
   ]
  },
  {
   "cell_type": "code",
   "execution_count": 10,
   "metadata": {},
   "outputs": [],
   "source": [
    "df_c['date'] = pd.to_datetime(df_c['date'])#change the object into the date and split into year month and day"
   ]
  },
  {
   "cell_type": "code",
   "execution_count": 11,
   "metadata": {},
   "outputs": [],
   "source": [
    "df_c[['year','month','day']] = df_c.date.apply(lambda x: pd.Series(x.strftime(\"%Y,%m,%d\").split(\",\")))"
   ]
  },
  {
   "cell_type": "code",
   "execution_count": 13,
   "metadata": {},
   "outputs": [
    {
     "data": {
      "text/html": [
       "<div>\n",
       "<style scoped>\n",
       "    .dataframe tbody tr th:only-of-type {\n",
       "        vertical-align: middle;\n",
       "    }\n",
       "\n",
       "    .dataframe tbody tr th {\n",
       "        vertical-align: top;\n",
       "    }\n",
       "\n",
       "    .dataframe thead th {\n",
       "        text-align: right;\n",
       "    }\n",
       "</style>\n",
       "<table border=\"1\" class=\"dataframe\">\n",
       "  <thead>\n",
       "    <tr style=\"text-align: right;\">\n",
       "      <th></th>\n",
       "      <th>listing_id</th>\n",
       "      <th>date</th>\n",
       "      <th>available</th>\n",
       "      <th>price</th>\n",
       "      <th>year</th>\n",
       "      <th>month</th>\n",
       "      <th>day</th>\n",
       "    </tr>\n",
       "  </thead>\n",
       "  <tbody>\n",
       "    <tr>\n",
       "      <th>0</th>\n",
       "      <td>241032</td>\n",
       "      <td>2016-01-04</td>\n",
       "      <td>t</td>\n",
       "      <td>$85.00</td>\n",
       "      <td>2016</td>\n",
       "      <td>01</td>\n",
       "      <td>04</td>\n",
       "    </tr>\n",
       "    <tr>\n",
       "      <th>1</th>\n",
       "      <td>241032</td>\n",
       "      <td>2016-01-05</td>\n",
       "      <td>t</td>\n",
       "      <td>$85.00</td>\n",
       "      <td>2016</td>\n",
       "      <td>01</td>\n",
       "      <td>05</td>\n",
       "    </tr>\n",
       "    <tr>\n",
       "      <th>9</th>\n",
       "      <td>241032</td>\n",
       "      <td>2016-01-13</td>\n",
       "      <td>t</td>\n",
       "      <td>$85.00</td>\n",
       "      <td>2016</td>\n",
       "      <td>01</td>\n",
       "      <td>13</td>\n",
       "    </tr>\n",
       "    <tr>\n",
       "      <th>10</th>\n",
       "      <td>241032</td>\n",
       "      <td>2016-01-14</td>\n",
       "      <td>t</td>\n",
       "      <td>$85.00</td>\n",
       "      <td>2016</td>\n",
       "      <td>01</td>\n",
       "      <td>14</td>\n",
       "    </tr>\n",
       "    <tr>\n",
       "      <th>14</th>\n",
       "      <td>241032</td>\n",
       "      <td>2016-01-18</td>\n",
       "      <td>t</td>\n",
       "      <td>$85.00</td>\n",
       "      <td>2016</td>\n",
       "      <td>01</td>\n",
       "      <td>18</td>\n",
       "    </tr>\n",
       "  </tbody>\n",
       "</table>\n",
       "</div>"
      ],
      "text/plain": [
       "    listing_id       date available   price  year month day\n",
       "0       241032 2016-01-04         t  $85.00  2016    01  04\n",
       "1       241032 2016-01-05         t  $85.00  2016    01  05\n",
       "9       241032 2016-01-13         t  $85.00  2016    01  13\n",
       "10      241032 2016-01-14         t  $85.00  2016    01  14\n",
       "14      241032 2016-01-18         t  $85.00  2016    01  18"
      ]
     },
     "execution_count": 13,
     "metadata": {},
     "output_type": "execute_result"
    }
   ],
   "source": [
    "df_c.head()"
   ]
  },
  {
   "cell_type": "code",
   "execution_count": 14,
   "metadata": {},
   "outputs": [
    {
     "data": {
      "text/plain": [
       "3723"
      ]
     },
     "execution_count": 14,
     "metadata": {},
     "output_type": "execute_result"
    }
   ],
   "source": [
    "len(df_c['listing_id'].unique())# numebr of unique listing_id"
   ]
  },
  {
   "cell_type": "code",
   "execution_count": 15,
   "metadata": {},
   "outputs": [],
   "source": [
    "df_list = pd.read_csv('listings_sea.csv')#read the listing file of seattle airbnb"
   ]
  },
  {
   "cell_type": "code",
   "execution_count": 16,
   "metadata": {},
   "outputs": [
    {
     "data": {
      "text/plain": [
       "3818"
      ]
     },
     "execution_count": 16,
     "metadata": {},
     "output_type": "execute_result"
    }
   ],
   "source": [
    "df_list.shape[0]"
   ]
  },
  {
   "cell_type": "code",
   "execution_count": 17,
   "metadata": {},
   "outputs": [],
   "source": [
    "df_list = df_list.rename(index=str, columns={\"id\": \"listing_id\"})# we want to merge the two files \n",
    "df = pd.merge(df_c, df_list, on = 'listing_id')"
   ]
  },
  {
   "cell_type": "code",
   "execution_count": 18,
   "metadata": {},
   "outputs": [],
   "source": [
    "columns_to_drop = ['available', 'host_id','host_location','host_acceptance_rate','host_neighbourhood',\n",
    "                   'host_total_listings_count', 'weekly_price', 'monthly_price',\n",
    "                   'security_deposit', 'cleaning_fee', 'calendar_updated',\n",
    "                   'listing_url','last_scraped' ,'scrape_id', 'name', 'summary', 'space', 'description',\n",
    "                   'experiences_offered', 'street', 'neighbourhood', 'neighbourhood_cleansed', 'zipcode',\n",
    "                   'neighborhood_overview', 'notes', 'transit', 'thumbnail_url', 'medium_url', 'picture_url',\n",
    "                   'xl_picture_url', 'host_url', 'host_name', 'host_about', 'host_thumbnail_url', 'host_picture_url',\n",
    "                   'city', 'state', 'market', 'smart_location', 'country_code', 'country', 'latitude', 'longitude',\n",
    "                   'is_location_exact', 'square_feet', 'has_availability', 'availability_30',\n",
    "                   'availability_60', 'availability_90', 'availability_365', 'calendar_last_scraped',\n",
    "                  'first_review', 'last_review', 'requires_license', 'license', 'jurisdiction_names', 'price_y',\n",
    "                  'reviews_per_month']"
   ]
  },
  {
   "cell_type": "code",
   "execution_count": 19,
   "metadata": {},
   "outputs": [],
   "source": [
    "df_r = df.drop(columns = columns_to_drop)"
   ]
  },
  {
   "cell_type": "code",
   "execution_count": 20,
   "metadata": {},
   "outputs": [],
   "source": [
    "df_r_num = df_r.select_dtypes(include=['int','float'])#see the numerical columns"
   ]
  },
  {
   "cell_type": "code",
   "execution_count": 21,
   "metadata": {},
   "outputs": [],
   "source": [
    "df_r_cat = df_r.select_dtypes(include=['object'])# see the categorical columns"
   ]
  },
  {
   "cell_type": "code",
   "execution_count": 22,
   "metadata": {},
   "outputs": [
    {
     "data": {
      "text/plain": [
       "Index(['listing_id', 'host_listings_count', 'accommodates', 'bathrooms',\n",
       "       'bedrooms', 'beds', 'guests_included', 'minimum_nights',\n",
       "       'maximum_nights', 'number_of_reviews', 'review_scores_rating',\n",
       "       'review_scores_accuracy', 'review_scores_cleanliness',\n",
       "       'review_scores_checkin', 'review_scores_communication',\n",
       "       'review_scores_location', 'review_scores_value',\n",
       "       'calculated_host_listings_count'],\n",
       "      dtype='object')"
      ]
     },
     "execution_count": 22,
     "metadata": {},
     "output_type": "execute_result"
    }
   ],
   "source": [
    "df_r_num.columns"
   ]
  },
  {
   "cell_type": "code",
   "execution_count": 23,
   "metadata": {},
   "outputs": [
    {
     "data": {
      "text/plain": [
       "Index(['price_x', 'year', 'month', 'day', 'host_since', 'host_response_time',\n",
       "       'host_response_rate', 'host_is_superhost', 'host_verifications',\n",
       "       'host_has_profile_pic', 'host_identity_verified',\n",
       "       'neighbourhood_group_cleansed', 'property_type', 'room_type',\n",
       "       'bed_type', 'amenities', 'extra_people', 'instant_bookable',\n",
       "       'cancellation_policy', 'require_guest_profile_picture',\n",
       "       'require_guest_phone_verification'],\n",
       "      dtype='object')"
      ]
     },
     "execution_count": 23,
     "metadata": {},
     "output_type": "execute_result"
    }
   ],
   "source": [
    "df_r_cat.columns#we see the price_x, year , month , day in the categorical category"
   ]
  },
  {
   "cell_type": "code",
   "execution_count": 24,
   "metadata": {},
   "outputs": [],
   "source": [
    "df_r = df.dropna(subset=['price_x'])#remove any NaN from the column price_x"
   ]
  },
  {
   "cell_type": "code",
   "execution_count": 25,
   "metadata": {},
   "outputs": [],
   "source": [
    "df_r['price'] = df_r['price_x'].astype(str)# change the string type to numerical \n",
    "df_r['price'] = df_r['price'].str.replace(\"[$, ]\", \"\").astype(\"float\")\n",
    "df_r = df_r.drop(columns = ['price_x'])"
   ]
  },
  {
   "cell_type": "code",
   "execution_count": 26,
   "metadata": {},
   "outputs": [],
   "source": [
    "df_r['month_'] = df_r['month'].astype(str)\n",
    "df_r['month_'] = df_r['month_'].astype(int)\n",
    "df_r = df_r.drop(columns = ['month'])"
   ]
  },
  {
   "cell_type": "code",
   "execution_count": 27,
   "metadata": {},
   "outputs": [],
   "source": [
    "df_r['year_'] = df_r['year'].astype(str)\n",
    "df_r['year_'] = df_r['year_'].astype(\"int\")\n",
    "df_r = df_r.drop(columns = ['year'])"
   ]
  },
  {
   "cell_type": "code",
   "execution_count": 28,
   "metadata": {},
   "outputs": [
    {
     "data": {
      "image/png": "[encoded data removed]",
      "text/plain": [
       "<Figure size 1080x360 with 1 Axes>"
      ]
     },
     "metadata": {
      "needs_background": "light"
     },
     "output_type": "display_data"
    }
   ],
   "source": [
    "mean_price = df_r.groupby('listing_id').mean()['price']# to get the mean value of price according to \n",
    "\n",
    "#plot\n",
    "plt.figure(figsize=(15,5))\n",
    "plt.hist(mean_price, bins=20)\n",
    "plt.xticks(np.arange(0, 1700, step=100))\n",
    "plt.ylabel('Number of listings')\n",
    "plt.xlabel('Price, in $')\n",
    "plt.title('number of listing vs price')\n",
    "\n",
    "\n",
    "plt.savefig('Price_distribution.png')\n",
    "\n",
    "plt.show()"
   ]
  },
  {
   "cell_type": "code",
   "execution_count": 29,
   "metadata": {},
   "outputs": [],
   "source": [
    "listings_by_month = pd.Series([12])# get the number of listing for differnt month\n",
    "for i in range(1, 13):\n",
    "    listings_by_month[i] = len(df_r[(df_r['month_'] == i) & (df_r['year_'] == 2016)]['listing_id'])\n",
    "    \n",
    "listings_by_month = listings_by_month.drop(0)"
   ]
  },
  {
   "cell_type": "code",
   "execution_count": 30,
   "metadata": {},
   "outputs": [
    {
     "data": {
      "image/png": "[encoded data removed]",
      "text/plain": [
       "<Figure size 720x360 with 1 Axes>"
      ]
     },
     "metadata": {
      "needs_background": "light"
     },
     "output_type": "display_data"
    }
   ],
   "source": [
    "plt.figure(figsize=(10,5))\n",
    "plt.plot(listings_by_month)\n",
    "plt.xticks(np.arange(1, 13, step=1))\n",
    "plt.ylabel('Number of listings')\n",
    "plt.xlabel('Month')\n",
    "plt.title('Number of listings per month, 2016')\n",
    "\n",
    "plt.savefig('number of available listings.png')\n",
    "\n",
    "plt.show()"
   ]
  },
  {
   "cell_type": "code",
   "execution_count": 31,
   "metadata": {},
   "outputs": [
    {
     "data": {
      "text/plain": [
       "array(['within a few hours', 'within an hour', nan, 'within a day',\n",
       "       'a few days or more'], dtype=object)"
      ]
     },
     "execution_count": 31,
     "metadata": {},
     "output_type": "execute_result"
    }
   ],
   "source": [
    "host_response_time = df_r[\"host_response_time\"].unique()\n",
    "host_response_time"
   ]
  },
  {
   "cell_type": "code",
   "execution_count": 32,
   "metadata": {},
   "outputs": [
    {
     "data": {
      "text/plain": [
       "within an hour        418108\n",
       "within a few hours    247843\n",
       "within a day          148657\n",
       "a few days or more     11420\n",
       "Name: host_response_time, dtype: int64"
      ]
     },
     "execution_count": 32,
     "metadata": {},
     "output_type": "execute_result"
    }
   ],
   "source": [
    "df_r[\"host_response_time\"].value_counts()\n"
   ]
  },
  {
   "cell_type": "code",
   "execution_count": 33,
   "metadata": {},
   "outputs": [
    {
     "data": {
      "image/png": "[encoded data removed]",
      "text/plain": [
       "<Figure size 432x288 with 1 Axes>"
      ]
     },
     "metadata": {
      "needs_background": "light"
     },
     "output_type": "display_data"
    }
   ],
   "source": [
    "sns.countplot(df_r['host_response_time'])\n",
    "plt.savefig('host_response_time.png')"
   ]
  },
  {
   "cell_type": "code",
   "execution_count": 34,
   "metadata": {},
   "outputs": [],
   "source": [
    "df_r = df_r.dropna(subset=['host_response_rate', 'month_'])#drop any NaN for host_reponse_rate and month_"
   ]
  },
  {
   "cell_type": "code",
   "execution_count": 35,
   "metadata": {},
   "outputs": [
    {
     "data": {
      "image/png": "[encoded data removed]",
      "text/plain": [
       "<Figure size 432x288 with 1 Axes>"
      ]
     },
     "metadata": {
      "needs_background": "light"
     },
     "output_type": "display_data"
    }
   ],
   "source": [
    "df_r['host_response_rate'].value_counts()[:15].plot(kind='bar')\n",
    "plt.title(\"Numeber of Listings vs Host Response rate\")\n",
    "plt.ylabel(\"Total number of listings\")\n",
    "plt.xlabel('host response rate')\n",
    "plt.savefig('host_response_rate_counts.png')#see the distint rate percentage of host responses rate"
   ]
  },
  {
   "cell_type": "code",
   "execution_count": 36,
   "metadata": {},
   "outputs": [],
   "source": [
    "#get the number of listing with distinct host response time for different months\n",
    "df_24 = df_r['month_'][df_r['host_response_time'] == 'within a day'].value_counts(normalize=True)\n",
    "df_10 =df_r['month_'][df_r['host_response_time'] == 'within a few hours'].value_counts(normalize=True)\n",
    "df_1 =df_r['month_'][df_r['host_response_time'] == 'within an hour'].value_counts(normalize=True)\n",
    "df_72 =df_r['month_'][df_r['host_response_time'] == 'a few days or more'].value_counts(normalize=True)"
   ]
  },
  {
   "cell_type": "code",
   "execution_count": 37,
   "metadata": {},
   "outputs": [],
   "source": [
    "#changing the value counts into the data frame with given index\n",
    "df_24 = df_24.reset_index()\n",
    "df_24.columns=['months', 'a_day']\n",
    "df_10 = df_10.reset_index()\n",
    "df_10.columns=['months', 'few_hours']\n",
    "df_1 = df_1.reset_index()\n",
    "df_1.columns=['months', 'an_hour']\n",
    "df_72 = df_72.reset_index()\n",
    "df_72.columns=['months', 'few_days']"
   ]
  },
  {
   "cell_type": "code",
   "execution_count": 38,
   "metadata": {},
   "outputs": [],
   "source": [
    "#sort them by months \n",
    "df_24 = df_24.sort_values(by = 'months')\n",
    "df_10 = df_10.sort_values(by = 'months')\n",
    "df_1 = df_1.sort_values(by = 'months')\n",
    "df_72 = df_72.sort_values(by = 'months')"
   ]
  },
  {
   "cell_type": "code",
   "execution_count": 39,
   "metadata": {},
   "outputs": [],
   "source": [
    "#merge them into the single dataframe\n",
    "data_frames = [df_1, df_10, df_24, df_72]\n",
    "df_merged = reduce(lambda  left,right: pd.merge(left,right,on=['months']), data_frames)"
   ]
  },
  {
   "cell_type": "code",
   "execution_count": 40,
   "metadata": {},
   "outputs": [],
   "source": [
    "df_merged_ = pd.melt(df_merged, id_vars=['months']).sort_values(['variable','value'])"
   ]
  },
  {
   "cell_type": "code",
   "execution_count": 41,
   "metadata": {},
   "outputs": [
    {
     "data": {
      "image/png": "[encoded data removed]",
      "text/plain": [
       "<Figure size 432x288 with 1 Axes>"
      ]
     },
     "metadata": {
      "needs_background": "light"
     },
     "output_type": "display_data"
    }
   ],
   "source": [
    "#plot multiple columns of host_response_time with months \n",
    "sns.barplot(x='months', y='value', data=df_merged_, hue = 'variable', orient ='v')\n",
    "plt.xticks(rotation=90)\n",
    "plt.ylabel('Normalize host response listing')\n",
    "plt.title('Months vs host response ')\n",
    "plt.savefig(\"host_response_time_vs_months.png\")"
   ]
  },
  {
   "cell_type": "code",
   "execution_count": 42,
   "metadata": {},
   "outputs": [
    {
     "data": {
      "text/plain": [
       "Index(['listing_id', 'date', 'available', 'price_x', 'year', 'month', 'day',\n",
       "       'listing_url', 'scrape_id', 'last_scraped', 'name', 'summary', 'space',\n",
       "       'description', 'experiences_offered', 'neighborhood_overview', 'notes',\n",
       "       'transit', 'thumbnail_url', 'medium_url', 'picture_url',\n",
       "       'xl_picture_url', 'host_id', 'host_url', 'host_name', 'host_since',\n",
       "       'host_location', 'host_about', 'host_response_time',\n",
       "       'host_response_rate', 'host_acceptance_rate', 'host_is_superhost',\n",
       "       'host_thumbnail_url', 'host_picture_url', 'host_neighbourhood',\n",
       "       'host_listings_count', 'host_total_listings_count',\n",
       "       'host_verifications', 'host_has_profile_pic', 'host_identity_verified',\n",
       "       'street', 'neighbourhood', 'neighbourhood_cleansed',\n",
       "       'neighbourhood_group_cleansed', 'city', 'state', 'zipcode', 'market',\n",
       "       'smart_location', 'country_code', 'country', 'latitude', 'longitude',\n",
       "       'is_location_exact', 'property_type', 'room_type', 'accommodates',\n",
       "       'bathrooms', 'bedrooms', 'beds', 'bed_type', 'amenities', 'square_feet',\n",
       "       'price_y', 'weekly_price', 'monthly_price', 'security_deposit',\n",
       "       'cleaning_fee', 'guests_included', 'extra_people', 'minimum_nights',\n",
       "       'maximum_nights', 'calendar_updated', 'has_availability',\n",
       "       'availability_30', 'availability_60', 'availability_90',\n",
       "       'availability_365', 'calendar_last_scraped', 'number_of_reviews',\n",
       "       'first_review', 'last_review', 'review_scores_rating',\n",
       "       'review_scores_accuracy', 'review_scores_cleanliness',\n",
       "       'review_scores_checkin', 'review_scores_communication',\n",
       "       'review_scores_location', 'review_scores_value', 'requires_license',\n",
       "       'license', 'jurisdiction_names', 'instant_bookable',\n",
       "       'cancellation_policy', 'require_guest_profile_picture',\n",
       "       'require_guest_phone_verification', 'calculated_host_listings_count',\n",
       "       'reviews_per_month'],\n",
       "      dtype='object')"
      ]
     },
     "execution_count": 42,
     "metadata": {},
     "output_type": "execute_result"
    }
   ],
   "source": [
    "df.columns"
   ]
  },
  {
   "cell_type": "code",
   "execution_count": 43,
   "metadata": {},
   "outputs": [],
   "source": [
    "df_m = df[['accommodates','price_x','minimum_nights','bedrooms','host_acceptance_rate',\n",
    "       'bathrooms','beds','host_listings_count','property_type','room_type','neighbourhood_group_cleansed','smart_location','maximum_nights','neighbourhood','host_response_rate', 'availability_30', 'availability_60', 'availability_90',\n",
    "       'availability_365','host_is_superhost','cleaning_fee','security_deposit']]"
   ]
  },
  {
   "cell_type": "code",
   "execution_count": 44,
   "metadata": {},
   "outputs": [
    {
     "name": "stderr",
     "output_type": "stream",
     "text": [
      "/Users/shivabhattarai/anaconda2/envs/Python37/lib/python3.6/site-packages/ipykernel_launcher.py:2: SettingWithCopyWarning: \n",
      "A value is trying to be set on a copy of a slice from a DataFrame.\n",
      "Try using .loc[row_indexer,col_indexer] = value instead\n",
      "\n",
      "See the caveats in the documentation: http://pandas.pydata.org/pandas-docs/stable/indexing.html#indexing-view-versus-copy\n",
      "  \n",
      "/Users/shivabhattarai/anaconda2/envs/Python37/lib/python3.6/site-packages/ipykernel_launcher.py:3: SettingWithCopyWarning: \n",
      "A value is trying to be set on a copy of a slice from a DataFrame.\n",
      "Try using .loc[row_indexer,col_indexer] = value instead\n",
      "\n",
      "See the caveats in the documentation: http://pandas.pydata.org/pandas-docs/stable/indexing.html#indexing-view-versus-copy\n",
      "  This is separate from the ipykernel package so we can avoid doing imports until\n"
     ]
    }
   ],
   "source": [
    "#Remove the string dollar from the price, cleaning , fee and security deposit and change into float\n",
    "df_m['price'] = df_m['price_x'].astype(str)# change the string type to numerical \n",
    "df_m['price'] = df_m['price'].str.replace(\"[$, ]\", \"\").astype(\"float\")\n",
    "df_m = df_m.drop(columns = ['price_x'])\n",
    "df_m['cleaning_fee_'] = df_m['cleaning_fee'].astype(str)# change the string type to numerical \n",
    "df_m['cleaning_fee_'] = df_m['cleaning_fee_'].str.replace(\"[$, ]\", \"\").astype(\"float\")\n",
    "df_m = df_m.drop(columns = ['cleaning_fee'])\n",
    "df_m['security_deposit_'] = df_m['security_deposit'].astype(str)# change the string type to numerical \n",
    "df_m['security_deposit_'] = df_m['security_deposit_'].str.replace(\"[$, ]\", \"\").astype(\"float\")\n",
    "df_m = df_m.drop(columns = ['security_deposit'])"
   ]
  },
  {
   "cell_type": "code",
   "execution_count": 45,
   "metadata": {},
   "outputs": [],
   "source": [
    "#Remove % and change into the float\n",
    "df_m['host_response_rates'] = df_m['host_response_rate'].astype(str)# change the string type to numerical \n",
    "df_m['host_response_rates'] = df_m['host_response_rates'].str.rstrip('%').astype('float') / 100.0\n",
    "df_m = df_m.drop(columns = ['host_response_rate'])"
   ]
  },
  {
   "cell_type": "code",
   "execution_count": 46,
   "metadata": {},
   "outputs": [],
   "source": [
    "df_m['host_acceptance_rates'] = df_m['host_acceptance_rate'].astype(str)# change the string type to numerical \n",
    "df_m['host_acceptance_rates'] = df_m['host_acceptance_rates'].str.rstrip('%').astype('float') / 100.0\n",
    "df_m = df_m.drop(columns = ['host_acceptance_rate'])"
   ]
  },
  {
   "cell_type": "code",
   "execution_count": 47,
   "metadata": {},
   "outputs": [],
   "source": [
    "#fill the NaN with mean\n",
    "df_m['cleaning_fee_'] = df_m['cleaning_fee_'].fillna(df_m['cleaning_fee_'].mean())\n",
    "df_m['security_deposit_'] = df_m['security_deposit_'].fillna(df_m['security_deposit_'].mean())\n",
    "df_m['host_response_rates']=df_m['host_response_rates'].fillna(df_m['host_response_rates'].mean())\n",
    "df_m['host_acceptance_rates']=df_m['host_acceptance_rates'].fillna(df_m['host_acceptance_rates'].mean())"
   ]
  },
  {
   "cell_type": "code",
   "execution_count": 48,
   "metadata": {},
   "outputs": [],
   "source": [
    "#fill the NaN with mode.\n",
    "df_m['bedrooms']=df_m['bedrooms'].fillna(df_m['bedrooms'].mode()[0])\n",
    "df_m['bathrooms']=df_m['bathrooms'].fillna(df_m['bathrooms'].mode()[0])\n",
    "df_m['beds']=df_m['beds'].fillna(df_m['beds'].mode()[0])\n",
    "#df_m['host_response_time']=df_m['host_response_time'].fillna(df_m['host_response_time'].mode()[0])\n",
    "df_m['neighbourhood']=df_m['neighbourhood'].fillna(df_m['neighbourhood'].mode()[0])\n",
    "df_m['property_type']=df_m['property_type'].fillna(df_m['property_type'].mode()[0])\n",
    "df_m['host_listings_count']=df_m['host_listings_count'].fillna(df_m['host_listings_count'].mode()[0])\n",
    "df_m['host_is_superhost']=df_m['host_is_superhost'].fillna(df_m['host_is_superhost'].mode()[0])\n",
    "#df_m['host_since']=df_m['host_since'].fillna(df_m['host_since'].mode()[0])"
   ]
  },
  {
   "cell_type": "code",
   "execution_count": 49,
   "metadata": {},
   "outputs": [
    {
     "data": {
      "text/plain": [
       "accommodates                    0\n",
       "minimum_nights                  0\n",
       "bedrooms                        0\n",
       "bathrooms                       0\n",
       "beds                            0\n",
       "host_listings_count             0\n",
       "property_type                   0\n",
       "room_type                       0\n",
       "neighbourhood_group_cleansed    0\n",
       "smart_location                  0\n",
       "maximum_nights                  0\n",
       "neighbourhood                   0\n",
       "availability_30                 0\n",
       "availability_60                 0\n",
       "availability_90                 0\n",
       "availability_365                0\n",
       "host_is_superhost               0\n",
       "price                           0\n",
       "cleaning_fee_                   0\n",
       "security_deposit_               0\n",
       "host_response_rates             0\n",
       "host_acceptance_rates           0\n",
       "dtype: int64"
      ]
     },
     "execution_count": 49,
     "metadata": {},
     "output_type": "execute_result"
    }
   ],
   "source": [
    "#check the null\n",
    "np.sum(df_m.isnull())"
   ]
  },
  {
   "cell_type": "code",
   "execution_count": 50,
   "metadata": {},
   "outputs": [
    {
     "data": {
      "text/plain": [
       "accommodates                      int64\n",
       "minimum_nights                    int64\n",
       "bedrooms                        float64\n",
       "bathrooms                       float64\n",
       "beds                            float64\n",
       "host_listings_count             float64\n",
       "property_type                    object\n",
       "room_type                        object\n",
       "neighbourhood_group_cleansed     object\n",
       "smart_location                   object\n",
       "maximum_nights                    int64\n",
       "neighbourhood                    object\n",
       "availability_30                   int64\n",
       "availability_60                   int64\n",
       "availability_90                   int64\n",
       "availability_365                  int64\n",
       "host_is_superhost                object\n",
       "price                           float64\n",
       "cleaning_fee_                   float64\n",
       "security_deposit_               float64\n",
       "host_response_rates             float64\n",
       "host_acceptance_rates           float64\n",
       "dtype: object"
      ]
     },
     "execution_count": 50,
     "metadata": {},
     "output_type": "execute_result"
    }
   ],
   "source": [
    "#see the dtypes\n",
    "df_m.dtypes"
   ]
  },
  {
   "cell_type": "code",
   "execution_count": 51,
   "metadata": {},
   "outputs": [
    {
     "data": {
      "text/plain": [
       "accommodates                      int64\n",
       "minimum_nights                    int64\n",
       "bedrooms                        float64\n",
       "bathrooms                       float64\n",
       "beds                            float64\n",
       "host_listings_count             float64\n",
       "property_type                    object\n",
       "room_type                        object\n",
       "neighbourhood_group_cleansed     object\n",
       "smart_location                   object\n",
       "maximum_nights                    int64\n",
       "neighbourhood                    object\n",
       "availability_30                   int64\n",
       "availability_60                   int64\n",
       "availability_90                   int64\n",
       "availability_365                  int64\n",
       "host_is_superhost                object\n",
       "price                           float64\n",
       "cleaning_fee_                   float64\n",
       "security_deposit_               float64\n",
       "host_response_rates             float64\n",
       "host_acceptance_rates           float64\n",
       "dtype: object"
      ]
     },
     "execution_count": 51,
     "metadata": {},
     "output_type": "execute_result"
    }
   ],
   "source": [
    "df_m.dtypes"
   ]
  },
  {
   "cell_type": "code",
   "execution_count": 52,
   "metadata": {},
   "outputs": [],
   "source": [
    "#seperate the numerical and categorical columns\n",
    "df_m_cat = df_m.select_dtypes(include='object')\n",
    "df_m_num = df_m.select_dtypes(include=['int', 'float'])"
   ]
  },
  {
   "cell_type": "code",
   "execution_count": 53,
   "metadata": {},
   "outputs": [
    {
     "data": {
      "text/plain": [
       "Index(['property_type', 'room_type', 'neighbourhood_group_cleansed',\n",
       "       'smart_location', 'neighbourhood', 'host_is_superhost'],\n",
       "      dtype='object')"
      ]
     },
     "execution_count": 53,
     "metadata": {},
     "output_type": "execute_result"
    }
   ],
   "source": [
    "df_m_cat.columns"
   ]
  },
  {
   "cell_type": "code",
   "execution_count": 54,
   "metadata": {},
   "outputs": [
    {
     "data": {
      "text/plain": [
       "Index(['accommodates', 'minimum_nights', 'bedrooms', 'bathrooms', 'beds',\n",
       "       'host_listings_count', 'maximum_nights', 'availability_30',\n",
       "       'availability_60', 'availability_90', 'availability_365', 'price',\n",
       "       'cleaning_fee_', 'security_deposit_', 'host_response_rates',\n",
       "       'host_acceptance_rates'],\n",
       "      dtype='object')"
      ]
     },
     "execution_count": 54,
     "metadata": {},
     "output_type": "execute_result"
    }
   ],
   "source": [
    "df_m_num.columns"
   ]
  },
  {
   "cell_type": "code",
   "execution_count": 55,
   "metadata": {},
   "outputs": [
    {
     "data": {
      "text/html": [
       "<div>\n",
       "<style scoped>\n",
       "    .dataframe tbody tr th:only-of-type {\n",
       "        vertical-align: middle;\n",
       "    }\n",
       "\n",
       "    .dataframe tbody tr th {\n",
       "        vertical-align: top;\n",
       "    }\n",
       "\n",
       "    .dataframe thead th {\n",
       "        text-align: right;\n",
       "    }\n",
       "</style>\n",
       "<table border=\"1\" class=\"dataframe\">\n",
       "  <thead>\n",
       "    <tr style=\"text-align: right;\">\n",
       "      <th></th>\n",
       "      <th>accommodates</th>\n",
       "      <th>minimum_nights</th>\n",
       "      <th>bedrooms</th>\n",
       "      <th>bathrooms</th>\n",
       "      <th>beds</th>\n",
       "      <th>host_listings_count</th>\n",
       "      <th>property_type</th>\n",
       "      <th>room_type</th>\n",
       "      <th>neighbourhood_group_cleansed</th>\n",
       "      <th>smart_location</th>\n",
       "      <th>...</th>\n",
       "      <th>availability_30</th>\n",
       "      <th>availability_60</th>\n",
       "      <th>availability_90</th>\n",
       "      <th>availability_365</th>\n",
       "      <th>host_is_superhost</th>\n",
       "      <th>price</th>\n",
       "      <th>cleaning_fee_</th>\n",
       "      <th>security_deposit_</th>\n",
       "      <th>host_response_rates</th>\n",
       "      <th>host_acceptance_rates</th>\n",
       "    </tr>\n",
       "  </thead>\n",
       "  <tbody>\n",
       "    <tr>\n",
       "      <th>0</th>\n",
       "      <td>4</td>\n",
       "      <td>1</td>\n",
       "      <td>1.0</td>\n",
       "      <td>1.0</td>\n",
       "      <td>1.0</td>\n",
       "      <td>3.0</td>\n",
       "      <td>Apartment</td>\n",
       "      <td>Entire home/apt</td>\n",
       "      <td>Queen Anne</td>\n",
       "      <td>Seattle, WA</td>\n",
       "      <td>...</td>\n",
       "      <td>14</td>\n",
       "      <td>41</td>\n",
       "      <td>71</td>\n",
       "      <td>346</td>\n",
       "      <td>f</td>\n",
       "      <td>85.0</td>\n",
       "      <td>63.226984</td>\n",
       "      <td>286.460638</td>\n",
       "      <td>0.96</td>\n",
       "      <td>1.0</td>\n",
       "    </tr>\n",
       "    <tr>\n",
       "      <th>1</th>\n",
       "      <td>4</td>\n",
       "      <td>1</td>\n",
       "      <td>1.0</td>\n",
       "      <td>1.0</td>\n",
       "      <td>1.0</td>\n",
       "      <td>3.0</td>\n",
       "      <td>Apartment</td>\n",
       "      <td>Entire home/apt</td>\n",
       "      <td>Queen Anne</td>\n",
       "      <td>Seattle, WA</td>\n",
       "      <td>...</td>\n",
       "      <td>14</td>\n",
       "      <td>41</td>\n",
       "      <td>71</td>\n",
       "      <td>346</td>\n",
       "      <td>f</td>\n",
       "      <td>85.0</td>\n",
       "      <td>63.226984</td>\n",
       "      <td>286.460638</td>\n",
       "      <td>0.96</td>\n",
       "      <td>1.0</td>\n",
       "    </tr>\n",
       "    <tr>\n",
       "      <th>2</th>\n",
       "      <td>4</td>\n",
       "      <td>1</td>\n",
       "      <td>1.0</td>\n",
       "      <td>1.0</td>\n",
       "      <td>1.0</td>\n",
       "      <td>3.0</td>\n",
       "      <td>Apartment</td>\n",
       "      <td>Entire home/apt</td>\n",
       "      <td>Queen Anne</td>\n",
       "      <td>Seattle, WA</td>\n",
       "      <td>...</td>\n",
       "      <td>14</td>\n",
       "      <td>41</td>\n",
       "      <td>71</td>\n",
       "      <td>346</td>\n",
       "      <td>f</td>\n",
       "      <td>85.0</td>\n",
       "      <td>63.226984</td>\n",
       "      <td>286.460638</td>\n",
       "      <td>0.96</td>\n",
       "      <td>1.0</td>\n",
       "    </tr>\n",
       "    <tr>\n",
       "      <th>3</th>\n",
       "      <td>4</td>\n",
       "      <td>1</td>\n",
       "      <td>1.0</td>\n",
       "      <td>1.0</td>\n",
       "      <td>1.0</td>\n",
       "      <td>3.0</td>\n",
       "      <td>Apartment</td>\n",
       "      <td>Entire home/apt</td>\n",
       "      <td>Queen Anne</td>\n",
       "      <td>Seattle, WA</td>\n",
       "      <td>...</td>\n",
       "      <td>14</td>\n",
       "      <td>41</td>\n",
       "      <td>71</td>\n",
       "      <td>346</td>\n",
       "      <td>f</td>\n",
       "      <td>85.0</td>\n",
       "      <td>63.226984</td>\n",
       "      <td>286.460638</td>\n",
       "      <td>0.96</td>\n",
       "      <td>1.0</td>\n",
       "    </tr>\n",
       "    <tr>\n",
       "      <th>4</th>\n",
       "      <td>4</td>\n",
       "      <td>1</td>\n",
       "      <td>1.0</td>\n",
       "      <td>1.0</td>\n",
       "      <td>1.0</td>\n",
       "      <td>3.0</td>\n",
       "      <td>Apartment</td>\n",
       "      <td>Entire home/apt</td>\n",
       "      <td>Queen Anne</td>\n",
       "      <td>Seattle, WA</td>\n",
       "      <td>...</td>\n",
       "      <td>14</td>\n",
       "      <td>41</td>\n",
       "      <td>71</td>\n",
       "      <td>346</td>\n",
       "      <td>f</td>\n",
       "      <td>85.0</td>\n",
       "      <td>63.226984</td>\n",
       "      <td>286.460638</td>\n",
       "      <td>0.96</td>\n",
       "      <td>1.0</td>\n",
       "    </tr>\n",
       "  </tbody>\n",
       "</table>\n",
       "<p>5 rows × 22 columns</p>\n",
       "</div>"
      ],
      "text/plain": [
       "   accommodates  minimum_nights  bedrooms  bathrooms  beds  \\\n",
       "0             4               1       1.0        1.0   1.0   \n",
       "1             4               1       1.0        1.0   1.0   \n",
       "2             4               1       1.0        1.0   1.0   \n",
       "3             4               1       1.0        1.0   1.0   \n",
       "4             4               1       1.0        1.0   1.0   \n",
       "\n",
       "   host_listings_count property_type        room_type  \\\n",
       "0                  3.0     Apartment  Entire home/apt   \n",
       "1                  3.0     Apartment  Entire home/apt   \n",
       "2                  3.0     Apartment  Entire home/apt   \n",
       "3                  3.0     Apartment  Entire home/apt   \n",
       "4                  3.0     Apartment  Entire home/apt   \n",
       "\n",
       "  neighbourhood_group_cleansed smart_location  ...  availability_30  \\\n",
       "0                   Queen Anne    Seattle, WA  ...               14   \n",
       "1                   Queen Anne    Seattle, WA  ...               14   \n",
       "2                   Queen Anne    Seattle, WA  ...               14   \n",
       "3                   Queen Anne    Seattle, WA  ...               14   \n",
       "4                   Queen Anne    Seattle, WA  ...               14   \n",
       "\n",
       "  availability_60  availability_90  availability_365  host_is_superhost  \\\n",
       "0              41               71               346                  f   \n",
       "1              41               71               346                  f   \n",
       "2              41               71               346                  f   \n",
       "3              41               71               346                  f   \n",
       "4              41               71               346                  f   \n",
       "\n",
       "   price cleaning_fee_  security_deposit_  host_response_rates  \\\n",
       "0   85.0     63.226984         286.460638                 0.96   \n",
       "1   85.0     63.226984         286.460638                 0.96   \n",
       "2   85.0     63.226984         286.460638                 0.96   \n",
       "3   85.0     63.226984         286.460638                 0.96   \n",
       "4   85.0     63.226984         286.460638                 0.96   \n",
       "\n",
       "   host_acceptance_rates  \n",
       "0                    1.0  \n",
       "1                    1.0  \n",
       "2                    1.0  \n",
       "3                    1.0  \n",
       "4                    1.0  \n",
       "\n",
       "[5 rows x 22 columns]"
      ]
     },
     "execution_count": 55,
     "metadata": {},
     "output_type": "execute_result"
    }
   ],
   "source": [
    "df_m.head()"
   ]
  },
  {
   "cell_type": "code",
   "execution_count": 56,
   "metadata": {},
   "outputs": [
    {
     "data": {
      "text/html": [
       "<div>\n",
       "<style scoped>\n",
       "    .dataframe tbody tr th:only-of-type {\n",
       "        vertical-align: middle;\n",
       "    }\n",
       "\n",
       "    .dataframe tbody tr th {\n",
       "        vertical-align: top;\n",
       "    }\n",
       "\n",
       "    .dataframe thead th {\n",
       "        text-align: right;\n",
       "    }\n",
       "</style>\n",
       "<table border=\"1\" class=\"dataframe\">\n",
       "  <thead>\n",
       "    <tr style=\"text-align: right;\">\n",
       "      <th></th>\n",
       "      <th>accommodates</th>\n",
       "      <th>minimum_nights</th>\n",
       "      <th>bedrooms</th>\n",
       "      <th>bathrooms</th>\n",
       "      <th>beds</th>\n",
       "      <th>host_listings_count</th>\n",
       "      <th>maximum_nights</th>\n",
       "      <th>availability_30</th>\n",
       "      <th>availability_60</th>\n",
       "      <th>availability_90</th>\n",
       "      <th>availability_365</th>\n",
       "      <th>price</th>\n",
       "      <th>cleaning_fee_</th>\n",
       "      <th>security_deposit_</th>\n",
       "      <th>host_response_rates</th>\n",
       "      <th>host_acceptance_rates</th>\n",
       "    </tr>\n",
       "  </thead>\n",
       "  <tbody>\n",
       "    <tr>\n",
       "      <th>accommodates</th>\n",
       "      <td>1.000000</td>\n",
       "      <td>0.015056</td>\n",
       "      <td>0.767534</td>\n",
       "      <td>0.515530</td>\n",
       "      <td>0.859895</td>\n",
       "      <td>0.135520</td>\n",
       "      <td>-0.000865</td>\n",
       "      <td>-0.024549</td>\n",
       "      <td>-0.029532</td>\n",
       "      <td>-0.040532</td>\n",
       "      <td>-0.053081</td>\n",
       "      <td>0.676054</td>\n",
       "      <td>0.607635</td>\n",
       "      <td>0.248864</td>\n",
       "      <td>0.014399</td>\n",
       "      <td>0.013608</td>\n",
       "    </tr>\n",
       "    <tr>\n",
       "      <th>minimum_nights</th>\n",
       "      <td>0.015056</td>\n",
       "      <td>1.000000</td>\n",
       "      <td>0.006560</td>\n",
       "      <td>0.002369</td>\n",
       "      <td>-0.002967</td>\n",
       "      <td>0.000096</td>\n",
       "      <td>0.003656</td>\n",
       "      <td>0.014131</td>\n",
       "      <td>0.011356</td>\n",
       "      <td>0.010401</td>\n",
       "      <td>0.007156</td>\n",
       "      <td>0.012260</td>\n",
       "      <td>0.020097</td>\n",
       "      <td>0.010085</td>\n",
       "      <td>0.009728</td>\n",
       "      <td>-0.000530</td>\n",
       "    </tr>\n",
       "    <tr>\n",
       "      <th>bedrooms</th>\n",
       "      <td>0.767534</td>\n",
       "      <td>0.006560</td>\n",
       "      <td>1.000000</td>\n",
       "      <td>0.599138</td>\n",
       "      <td>0.747088</td>\n",
       "      <td>0.087729</td>\n",
       "      <td>-0.006342</td>\n",
       "      <td>-0.033273</td>\n",
       "      <td>-0.044880</td>\n",
       "      <td>-0.057588</td>\n",
       "      <td>-0.047246</td>\n",
       "      <td>0.631469</td>\n",
       "      <td>0.589895</td>\n",
       "      <td>0.294983</td>\n",
       "      <td>-0.000235</td>\n",
       "      <td>0.006414</td>\n",
       "    </tr>\n",
       "    <tr>\n",
       "      <th>bathrooms</th>\n",
       "      <td>0.515530</td>\n",
       "      <td>0.002369</td>\n",
       "      <td>0.599138</td>\n",
       "      <td>1.000000</td>\n",
       "      <td>0.504385</td>\n",
       "      <td>0.085243</td>\n",
       "      <td>-0.016524</td>\n",
       "      <td>-0.008675</td>\n",
       "      <td>-0.012106</td>\n",
       "      <td>-0.016632</td>\n",
       "      <td>0.007612</td>\n",
       "      <td>0.524733</td>\n",
       "      <td>0.476024</td>\n",
       "      <td>0.240837</td>\n",
       "      <td>0.019178</td>\n",
       "      <td>0.008781</td>\n",
       "    </tr>\n",
       "    <tr>\n",
       "      <th>beds</th>\n",
       "      <td>0.859895</td>\n",
       "      <td>-0.002967</td>\n",
       "      <td>0.747088</td>\n",
       "      <td>0.504385</td>\n",
       "      <td>1.000000</td>\n",
       "      <td>0.109971</td>\n",
       "      <td>-0.003767</td>\n",
       "      <td>-0.006153</td>\n",
       "      <td>-0.014506</td>\n",
       "      <td>-0.025114</td>\n",
       "      <td>-0.028523</td>\n",
       "      <td>0.608417</td>\n",
       "      <td>0.585639</td>\n",
       "      <td>0.253692</td>\n",
       "      <td>0.019255</td>\n",
       "      <td>0.012910</td>\n",
       "    </tr>\n",
       "    <tr>\n",
       "      <th>host_listings_count</th>\n",
       "      <td>0.135520</td>\n",
       "      <td>0.000096</td>\n",
       "      <td>0.087729</td>\n",
       "      <td>0.085243</td>\n",
       "      <td>0.109971</td>\n",
       "      <td>1.000000</td>\n",
       "      <td>0.043303</td>\n",
       "      <td>0.097802</td>\n",
       "      <td>0.104016</td>\n",
       "      <td>0.103935</td>\n",
       "      <td>0.065301</td>\n",
       "      <td>0.179398</td>\n",
       "      <td>0.188766</td>\n",
       "      <td>0.006863</td>\n",
       "      <td>0.028892</td>\n",
       "      <td>0.005720</td>\n",
       "    </tr>\n",
       "    <tr>\n",
       "      <th>maximum_nights</th>\n",
       "      <td>-0.000865</td>\n",
       "      <td>0.003656</td>\n",
       "      <td>-0.006342</td>\n",
       "      <td>-0.016524</td>\n",
       "      <td>-0.003767</td>\n",
       "      <td>0.043303</td>\n",
       "      <td>1.000000</td>\n",
       "      <td>0.012019</td>\n",
       "      <td>-0.007645</td>\n",
       "      <td>-0.006527</td>\n",
       "      <td>0.005344</td>\n",
       "      <td>0.010417</td>\n",
       "      <td>-0.004999</td>\n",
       "      <td>0.015841</td>\n",
       "      <td>-0.032980</td>\n",
       "      <td>-0.006529</td>\n",
       "    </tr>\n",
       "    <tr>\n",
       "      <th>availability_30</th>\n",
       "      <td>-0.024549</td>\n",
       "      <td>0.014131</td>\n",
       "      <td>-0.033273</td>\n",
       "      <td>-0.008675</td>\n",
       "      <td>-0.006153</td>\n",
       "      <td>0.097802</td>\n",
       "      <td>0.012019</td>\n",
       "      <td>1.000000</td>\n",
       "      <td>0.928155</td>\n",
       "      <td>0.861434</td>\n",
       "      <td>0.459801</td>\n",
       "      <td>0.007134</td>\n",
       "      <td>0.028725</td>\n",
       "      <td>-0.003757</td>\n",
       "      <td>-0.040800</td>\n",
       "      <td>-0.017103</td>\n",
       "    </tr>\n",
       "    <tr>\n",
       "      <th>availability_60</th>\n",
       "      <td>-0.029532</td>\n",
       "      <td>0.011356</td>\n",
       "      <td>-0.044880</td>\n",
       "      <td>-0.012106</td>\n",
       "      <td>-0.014506</td>\n",
       "      <td>0.104016</td>\n",
       "      <td>-0.007645</td>\n",
       "      <td>0.928155</td>\n",
       "      <td>1.000000</td>\n",
       "      <td>0.969661</td>\n",
       "      <td>0.526297</td>\n",
       "      <td>-0.001076</td>\n",
       "      <td>0.014516</td>\n",
       "      <td>-0.004239</td>\n",
       "      <td>-0.034085</td>\n",
       "      <td>-0.015114</td>\n",
       "    </tr>\n",
       "    <tr>\n",
       "      <th>availability_90</th>\n",
       "      <td>-0.040532</td>\n",
       "      <td>0.010401</td>\n",
       "      <td>-0.057588</td>\n",
       "      <td>-0.016632</td>\n",
       "      <td>-0.025114</td>\n",
       "      <td>0.103935</td>\n",
       "      <td>-0.006527</td>\n",
       "      <td>0.861434</td>\n",
       "      <td>0.969661</td>\n",
       "      <td>1.000000</td>\n",
       "      <td>0.574829</td>\n",
       "      <td>-0.006974</td>\n",
       "      <td>0.005769</td>\n",
       "      <td>-0.007767</td>\n",
       "      <td>-0.031119</td>\n",
       "      <td>-0.013899</td>\n",
       "    </tr>\n",
       "    <tr>\n",
       "      <th>availability_365</th>\n",
       "      <td>-0.053081</td>\n",
       "      <td>0.007156</td>\n",
       "      <td>-0.047246</td>\n",
       "      <td>0.007612</td>\n",
       "      <td>-0.028523</td>\n",
       "      <td>0.065301</td>\n",
       "      <td>0.005344</td>\n",
       "      <td>0.459801</td>\n",
       "      <td>0.526297</td>\n",
       "      <td>0.574829</td>\n",
       "      <td>1.000000</td>\n",
       "      <td>-0.008606</td>\n",
       "      <td>0.009256</td>\n",
       "      <td>-0.008115</td>\n",
       "      <td>-0.070930</td>\n",
       "      <td>-0.012863</td>\n",
       "    </tr>\n",
       "    <tr>\n",
       "      <th>price</th>\n",
       "      <td>0.676054</td>\n",
       "      <td>0.012260</td>\n",
       "      <td>0.631469</td>\n",
       "      <td>0.524733</td>\n",
       "      <td>0.608417</td>\n",
       "      <td>0.179398</td>\n",
       "      <td>0.010417</td>\n",
       "      <td>0.007134</td>\n",
       "      <td>-0.001076</td>\n",
       "      <td>-0.006974</td>\n",
       "      <td>-0.008606</td>\n",
       "      <td>1.000000</td>\n",
       "      <td>0.619841</td>\n",
       "      <td>0.304740</td>\n",
       "      <td>0.005352</td>\n",
       "      <td>0.007483</td>\n",
       "    </tr>\n",
       "    <tr>\n",
       "      <th>cleaning_fee_</th>\n",
       "      <td>0.607635</td>\n",
       "      <td>0.020097</td>\n",
       "      <td>0.589895</td>\n",
       "      <td>0.476024</td>\n",
       "      <td>0.585639</td>\n",
       "      <td>0.188766</td>\n",
       "      <td>-0.004999</td>\n",
       "      <td>0.028725</td>\n",
       "      <td>0.014516</td>\n",
       "      <td>0.005769</td>\n",
       "      <td>0.009256</td>\n",
       "      <td>0.619841</td>\n",
       "      <td>1.000000</td>\n",
       "      <td>0.364471</td>\n",
       "      <td>-0.048825</td>\n",
       "      <td>0.019423</td>\n",
       "    </tr>\n",
       "    <tr>\n",
       "      <th>security_deposit_</th>\n",
       "      <td>0.248864</td>\n",
       "      <td>0.010085</td>\n",
       "      <td>0.294983</td>\n",
       "      <td>0.240837</td>\n",
       "      <td>0.253692</td>\n",
       "      <td>0.006863</td>\n",
       "      <td>0.015841</td>\n",
       "      <td>-0.003757</td>\n",
       "      <td>-0.004239</td>\n",
       "      <td>-0.007767</td>\n",
       "      <td>-0.008115</td>\n",
       "      <td>0.304740</td>\n",
       "      <td>0.364471</td>\n",
       "      <td>1.000000</td>\n",
       "      <td>-0.039252</td>\n",
       "      <td>0.019909</td>\n",
       "    </tr>\n",
       "    <tr>\n",
       "      <th>host_response_rates</th>\n",
       "      <td>0.014399</td>\n",
       "      <td>0.009728</td>\n",
       "      <td>-0.000235</td>\n",
       "      <td>0.019178</td>\n",
       "      <td>0.019255</td>\n",
       "      <td>0.028892</td>\n",
       "      <td>-0.032980</td>\n",
       "      <td>-0.040800</td>\n",
       "      <td>-0.034085</td>\n",
       "      <td>-0.031119</td>\n",
       "      <td>-0.070930</td>\n",
       "      <td>0.005352</td>\n",
       "      <td>-0.048825</td>\n",
       "      <td>-0.039252</td>\n",
       "      <td>1.000000</td>\n",
       "      <td>-0.009345</td>\n",
       "    </tr>\n",
       "    <tr>\n",
       "      <th>host_acceptance_rates</th>\n",
       "      <td>0.013608</td>\n",
       "      <td>-0.000530</td>\n",
       "      <td>0.006414</td>\n",
       "      <td>0.008781</td>\n",
       "      <td>0.012910</td>\n",
       "      <td>0.005720</td>\n",
       "      <td>-0.006529</td>\n",
       "      <td>-0.017103</td>\n",
       "      <td>-0.015114</td>\n",
       "      <td>-0.013899</td>\n",
       "      <td>-0.012863</td>\n",
       "      <td>0.007483</td>\n",
       "      <td>0.019423</td>\n",
       "      <td>0.019909</td>\n",
       "      <td>-0.009345</td>\n",
       "      <td>1.000000</td>\n",
       "    </tr>\n",
       "  </tbody>\n",
       "</table>\n",
       "</div>"
      ],
      "text/plain": [
       "                       accommodates  minimum_nights  bedrooms  bathrooms  \\\n",
       "accommodates               1.000000        0.015056  0.767534   0.515530   \n",
       "minimum_nights             0.015056        1.000000  0.006560   0.002369   \n",
       "bedrooms                   0.767534        0.006560  1.000000   0.599138   \n",
       "bathrooms                  0.515530        0.002369  0.599138   1.000000   \n",
       "beds                       0.859895       -0.002967  0.747088   0.504385   \n",
       "host_listings_count        0.135520        0.000096  0.087729   0.085243   \n",
       "maximum_nights            -0.000865        0.003656 -0.006342  -0.016524   \n",
       "availability_30           -0.024549        0.014131 -0.033273  -0.008675   \n",
       "availability_60           -0.029532        0.011356 -0.044880  -0.012106   \n",
       "availability_90           -0.040532        0.010401 -0.057588  -0.016632   \n",
       "availability_365          -0.053081        0.007156 -0.047246   0.007612   \n",
       "price                      0.676054        0.012260  0.631469   0.524733   \n",
       "cleaning_fee_              0.607635        0.020097  0.589895   0.476024   \n",
       "security_deposit_          0.248864        0.010085  0.294983   0.240837   \n",
       "host_response_rates        0.014399        0.009728 -0.000235   0.019178   \n",
       "host_acceptance_rates      0.013608       -0.000530  0.006414   0.008781   \n",
       "\n",
       "                           beds  host_listings_count  maximum_nights  \\\n",
       "accommodates           0.859895             0.135520       -0.000865   \n",
       "minimum_nights        -0.002967             0.000096        0.003656   \n",
       "bedrooms               0.747088             0.087729       -0.006342   \n",
       "bathrooms              0.504385             0.085243       -0.016524   \n",
       "beds                   1.000000             0.109971       -0.003767   \n",
       "host_listings_count    0.109971             1.000000        0.043303   \n",
       "maximum_nights        -0.003767             0.043303        1.000000   \n",
       "availability_30       -0.006153             0.097802        0.012019   \n",
       "availability_60       -0.014506             0.104016       -0.007645   \n",
       "availability_90       -0.025114             0.103935       -0.006527   \n",
       "availability_365      -0.028523             0.065301        0.005344   \n",
       "price                  0.608417             0.179398        0.010417   \n",
       "cleaning_fee_          0.585639             0.188766       -0.004999   \n",
       "security_deposit_      0.253692             0.006863        0.015841   \n",
       "host_response_rates    0.019255             0.028892       -0.032980   \n",
       "host_acceptance_rates  0.012910             0.005720       -0.006529   \n",
       "\n",
       "                       availability_30  availability_60  availability_90  \\\n",
       "accommodates                 -0.024549        -0.029532        -0.040532   \n",
       "minimum_nights                0.014131         0.011356         0.010401   \n",
       "bedrooms                     -0.033273        -0.044880        -0.057588   \n",
       "bathrooms                    -0.008675        -0.012106        -0.016632   \n",
       "beds                         -0.006153        -0.014506        -0.025114   \n",
       "host_listings_count           0.097802         0.104016         0.103935   \n",
       "maximum_nights                0.012019        -0.007645        -0.006527   \n",
       "availability_30               1.000000         0.928155         0.861434   \n",
       "availability_60               0.928155         1.000000         0.969661   \n",
       "availability_90               0.861434         0.969661         1.000000   \n",
       "availability_365              0.459801         0.526297         0.574829   \n",
       "price                         0.007134        -0.001076        -0.006974   \n",
       "cleaning_fee_                 0.028725         0.014516         0.005769   \n",
       "security_deposit_            -0.003757        -0.004239        -0.007767   \n",
       "host_response_rates          -0.040800        -0.034085        -0.031119   \n",
       "host_acceptance_rates        -0.017103        -0.015114        -0.013899   \n",
       "\n",
       "                       availability_365     price  cleaning_fee_  \\\n",
       "accommodates                  -0.053081  0.676054       0.607635   \n",
       "minimum_nights                 0.007156  0.012260       0.020097   \n",
       "bedrooms                      -0.047246  0.631469       0.589895   \n",
       "bathrooms                      0.007612  0.524733       0.476024   \n",
       "beds                          -0.028523  0.608417       0.585639   \n",
       "host_listings_count            0.065301  0.179398       0.188766   \n",
       "maximum_nights                 0.005344  0.010417      -0.004999   \n",
       "availability_30                0.459801  0.007134       0.028725   \n",
       "availability_60                0.526297 -0.001076       0.014516   \n",
       "availability_90                0.574829 -0.006974       0.005769   \n",
       "availability_365               1.000000 -0.008606       0.009256   \n",
       "price                         -0.008606  1.000000       0.619841   \n",
       "cleaning_fee_                  0.009256  0.619841       1.000000   \n",
       "security_deposit_             -0.008115  0.304740       0.364471   \n",
       "host_response_rates           -0.070930  0.005352      -0.048825   \n",
       "host_acceptance_rates         -0.012863  0.007483       0.019423   \n",
       "\n",
       "                       security_deposit_  host_response_rates  \\\n",
       "accommodates                    0.248864             0.014399   \n",
       "minimum_nights                  0.010085             0.009728   \n",
       "bedrooms                        0.294983            -0.000235   \n",
       "bathrooms                       0.240837             0.019178   \n",
       "beds                            0.253692             0.019255   \n",
       "host_listings_count             0.006863             0.028892   \n",
       "maximum_nights                  0.015841            -0.032980   \n",
       "availability_30                -0.003757            -0.040800   \n",
       "availability_60                -0.004239            -0.034085   \n",
       "availability_90                -0.007767            -0.031119   \n",
       "availability_365               -0.008115            -0.070930   \n",
       "price                           0.304740             0.005352   \n",
       "cleaning_fee_                   0.364471            -0.048825   \n",
       "security_deposit_               1.000000            -0.039252   \n",
       "host_response_rates            -0.039252             1.000000   \n",
       "host_acceptance_rates           0.019909            -0.009345   \n",
       "\n",
       "                       host_acceptance_rates  \n",
       "accommodates                        0.013608  \n",
       "minimum_nights                     -0.000530  \n",
       "bedrooms                            0.006414  \n",
       "bathrooms                           0.008781  \n",
       "beds                                0.012910  \n",
       "host_listings_count                 0.005720  \n",
       "maximum_nights                     -0.006529  \n",
       "availability_30                    -0.017103  \n",
       "availability_60                    -0.015114  \n",
       "availability_90                    -0.013899  \n",
       "availability_365                   -0.012863  \n",
       "price                               0.007483  \n",
       "cleaning_fee_                       0.019423  \n",
       "security_deposit_                   0.019909  \n",
       "host_response_rates                -0.009345  \n",
       "host_acceptance_rates               1.000000  "
      ]
     },
     "execution_count": 56,
     "metadata": {},
     "output_type": "execute_result"
    }
   ],
   "source": [
    "df_m.corr(method='pearson')"
   ]
  },
  {
   "cell_type": "code",
   "execution_count": 57,
   "metadata": {},
   "outputs": [],
   "source": [
    "#make dummy to the objects of  categorical columns \n",
    "df_mo = pd.get_dummies(df_m, columns =df_m_cat.columns)"
   ]
  },
  {
   "cell_type": "code",
   "execution_count": 58,
   "metadata": {},
   "outputs": [
    {
     "data": {
      "text/plain": [
       "Index(['accommodates', 'minimum_nights', 'bedrooms', 'bathrooms', 'beds',\n",
       "       'host_listings_count', 'maximum_nights', 'availability_30',\n",
       "       'availability_60', 'availability_90',\n",
       "       ...\n",
       "       'neighbourhood_University District', 'neighbourhood_Victory Heights',\n",
       "       'neighbourhood_View Ridge', 'neighbourhood_Wallingford',\n",
       "       'neighbourhood_Wedgewood', 'neighbourhood_Westlake',\n",
       "       'neighbourhood_Windermere', 'neighbourhood_Yesler Terrace',\n",
       "       'host_is_superhost_f', 'host_is_superhost_t'],\n",
       "      dtype='object', length=142)"
      ]
     },
     "execution_count": 58,
     "metadata": {},
     "output_type": "execute_result"
    }
   ],
   "source": [
    "df_mo.columns"
   ]
  },
  {
   "cell_type": "code",
   "execution_count": 72,
   "metadata": {},
   "outputs": [],
   "source": [
    "#Define x and y\n",
    "y = df_mo['host_response_rates']\n",
    "x= df_mo.drop(columns=['host_response_rates'], axis =1)"
   ]
  },
  {
   "cell_type": "code",
   "execution_count": 78,
   "metadata": {},
   "outputs": [],
   "source": [
    "#Use the linear model\n",
    "X_train, X_test, y_train, y_test = train_test_split(x, y, test_size = 0.15, random_state=42)\n",
    "slr = LinearRegression()\n",
    "slr.fit(X_train, y_train)\n",
    "y_train_pred = slr.predict(X_train)\n",
    "y_test_pred = slr.predict(X_test)\n",
    "rsquared_score = r2_score(y_test, y_test_pred)\n",
    "length_y_test = len(y_test)"
   ]
  },
  {
   "cell_type": "code",
   "execution_count": 79,
   "metadata": {},
   "outputs": [
    {
     "data": {
      "text/plain": [
       "0.10828483864750693"
      ]
     },
     "execution_count": 79,
     "metadata": {},
     "output_type": "execute_result"
    }
   ],
   "source": [
    "rsquared_score"
   ]
  },
  {
   "cell_type": "code",
   "execution_count": 80,
   "metadata": {},
   "outputs": [
    {
     "data": {
      "text/plain": [
       "140182"
      ]
     },
     "execution_count": 80,
     "metadata": {},
     "output_type": "execute_result"
    }
   ],
   "source": [
    "length_y_test"
   ]
  },
  {
   "cell_type": "code",
   "execution_count": 81,
   "metadata": {},
   "outputs": [
    {
     "data": {
      "image/png": "[encoded data removed]",
      "text/plain": [
       "<Figure size 432x288 with 1 Axes>"
      ]
     },
     "metadata": {
      "needs_background": "light"
     },
     "output_type": "display_data"
    }
   ],
   "source": [
    "plt.scatter(y_train_pred,  y_train_pred - y_train,\n",
    "            c='blue', marker='o', label='Training data')\n",
    "plt.scatter(y_test_pred,  y_test_pred - y_test,\n",
    "            c='lightgreen', marker='s', label='Test data')\n",
    "plt.xlabel('Predicted values')\n",
    "plt.ylabel('Residuals')\n",
    "plt.legend(loc='upper left')\n",
    "plt.savefig('ResidualvsPredicted.png')\n",
    "plt.show()"
   ]
  },
  {
   "cell_type": "code",
   "execution_count": null,
   "metadata": {},
   "outputs": [],
   "source": []
  }
 ],
 "metadata": {
  "kernelspec": {
   "display_name": "Python 3",
   "language": "python",
   "name": "python3"
  },
  "language_info": {
   "codemirror_mode": {
    "name": "ipython",
    "version": 3
   },
   "file_extension": ".py",
   "mimetype": "text/x-python",
   "name": "python",
   "nbconvert_exporter": "python",
   "pygments_lexer": "ipython3",
   "version": "3.6.8"
  }
 },
 "nbformat": 4,
 "nbformat_minor": 2
}
